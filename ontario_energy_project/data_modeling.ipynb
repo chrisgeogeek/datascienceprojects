{
 "cells": [
  {
   "cell_type": "code",
   "execution_count": 1,
   "metadata": {},
   "outputs": [],
   "source": [
    "import numpy as np\n",
    "import pandas as pd\n",
    "import matplotlib.pyplot as plt\n",
    "%matplotlib inline"
   ]
  },
  {
   "cell_type": "code",
   "execution_count": 2,
   "metadata": {},
   "outputs": [
    {
     "data": {
      "text/html": [
       "<div>\n",
       "<style scoped>\n",
       "    .dataframe tbody tr th:only-of-type {\n",
       "        vertical-align: middle;\n",
       "    }\n",
       "\n",
       "    .dataframe tbody tr th {\n",
       "        vertical-align: top;\n",
       "    }\n",
       "\n",
       "    .dataframe thead th {\n",
       "        text-align: right;\n",
       "    }\n",
       "</style>\n",
       "<table border=\"1\" class=\"dataframe\">\n",
       "  <thead>\n",
       "    <tr style=\"text-align: right;\">\n",
       "      <th></th>\n",
       "      <th>date</th>\n",
       "      <th>demand</th>\n",
       "      <th>Friday</th>\n",
       "      <th>Monday</th>\n",
       "      <th>Saturday</th>\n",
       "      <th>Sunday</th>\n",
       "      <th>Thursday</th>\n",
       "      <th>Tuesday</th>\n",
       "      <th>Wednesday</th>\n",
       "      <th>TOR_heat</th>\n",
       "      <th>...</th>\n",
       "      <th>PET_heat</th>\n",
       "      <th>PET_cold</th>\n",
       "      <th>THU_heat</th>\n",
       "      <th>THU_cold</th>\n",
       "      <th>BEL_heat</th>\n",
       "      <th>BEL_cold</th>\n",
       "      <th>CHA_heat</th>\n",
       "      <th>CHA_cold</th>\n",
       "      <th>SAR_heat</th>\n",
       "      <th>SAR_cold</th>\n",
       "    </tr>\n",
       "  </thead>\n",
       "  <tbody>\n",
       "    <tr>\n",
       "      <th>0</th>\n",
       "      <td>2009-01-01</td>\n",
       "      <td>391706</td>\n",
       "      <td>0</td>\n",
       "      <td>0</td>\n",
       "      <td>0</td>\n",
       "      <td>0</td>\n",
       "      <td>1</td>\n",
       "      <td>0</td>\n",
       "      <td>0</td>\n",
       "      <td>0.0</td>\n",
       "      <td>...</td>\n",
       "      <td>0.0</td>\n",
       "      <td>42.6</td>\n",
       "      <td>0.0</td>\n",
       "      <td>41.2</td>\n",
       "      <td>0.0</td>\n",
       "      <td>38.0</td>\n",
       "      <td>0.0</td>\n",
       "      <td>32.000000</td>\n",
       "      <td>0.0</td>\n",
       "      <td>34.3</td>\n",
       "    </tr>\n",
       "    <tr>\n",
       "      <th>1</th>\n",
       "      <td>2009-01-02</td>\n",
       "      <td>398441</td>\n",
       "      <td>1</td>\n",
       "      <td>0</td>\n",
       "      <td>0</td>\n",
       "      <td>0</td>\n",
       "      <td>0</td>\n",
       "      <td>0</td>\n",
       "      <td>0</td>\n",
       "      <td>0.0</td>\n",
       "      <td>...</td>\n",
       "      <td>0.0</td>\n",
       "      <td>28.1</td>\n",
       "      <td>0.0</td>\n",
       "      <td>44.8</td>\n",
       "      <td>0.0</td>\n",
       "      <td>30.0</td>\n",
       "      <td>0.0</td>\n",
       "      <td>30.000000</td>\n",
       "      <td>0.0</td>\n",
       "      <td>28.3</td>\n",
       "    </tr>\n",
       "    <tr>\n",
       "      <th>2</th>\n",
       "      <td>2009-01-03</td>\n",
       "      <td>392559</td>\n",
       "      <td>0</td>\n",
       "      <td>0</td>\n",
       "      <td>1</td>\n",
       "      <td>0</td>\n",
       "      <td>0</td>\n",
       "      <td>0</td>\n",
       "      <td>0</td>\n",
       "      <td>0.0</td>\n",
       "      <td>...</td>\n",
       "      <td>0.0</td>\n",
       "      <td>33.0</td>\n",
       "      <td>0.0</td>\n",
       "      <td>46.5</td>\n",
       "      <td>0.0</td>\n",
       "      <td>29.5</td>\n",
       "      <td>0.0</td>\n",
       "      <td>28.666667</td>\n",
       "      <td>0.0</td>\n",
       "      <td>31.6</td>\n",
       "    </tr>\n",
       "    <tr>\n",
       "      <th>3</th>\n",
       "      <td>2009-01-04</td>\n",
       "      <td>400256</td>\n",
       "      <td>0</td>\n",
       "      <td>0</td>\n",
       "      <td>0</td>\n",
       "      <td>1</td>\n",
       "      <td>0</td>\n",
       "      <td>0</td>\n",
       "      <td>0</td>\n",
       "      <td>0.0</td>\n",
       "      <td>...</td>\n",
       "      <td>0.0</td>\n",
       "      <td>36.9</td>\n",
       "      <td>0.0</td>\n",
       "      <td>42.1</td>\n",
       "      <td>0.0</td>\n",
       "      <td>35.0</td>\n",
       "      <td>0.0</td>\n",
       "      <td>27.333333</td>\n",
       "      <td>0.0</td>\n",
       "      <td>28.3</td>\n",
       "    </tr>\n",
       "    <tr>\n",
       "      <th>4</th>\n",
       "      <td>2009-01-05</td>\n",
       "      <td>429761</td>\n",
       "      <td>0</td>\n",
       "      <td>1</td>\n",
       "      <td>0</td>\n",
       "      <td>0</td>\n",
       "      <td>0</td>\n",
       "      <td>0</td>\n",
       "      <td>0</td>\n",
       "      <td>0.0</td>\n",
       "      <td>...</td>\n",
       "      <td>0.0</td>\n",
       "      <td>30.4</td>\n",
       "      <td>0.0</td>\n",
       "      <td>52.2</td>\n",
       "      <td>0.0</td>\n",
       "      <td>27.0</td>\n",
       "      <td>0.0</td>\n",
       "      <td>26.000000</td>\n",
       "      <td>0.0</td>\n",
       "      <td>28.6</td>\n",
       "    </tr>\n",
       "  </tbody>\n",
       "</table>\n",
       "<p>5 rows × 43 columns</p>\n",
       "</div>"
      ],
      "text/plain": [
       "         date  demand  Friday  Monday  Saturday  Sunday  Thursday  Tuesday  \\\n",
       "0  2009-01-01  391706       0       0         0       0         1        0   \n",
       "1  2009-01-02  398441       1       0         0       0         0        0   \n",
       "2  2009-01-03  392559       0       0         1       0         0        0   \n",
       "3  2009-01-04  400256       0       0         0       1         0        0   \n",
       "4  2009-01-05  429761       0       1         0       0         0        0   \n",
       "\n",
       "   Wednesday  TOR_heat    ...     PET_heat  PET_cold  THU_heat  THU_cold  \\\n",
       "0          0       0.0    ...          0.0      42.6       0.0      41.2   \n",
       "1          0       0.0    ...          0.0      28.1       0.0      44.8   \n",
       "2          0       0.0    ...          0.0      33.0       0.0      46.5   \n",
       "3          0       0.0    ...          0.0      36.9       0.0      42.1   \n",
       "4          0       0.0    ...          0.0      30.4       0.0      52.2   \n",
       "\n",
       "   BEL_heat  BEL_cold  CHA_heat   CHA_cold  SAR_heat  SAR_cold  \n",
       "0       0.0      38.0       0.0  32.000000       0.0      34.3  \n",
       "1       0.0      30.0       0.0  30.000000       0.0      28.3  \n",
       "2       0.0      29.5       0.0  28.666667       0.0      31.6  \n",
       "3       0.0      35.0       0.0  27.333333       0.0      28.3  \n",
       "4       0.0      27.0       0.0  26.000000       0.0      28.6  \n",
       "\n",
       "[5 rows x 43 columns]"
      ]
     },
     "execution_count": 2,
     "metadata": {},
     "output_type": "execute_result"
    }
   ],
   "source": [
    "data = pd.read_csv('engineered.csv')\n",
    "data.head()"
   ]
  },
  {
   "cell_type": "code",
   "execution_count": 3,
   "metadata": {},
   "outputs": [],
   "source": [
    "data.drop('date', axis=1, inplace=True)"
   ]
  },
  {
   "cell_type": "code",
   "execution_count": 4,
   "metadata": {},
   "outputs": [
    {
     "name": "stdout",
     "output_type": "stream",
     "text": [
      "<class 'pandas.core.frame.DataFrame'>\n",
      "RangeIndex: 3652 entries, 0 to 3651\n",
      "Data columns (total 42 columns):\n",
      "demand       3652 non-null int64\n",
      "Friday       3652 non-null int64\n",
      "Monday       3652 non-null int64\n",
      "Saturday     3652 non-null int64\n",
      "Sunday       3652 non-null int64\n",
      "Thursday     3652 non-null int64\n",
      "Tuesday      3652 non-null int64\n",
      "Wednesday    3652 non-null int64\n",
      "TOR_heat     3652 non-null float64\n",
      "TOR_cold     3652 non-null float64\n",
      "OTT_heat     3652 non-null float64\n",
      "OTT_cold     3652 non-null float64\n",
      "HAM_heat     3652 non-null float64\n",
      "HAM_cold     3652 non-null float64\n",
      "ROS_heat     3652 non-null float64\n",
      "ROS_cold     3652 non-null float64\n",
      "LON_heat     3652 non-null float64\n",
      "LON_cold     3652 non-null float64\n",
      "POR_heat     3652 non-null float64\n",
      "POR_cold     3652 non-null float64\n",
      "OSH_heat     3652 non-null float64\n",
      "OSH_cold     3652 non-null float64\n",
      "WIN_heat     3652 non-null float64\n",
      "WIN_cold     3652 non-null float64\n",
      "BAR_heat     3652 non-null float64\n",
      "BAR_cold     3652 non-null float64\n",
      "KIL_heat     3652 non-null float64\n",
      "KIL_cold     3652 non-null float64\n",
      "KIN_heat     3652 non-null float64\n",
      "KIN_cold     3652 non-null float64\n",
      "GUE_heat     3652 non-null float64\n",
      "GUE_cold     3652 non-null float64\n",
      "PET_heat     3652 non-null float64\n",
      "PET_cold     3652 non-null float64\n",
      "THU_heat     3652 non-null float64\n",
      "THU_cold     3652 non-null float64\n",
      "BEL_heat     3652 non-null float64\n",
      "BEL_cold     3652 non-null float64\n",
      "CHA_heat     3652 non-null float64\n",
      "CHA_cold     3652 non-null float64\n",
      "SAR_heat     3652 non-null float64\n",
      "SAR_cold     3652 non-null float64\n",
      "dtypes: float64(34), int64(8)\n",
      "memory usage: 1.2 MB\n"
     ]
    }
   ],
   "source": [
    "data.info()"
   ]
  },
  {
   "cell_type": "code",
   "execution_count": 5,
   "metadata": {},
   "outputs": [],
   "source": [
    "from sklearn.model_selection import train_test_split, cross_val_predict, cross_val_score"
   ]
  },
  {
   "cell_type": "code",
   "execution_count": 6,
   "metadata": {},
   "outputs": [],
   "source": [
    "y = data['demand']\n",
    "X = data.drop('demand', axis=1)\n",
    "X_train, X_test, y_train, y_test = train_test_split(X, y, test_size=0.25, random_state=42)"
   ]
  },
  {
   "cell_type": "markdown",
   "metadata": {},
   "source": [
    "### Linear models"
   ]
  },
  {
   "cell_type": "code",
   "execution_count": 7,
   "metadata": {},
   "outputs": [],
   "source": [
    "from sklearn.linear_model import LinearRegression, Lasso, Ridge\n",
    "from sklearn.metrics import mean_squared_error"
   ]
  },
  {
   "cell_type": "code",
   "execution_count": 8,
   "metadata": {},
   "outputs": [
    {
     "data": {
      "text/plain": [
       "18664.62572629493"
      ]
     },
     "execution_count": 8,
     "metadata": {},
     "output_type": "execute_result"
    }
   ],
   "source": [
    "cv_preds = cross_val_predict(LinearRegression(), X=X_train, y=y_train, cv=5)\n",
    "np.sqrt(mean_squared_error(y_train, cv_preds))"
   ]
  },
  {
   "cell_type": "code",
   "execution_count": 9,
   "metadata": {},
   "outputs": [
    {
     "data": {
      "text/plain": [
       "18666.2992798945"
      ]
     },
     "execution_count": 9,
     "metadata": {},
     "output_type": "execute_result"
    }
   ],
   "source": [
    "# What about with normalize=True?\n",
    "np.sqrt(mean_squared_error(y_train, cross_val_predict(LinearRegression(normalize=True), X=X_train, y=y_train, cv=5)))"
   ]
  },
  {
   "cell_type": "markdown",
   "metadata": {},
   "source": [
    "Let's see how the predictions (with normalize=False) compare with the sorted true values."
   ]
  },
  {
   "cell_type": "code",
   "execution_count": 10,
   "metadata": {},
   "outputs": [],
   "source": [
    "temp = pd.DataFrame({'y_train': y_train, 'cv_preds': cv_preds})\n",
    "temp.sort_values('y_train', inplace=True)"
   ]
  },
  {
   "cell_type": "code",
   "execution_count": 11,
   "metadata": {},
   "outputs": [
    {
     "data": {
      "text/plain": [
       "<matplotlib.axes._subplots.AxesSubplot at 0x19a22bb3e10>"
      ]
     },
     "execution_count": 11,
     "metadata": {},
     "output_type": "execute_result"
    },
    {
     "data": {
      "image/png": "[encoded data removed]",
      "text/plain": [
       "<Figure size 864x576 with 1 Axes>"
      ]
     },
     "metadata": {
      "needs_background": "light"
     },
     "output_type": "display_data"
    }
   ],
   "source": [
    "temp.reset_index(inplace=True)\n",
    "temp.plot(y=['y_train', 'cv_preds'], alpha=0.5, ylim=[0, 550000], figsize=(12, 8))"
   ]
  },
  {
   "cell_type": "markdown",
   "metadata": {},
   "source": [
    "The predictions look pretty noisy. They do increase noticably with the true high values, but don't track well with the true low values.\n",
    "\n",
    "Let's look at the intercept and coefficients of the trained linear regression (when normalize=False)."
   ]
  },
  {
   "cell_type": "code",
   "execution_count": 12,
   "metadata": {},
   "outputs": [
    {
     "data": {
      "text/plain": [
       "LinearRegression(copy_X=True, fit_intercept=True, n_jobs=None,\n",
       "         normalize=False)"
      ]
     },
     "execution_count": 12,
     "metadata": {},
     "output_type": "execute_result"
    }
   ],
   "source": [
    "lr = LinearRegression()\n",
    "lr.fit(X=X_train, y=y_train)"
   ]
  },
  {
   "cell_type": "code",
   "execution_count": 13,
   "metadata": {},
   "outputs": [
    {
     "data": {
      "text/plain": [
       "303686.6017380646"
      ]
     },
     "execution_count": 13,
     "metadata": {},
     "output_type": "execute_result"
    }
   ],
   "source": [
    "lr.intercept_"
   ]
  },
  {
   "cell_type": "code",
   "execution_count": 14,
   "metadata": {},
   "outputs": [
    {
     "data": {
      "text/html": [
       "<div>\n",
       "<style scoped>\n",
       "    .dataframe tbody tr th:only-of-type {\n",
       "        vertical-align: middle;\n",
       "    }\n",
       "\n",
       "    .dataframe tbody tr th {\n",
       "        vertical-align: top;\n",
       "    }\n",
       "\n",
       "    .dataframe thead th {\n",
       "        text-align: right;\n",
       "    }\n",
       "</style>\n",
       "<table border=\"1\" class=\"dataframe\">\n",
       "  <thead>\n",
       "    <tr style=\"text-align: right;\">\n",
       "      <th></th>\n",
       "      <th>Feature</th>\n",
       "      <th>Coefficient</th>\n",
       "    </tr>\n",
       "  </thead>\n",
       "  <tbody>\n",
       "    <tr>\n",
       "      <th>0</th>\n",
       "      <td>Friday</td>\n",
       "      <td>4259.651631</td>\n",
       "    </tr>\n",
       "    <tr>\n",
       "      <th>1</th>\n",
       "      <td>Monday</td>\n",
       "      <td>5017.779730</td>\n",
       "    </tr>\n",
       "    <tr>\n",
       "      <th>2</th>\n",
       "      <td>Saturday</td>\n",
       "      <td>-19872.728665</td>\n",
       "    </tr>\n",
       "    <tr>\n",
       "      <th>3</th>\n",
       "      <td>Sunday</td>\n",
       "      <td>-27617.033414</td>\n",
       "    </tr>\n",
       "    <tr>\n",
       "      <th>4</th>\n",
       "      <td>Thursday</td>\n",
       "      <td>12164.913439</td>\n",
       "    </tr>\n",
       "    <tr>\n",
       "      <th>5</th>\n",
       "      <td>Tuesday</td>\n",
       "      <td>12196.705214</td>\n",
       "    </tr>\n",
       "    <tr>\n",
       "      <th>6</th>\n",
       "      <td>Wednesday</td>\n",
       "      <td>13850.712065</td>\n",
       "    </tr>\n",
       "    <tr>\n",
       "      <th>7</th>\n",
       "      <td>TOR_heat</td>\n",
       "      <td>-426.509824</td>\n",
       "    </tr>\n",
       "    <tr>\n",
       "      <th>8</th>\n",
       "      <td>TOR_cold</td>\n",
       "      <td>-1675.504042</td>\n",
       "    </tr>\n",
       "    <tr>\n",
       "      <th>9</th>\n",
       "      <td>OTT_heat</td>\n",
       "      <td>1531.335951</td>\n",
       "    </tr>\n",
       "    <tr>\n",
       "      <th>10</th>\n",
       "      <td>OTT_cold</td>\n",
       "      <td>1159.079940</td>\n",
       "    </tr>\n",
       "    <tr>\n",
       "      <th>11</th>\n",
       "      <td>HAM_heat</td>\n",
       "      <td>921.591794</td>\n",
       "    </tr>\n",
       "    <tr>\n",
       "      <th>12</th>\n",
       "      <td>HAM_cold</td>\n",
       "      <td>360.371946</td>\n",
       "    </tr>\n",
       "    <tr>\n",
       "      <th>13</th>\n",
       "      <td>ROS_heat</td>\n",
       "      <td>147.924617</td>\n",
       "    </tr>\n",
       "    <tr>\n",
       "      <th>14</th>\n",
       "      <td>ROS_cold</td>\n",
       "      <td>727.616537</td>\n",
       "    </tr>\n",
       "    <tr>\n",
       "      <th>15</th>\n",
       "      <td>LON_heat</td>\n",
       "      <td>3146.295768</td>\n",
       "    </tr>\n",
       "    <tr>\n",
       "      <th>16</th>\n",
       "      <td>LON_cold</td>\n",
       "      <td>849.127210</td>\n",
       "    </tr>\n",
       "    <tr>\n",
       "      <th>17</th>\n",
       "      <td>POR_heat</td>\n",
       "      <td>1319.495882</td>\n",
       "    </tr>\n",
       "    <tr>\n",
       "      <th>18</th>\n",
       "      <td>POR_cold</td>\n",
       "      <td>-149.359924</td>\n",
       "    </tr>\n",
       "    <tr>\n",
       "      <th>19</th>\n",
       "      <td>OSH_heat</td>\n",
       "      <td>3438.333667</td>\n",
       "    </tr>\n",
       "    <tr>\n",
       "      <th>20</th>\n",
       "      <td>OSH_cold</td>\n",
       "      <td>-83.095866</td>\n",
       "    </tr>\n",
       "    <tr>\n",
       "      <th>21</th>\n",
       "      <td>WIN_heat</td>\n",
       "      <td>1460.442142</td>\n",
       "    </tr>\n",
       "    <tr>\n",
       "      <th>22</th>\n",
       "      <td>WIN_cold</td>\n",
       "      <td>1007.901401</td>\n",
       "    </tr>\n",
       "    <tr>\n",
       "      <th>23</th>\n",
       "      <td>BAR_heat</td>\n",
       "      <td>1370.377019</td>\n",
       "    </tr>\n",
       "    <tr>\n",
       "      <th>24</th>\n",
       "      <td>BAR_cold</td>\n",
       "      <td>680.979728</td>\n",
       "    </tr>\n",
       "    <tr>\n",
       "      <th>25</th>\n",
       "      <td>KIL_heat</td>\n",
       "      <td>1125.487357</td>\n",
       "    </tr>\n",
       "    <tr>\n",
       "      <th>26</th>\n",
       "      <td>KIL_cold</td>\n",
       "      <td>471.941402</td>\n",
       "    </tr>\n",
       "    <tr>\n",
       "      <th>27</th>\n",
       "      <td>KIN_heat</td>\n",
       "      <td>3406.481628</td>\n",
       "    </tr>\n",
       "    <tr>\n",
       "      <th>28</th>\n",
       "      <td>KIN_cold</td>\n",
       "      <td>-765.746543</td>\n",
       "    </tr>\n",
       "    <tr>\n",
       "      <th>29</th>\n",
       "      <td>GUE_heat</td>\n",
       "      <td>-517.271304</td>\n",
       "    </tr>\n",
       "    <tr>\n",
       "      <th>30</th>\n",
       "      <td>GUE_cold</td>\n",
       "      <td>-879.668485</td>\n",
       "    </tr>\n",
       "    <tr>\n",
       "      <th>31</th>\n",
       "      <td>PET_heat</td>\n",
       "      <td>-2571.109421</td>\n",
       "    </tr>\n",
       "    <tr>\n",
       "      <th>32</th>\n",
       "      <td>PET_cold</td>\n",
       "      <td>127.630975</td>\n",
       "    </tr>\n",
       "    <tr>\n",
       "      <th>33</th>\n",
       "      <td>THU_heat</td>\n",
       "      <td>761.161071</td>\n",
       "    </tr>\n",
       "    <tr>\n",
       "      <th>34</th>\n",
       "      <td>THU_cold</td>\n",
       "      <td>644.094378</td>\n",
       "    </tr>\n",
       "    <tr>\n",
       "      <th>35</th>\n",
       "      <td>BEL_heat</td>\n",
       "      <td>2066.769163</td>\n",
       "    </tr>\n",
       "    <tr>\n",
       "      <th>36</th>\n",
       "      <td>BEL_cold</td>\n",
       "      <td>942.164164</td>\n",
       "    </tr>\n",
       "    <tr>\n",
       "      <th>37</th>\n",
       "      <td>CHA_heat</td>\n",
       "      <td>2452.609536</td>\n",
       "    </tr>\n",
       "    <tr>\n",
       "      <th>38</th>\n",
       "      <td>CHA_cold</td>\n",
       "      <td>1150.689413</td>\n",
       "    </tr>\n",
       "    <tr>\n",
       "      <th>39</th>\n",
       "      <td>SAR_heat</td>\n",
       "      <td>-894.409452</td>\n",
       "    </tr>\n",
       "    <tr>\n",
       "      <th>40</th>\n",
       "      <td>SAR_cold</td>\n",
       "      <td>-1351.500969</td>\n",
       "    </tr>\n",
       "  </tbody>\n",
       "</table>\n",
       "</div>"
      ],
      "text/plain": [
       "      Feature   Coefficient\n",
       "0      Friday   4259.651631\n",
       "1      Monday   5017.779730\n",
       "2    Saturday -19872.728665\n",
       "3      Sunday -27617.033414\n",
       "4    Thursday  12164.913439\n",
       "5     Tuesday  12196.705214\n",
       "6   Wednesday  13850.712065\n",
       "7    TOR_heat   -426.509824\n",
       "8    TOR_cold  -1675.504042\n",
       "9    OTT_heat   1531.335951\n",
       "10   OTT_cold   1159.079940\n",
       "11   HAM_heat    921.591794\n",
       "12   HAM_cold    360.371946\n",
       "13   ROS_heat    147.924617\n",
       "14   ROS_cold    727.616537\n",
       "15   LON_heat   3146.295768\n",
       "16   LON_cold    849.127210\n",
       "17   POR_heat   1319.495882\n",
       "18   POR_cold   -149.359924\n",
       "19   OSH_heat   3438.333667\n",
       "20   OSH_cold    -83.095866\n",
       "21   WIN_heat   1460.442142\n",
       "22   WIN_cold   1007.901401\n",
       "23   BAR_heat   1370.377019\n",
       "24   BAR_cold    680.979728\n",
       "25   KIL_heat   1125.487357\n",
       "26   KIL_cold    471.941402\n",
       "27   KIN_heat   3406.481628\n",
       "28   KIN_cold   -765.746543\n",
       "29   GUE_heat   -517.271304\n",
       "30   GUE_cold   -879.668485\n",
       "31   PET_heat  -2571.109421\n",
       "32   PET_cold    127.630975\n",
       "33   THU_heat    761.161071\n",
       "34   THU_cold    644.094378\n",
       "35   BEL_heat   2066.769163\n",
       "36   BEL_cold    942.164164\n",
       "37   CHA_heat   2452.609536\n",
       "38   CHA_cold   1150.689413\n",
       "39   SAR_heat   -894.409452\n",
       "40   SAR_cold  -1351.500969"
      ]
     },
     "execution_count": 14,
     "metadata": {},
     "output_type": "execute_result"
    }
   ],
   "source": [
    "pd.DataFrame({'Feature': list(data.drop('demand', axis=1).columns), 'Coefficient': lr.coef_})"
   ]
  },
  {
   "cell_type": "markdown",
   "metadata": {},
   "source": [
    "In absolute value, the biggest coefficients are those corresponding to the one-hot Saturday and Sunday features and these are both negative (-19873 and -27617, respectively). The next largest are the positive coefficients for the other days of the week, with those of Tuesday (12197), Wednesday (13851) and Thursday (12165) being much larger than those of Monday and Friday (5018 and 4260). Those 7 coefficients are all consistent with the mean demand by day of the week, which we saw early in the feature_engineering_daily notebook. According to this linear regression, every day of the week is a more important predictor than the daily temperatures at any of the included weather stations.\n",
    "\n",
    "Judging from the correlation scores shown at the end of the feature_engineering_daily notebook, the coefficients for the heat and cold features ought to be positive and those of the heat features should be higher than those of the cold features. Indeed, for 15 of the 17 regions, the heat coefficients are higher than the cold coefficients. However, 10 of the 34 heat and cold coefficients are negative, including both of those for Toronto (-427 for heat, -1676 for cold), which is particularly surprising given that these two features should have the largest positive influence given the size of the region's population (nearly half that of the whole province). Amoung the coefficients for the temperature features, there is a great deal of variation, ranging from -2571 (Peterborough heat) to 3438 (Oshawa heat). This variation is probably the result of over-fitting to random differences between the weather stations. Some degree of overfitting is to be expected with only 3652 data points having 41 dimensions.\n",
    "\n",
    "Let's see how these attributes differ when the linear regression is set to normalize=True (meaning each variable is rescaled to have their range in common)."
   ]
  },
  {
   "cell_type": "code",
   "execution_count": 15,
   "metadata": {},
   "outputs": [
    {
     "data": {
      "text/plain": [
       "-8.73803626435602e+16"
      ]
     },
     "execution_count": 15,
     "metadata": {},
     "output_type": "execute_result"
    }
   ],
   "source": [
    "lr2 = LinearRegression(normalize=True)\n",
    "lr2.fit(X=X_train, y=y_train)\n",
    "lr2.intercept_"
   ]
  },
  {
   "cell_type": "code",
   "execution_count": 16,
   "metadata": {},
   "outputs": [
    {
     "data": {
      "text/html": [
       "<div>\n",
       "<style scoped>\n",
       "    .dataframe tbody tr th:only-of-type {\n",
       "        vertical-align: middle;\n",
       "    }\n",
       "\n",
       "    .dataframe tbody tr th {\n",
       "        vertical-align: top;\n",
       "    }\n",
       "\n",
       "    .dataframe thead th {\n",
       "        text-align: right;\n",
       "    }\n",
       "</style>\n",
       "<table border=\"1\" class=\"dataframe\">\n",
       "  <thead>\n",
       "    <tr style=\"text-align: right;\">\n",
       "      <th></th>\n",
       "      <th>Feature</th>\n",
       "      <th>Coefficient</th>\n",
       "    </tr>\n",
       "  </thead>\n",
       "  <tbody>\n",
       "    <tr>\n",
       "      <th>0</th>\n",
       "      <td>Friday</td>\n",
       "      <td>8.738036e+16</td>\n",
       "    </tr>\n",
       "    <tr>\n",
       "      <th>1</th>\n",
       "      <td>Monday</td>\n",
       "      <td>8.738036e+16</td>\n",
       "    </tr>\n",
       "    <tr>\n",
       "      <th>2</th>\n",
       "      <td>Saturday</td>\n",
       "      <td>8.738036e+16</td>\n",
       "    </tr>\n",
       "    <tr>\n",
       "      <th>3</th>\n",
       "      <td>Sunday</td>\n",
       "      <td>8.738036e+16</td>\n",
       "    </tr>\n",
       "    <tr>\n",
       "      <th>4</th>\n",
       "      <td>Thursday</td>\n",
       "      <td>8.738036e+16</td>\n",
       "    </tr>\n",
       "    <tr>\n",
       "      <th>5</th>\n",
       "      <td>Tuesday</td>\n",
       "      <td>8.738036e+16</td>\n",
       "    </tr>\n",
       "    <tr>\n",
       "      <th>6</th>\n",
       "      <td>Wednesday</td>\n",
       "      <td>8.738036e+16</td>\n",
       "    </tr>\n",
       "    <tr>\n",
       "      <th>7</th>\n",
       "      <td>TOR_heat</td>\n",
       "      <td>-4.292257e+02</td>\n",
       "    </tr>\n",
       "    <tr>\n",
       "      <th>8</th>\n",
       "      <td>TOR_cold</td>\n",
       "      <td>-1.675681e+03</td>\n",
       "    </tr>\n",
       "    <tr>\n",
       "      <th>9</th>\n",
       "      <td>OTT_heat</td>\n",
       "      <td>1.532846e+03</td>\n",
       "    </tr>\n",
       "    <tr>\n",
       "      <th>10</th>\n",
       "      <td>OTT_cold</td>\n",
       "      <td>1.160854e+03</td>\n",
       "    </tr>\n",
       "    <tr>\n",
       "      <th>11</th>\n",
       "      <td>HAM_heat</td>\n",
       "      <td>9.230967e+02</td>\n",
       "    </tr>\n",
       "    <tr>\n",
       "      <th>12</th>\n",
       "      <td>HAM_cold</td>\n",
       "      <td>3.611725e+02</td>\n",
       "    </tr>\n",
       "    <tr>\n",
       "      <th>13</th>\n",
       "      <td>ROS_heat</td>\n",
       "      <td>1.476381e+02</td>\n",
       "    </tr>\n",
       "    <tr>\n",
       "      <th>14</th>\n",
       "      <td>ROS_cold</td>\n",
       "      <td>7.298812e+02</td>\n",
       "    </tr>\n",
       "    <tr>\n",
       "      <th>15</th>\n",
       "      <td>LON_heat</td>\n",
       "      <td>3.146969e+03</td>\n",
       "    </tr>\n",
       "    <tr>\n",
       "      <th>16</th>\n",
       "      <td>LON_cold</td>\n",
       "      <td>8.461761e+02</td>\n",
       "    </tr>\n",
       "    <tr>\n",
       "      <th>17</th>\n",
       "      <td>POR_heat</td>\n",
       "      <td>1.317727e+03</td>\n",
       "    </tr>\n",
       "    <tr>\n",
       "      <th>18</th>\n",
       "      <td>POR_cold</td>\n",
       "      <td>-1.505380e+02</td>\n",
       "    </tr>\n",
       "    <tr>\n",
       "      <th>19</th>\n",
       "      <td>OSH_heat</td>\n",
       "      <td>3.438574e+03</td>\n",
       "    </tr>\n",
       "    <tr>\n",
       "      <th>20</th>\n",
       "      <td>OSH_cold</td>\n",
       "      <td>-9.011919e+01</td>\n",
       "    </tr>\n",
       "    <tr>\n",
       "      <th>21</th>\n",
       "      <td>WIN_heat</td>\n",
       "      <td>1.461525e+03</td>\n",
       "    </tr>\n",
       "    <tr>\n",
       "      <th>22</th>\n",
       "      <td>WIN_cold</td>\n",
       "      <td>1.006940e+03</td>\n",
       "    </tr>\n",
       "    <tr>\n",
       "      <th>23</th>\n",
       "      <td>BAR_heat</td>\n",
       "      <td>1.369767e+03</td>\n",
       "    </tr>\n",
       "    <tr>\n",
       "      <th>24</th>\n",
       "      <td>BAR_cold</td>\n",
       "      <td>6.835150e+02</td>\n",
       "    </tr>\n",
       "    <tr>\n",
       "      <th>25</th>\n",
       "      <td>KIL_heat</td>\n",
       "      <td>1.124752e+03</td>\n",
       "    </tr>\n",
       "    <tr>\n",
       "      <th>26</th>\n",
       "      <td>KIL_cold</td>\n",
       "      <td>4.704739e+02</td>\n",
       "    </tr>\n",
       "    <tr>\n",
       "      <th>27</th>\n",
       "      <td>KIN_heat</td>\n",
       "      <td>3.405116e+03</td>\n",
       "    </tr>\n",
       "    <tr>\n",
       "      <th>28</th>\n",
       "      <td>KIN_cold</td>\n",
       "      <td>-7.628552e+02</td>\n",
       "    </tr>\n",
       "    <tr>\n",
       "      <th>29</th>\n",
       "      <td>GUE_heat</td>\n",
       "      <td>-5.184180e+02</td>\n",
       "    </tr>\n",
       "    <tr>\n",
       "      <th>30</th>\n",
       "      <td>GUE_cold</td>\n",
       "      <td>-8.868148e+02</td>\n",
       "    </tr>\n",
       "    <tr>\n",
       "      <th>31</th>\n",
       "      <td>PET_heat</td>\n",
       "      <td>-2.571650e+03</td>\n",
       "    </tr>\n",
       "    <tr>\n",
       "      <th>32</th>\n",
       "      <td>PET_cold</td>\n",
       "      <td>1.278630e+02</td>\n",
       "    </tr>\n",
       "    <tr>\n",
       "      <th>33</th>\n",
       "      <td>THU_heat</td>\n",
       "      <td>7.626348e+02</td>\n",
       "    </tr>\n",
       "    <tr>\n",
       "      <th>34</th>\n",
       "      <td>THU_cold</td>\n",
       "      <td>6.452606e+02</td>\n",
       "    </tr>\n",
       "    <tr>\n",
       "      <th>35</th>\n",
       "      <td>BEL_heat</td>\n",
       "      <td>2.063410e+03</td>\n",
       "    </tr>\n",
       "    <tr>\n",
       "      <th>36</th>\n",
       "      <td>BEL_cold</td>\n",
       "      <td>9.416094e+02</td>\n",
       "    </tr>\n",
       "    <tr>\n",
       "      <th>37</th>\n",
       "      <td>CHA_heat</td>\n",
       "      <td>2.452534e+03</td>\n",
       "    </tr>\n",
       "    <tr>\n",
       "      <th>38</th>\n",
       "      <td>CHA_cold</td>\n",
       "      <td>1.150493e+03</td>\n",
       "    </tr>\n",
       "    <tr>\n",
       "      <th>39</th>\n",
       "      <td>SAR_heat</td>\n",
       "      <td>-8.929035e+02</td>\n",
       "    </tr>\n",
       "    <tr>\n",
       "      <th>40</th>\n",
       "      <td>SAR_cold</td>\n",
       "      <td>-1.343899e+03</td>\n",
       "    </tr>\n",
       "  </tbody>\n",
       "</table>\n",
       "</div>"
      ],
      "text/plain": [
       "      Feature   Coefficient\n",
       "0      Friday  8.738036e+16\n",
       "1      Monday  8.738036e+16\n",
       "2    Saturday  8.738036e+16\n",
       "3      Sunday  8.738036e+16\n",
       "4    Thursday  8.738036e+16\n",
       "5     Tuesday  8.738036e+16\n",
       "6   Wednesday  8.738036e+16\n",
       "7    TOR_heat -4.292257e+02\n",
       "8    TOR_cold -1.675681e+03\n",
       "9    OTT_heat  1.532846e+03\n",
       "10   OTT_cold  1.160854e+03\n",
       "11   HAM_heat  9.230967e+02\n",
       "12   HAM_cold  3.611725e+02\n",
       "13   ROS_heat  1.476381e+02\n",
       "14   ROS_cold  7.298812e+02\n",
       "15   LON_heat  3.146969e+03\n",
       "16   LON_cold  8.461761e+02\n",
       "17   POR_heat  1.317727e+03\n",
       "18   POR_cold -1.505380e+02\n",
       "19   OSH_heat  3.438574e+03\n",
       "20   OSH_cold -9.011919e+01\n",
       "21   WIN_heat  1.461525e+03\n",
       "22   WIN_cold  1.006940e+03\n",
       "23   BAR_heat  1.369767e+03\n",
       "24   BAR_cold  6.835150e+02\n",
       "25   KIL_heat  1.124752e+03\n",
       "26   KIL_cold  4.704739e+02\n",
       "27   KIN_heat  3.405116e+03\n",
       "28   KIN_cold -7.628552e+02\n",
       "29   GUE_heat -5.184180e+02\n",
       "30   GUE_cold -8.868148e+02\n",
       "31   PET_heat -2.571650e+03\n",
       "32   PET_cold  1.278630e+02\n",
       "33   THU_heat  7.626348e+02\n",
       "34   THU_cold  6.452606e+02\n",
       "35   BEL_heat  2.063410e+03\n",
       "36   BEL_cold  9.416094e+02\n",
       "37   CHA_heat  2.452534e+03\n",
       "38   CHA_cold  1.150493e+03\n",
       "39   SAR_heat -8.929035e+02\n",
       "40   SAR_cold -1.343899e+03"
      ]
     },
     "execution_count": 16,
     "metadata": {},
     "output_type": "execute_result"
    }
   ],
   "source": [
    "pd.DataFrame({'Feature': list(data.drop('demand', axis=1).columns), 'Coefficient': lr2.coef_})"
   ]
  },
  {
   "cell_type": "markdown",
   "metadata": {},
   "source": [
    "Looking at these coefficients, it's clear that this data is totally unsuited to normalization by the linear regressor. The coefficients for the days of the week are all identical and 10^13 times larger than those of the heat and cold features."
   ]
  },
  {
   "cell_type": "code",
   "execution_count": 17,
   "metadata": {},
   "outputs": [
    {
     "data": {
      "text/plain": [
       "18558.918065404534"
      ]
     },
     "execution_count": 17,
     "metadata": {},
     "output_type": "execute_result"
    }
   ],
   "source": [
    "lr_preds = lr.predict(X_test)\n",
    "np.sqrt(mean_squared_error(y_test, lr_preds))"
   ]
  },
  {
   "cell_type": "code",
   "execution_count": 18,
   "metadata": {},
   "outputs": [
    {
     "data": {
      "text/plain": [
       "18555.093514559918"
      ]
     },
     "execution_count": 18,
     "metadata": {},
     "output_type": "execute_result"
    }
   ],
   "source": [
    "lr2_preds = lr2.predict(X_test)\n",
    "np.sqrt(mean_squared_error(y_test, lr2_preds))"
   ]
  },
  {
   "cell_type": "markdown",
   "metadata": {},
   "source": [
    "### Random Forests and GBRs"
   ]
  },
  {
   "cell_type": "code",
   "execution_count": 19,
   "metadata": {},
   "outputs": [],
   "source": [
    "from sklearn.ensemble import RandomForestRegressor, GradientBoostingRegressor"
   ]
  },
  {
   "cell_type": "code",
   "execution_count": 20,
   "metadata": {},
   "outputs": [
    {
     "data": {
      "text/plain": [
       "15804.283313882037"
      ]
     },
     "execution_count": 20,
     "metadata": {},
     "output_type": "execute_result"
    }
   ],
   "source": [
    "rf_cv_preds = cross_val_predict(RandomForestRegressor(n_estimators=60, random_state=42), X=X_train, y=y_train, cv=5)\n",
    "np.sqrt(mean_squared_error(y_train, rf_cv_preds))"
   ]
  },
  {
   "cell_type": "markdown",
   "metadata": {},
   "source": [
    "The root-mean-squared-error of a basic RF is better than that of the linear regression (18665)"
   ]
  },
  {
   "cell_type": "code",
   "execution_count": 21,
   "metadata": {},
   "outputs": [
    {
     "data": {
      "text/plain": [
       "<matplotlib.axes._subplots.AxesSubplot at 0x19a235ac470>"
      ]
     },
     "execution_count": 21,
     "metadata": {},
     "output_type": "execute_result"
    },
    {
     "data": {
      "image/png": "[encoded data removed]",
      "text/plain": [
       "<Figure size 864x576 with 1 Axes>"
      ]
     },
     "metadata": {
      "needs_background": "light"
     },
     "output_type": "display_data"
    }
   ],
   "source": [
    "temp = pd.DataFrame({'y_train': y_train, 'rf_cv_preds': rf_cv_preds})\n",
    "temp.sort_values('y_train', inplace=True)\n",
    "temp.reset_index(inplace=True)\n",
    "temp.plot(y=['y_train', 'rf_cv_preds'], alpha=0.5, ylim=[0, 550000], figsize=(12, 8))"
   ]
  },
  {
   "cell_type": "markdown",
   "metadata": {},
   "source": [
    "When compared with the sorted true values, the random forest's predictions look pretty noisy, like those of the linear regression. Like the linear model, it also has a hard time with the extreme values."
   ]
  },
  {
   "cell_type": "code",
   "execution_count": 22,
   "metadata": {},
   "outputs": [
    {
     "data": {
      "text/plain": [
       "RandomForestRegressor(bootstrap=True, criterion='mse', max_depth=None,\n",
       "           max_features='auto', max_leaf_nodes=None,\n",
       "           min_impurity_decrease=0.0, min_impurity_split=None,\n",
       "           min_samples_leaf=1, min_samples_split=2,\n",
       "           min_weight_fraction_leaf=0.0, n_estimators=60, n_jobs=None,\n",
       "           oob_score=False, random_state=42, verbose=0, warm_start=False)"
      ]
     },
     "execution_count": 22,
     "metadata": {},
     "output_type": "execute_result"
    }
   ],
   "source": [
    "rf = RandomForestRegressor(n_estimators=60, random_state=42)\n",
    "rf.fit(X=X_train, y=y_train)"
   ]
  },
  {
   "cell_type": "code",
   "execution_count": 23,
   "metadata": {},
   "outputs": [
    {
     "data": {
      "text/html": [
       "<div>\n",
       "<style scoped>\n",
       "    .dataframe tbody tr th:only-of-type {\n",
       "        vertical-align: middle;\n",
       "    }\n",
       "\n",
       "    .dataframe tbody tr th {\n",
       "        vertical-align: top;\n",
       "    }\n",
       "\n",
       "    .dataframe thead th {\n",
       "        text-align: right;\n",
       "    }\n",
       "</style>\n",
       "<table border=\"1\" class=\"dataframe\">\n",
       "  <thead>\n",
       "    <tr style=\"text-align: right;\">\n",
       "      <th></th>\n",
       "      <th>Feature</th>\n",
       "      <th>Feature Importance %</th>\n",
       "    </tr>\n",
       "  </thead>\n",
       "  <tbody>\n",
       "    <tr>\n",
       "      <th>0</th>\n",
       "      <td>Friday</td>\n",
       "      <td>0.135927</td>\n",
       "    </tr>\n",
       "    <tr>\n",
       "      <th>1</th>\n",
       "      <td>Monday</td>\n",
       "      <td>0.140313</td>\n",
       "    </tr>\n",
       "    <tr>\n",
       "      <th>2</th>\n",
       "      <td>Saturday</td>\n",
       "      <td>5.215713</td>\n",
       "    </tr>\n",
       "    <tr>\n",
       "      <th>3</th>\n",
       "      <td>Sunday</td>\n",
       "      <td>6.800328</td>\n",
       "    </tr>\n",
       "    <tr>\n",
       "      <th>4</th>\n",
       "      <td>Thursday</td>\n",
       "      <td>0.054931</td>\n",
       "    </tr>\n",
       "    <tr>\n",
       "      <th>5</th>\n",
       "      <td>Tuesday</td>\n",
       "      <td>0.071660</td>\n",
       "    </tr>\n",
       "    <tr>\n",
       "      <th>6</th>\n",
       "      <td>Wednesday</td>\n",
       "      <td>0.113120</td>\n",
       "    </tr>\n",
       "    <tr>\n",
       "      <th>7</th>\n",
       "      <td>TOR_heat</td>\n",
       "      <td>1.711449</td>\n",
       "    </tr>\n",
       "    <tr>\n",
       "      <th>8</th>\n",
       "      <td>TOR_cold</td>\n",
       "      <td>1.686848</td>\n",
       "    </tr>\n",
       "    <tr>\n",
       "      <th>9</th>\n",
       "      <td>OTT_heat</td>\n",
       "      <td>0.316956</td>\n",
       "    </tr>\n",
       "    <tr>\n",
       "      <th>10</th>\n",
       "      <td>OTT_cold</td>\n",
       "      <td>2.006478</td>\n",
       "    </tr>\n",
       "    <tr>\n",
       "      <th>11</th>\n",
       "      <td>HAM_heat</td>\n",
       "      <td>1.769742</td>\n",
       "    </tr>\n",
       "    <tr>\n",
       "      <th>12</th>\n",
       "      <td>HAM_cold</td>\n",
       "      <td>2.482353</td>\n",
       "    </tr>\n",
       "    <tr>\n",
       "      <th>13</th>\n",
       "      <td>ROS_heat</td>\n",
       "      <td>0.544459</td>\n",
       "    </tr>\n",
       "    <tr>\n",
       "      <th>14</th>\n",
       "      <td>ROS_cold</td>\n",
       "      <td>1.667661</td>\n",
       "    </tr>\n",
       "    <tr>\n",
       "      <th>15</th>\n",
       "      <td>LON_heat</td>\n",
       "      <td>1.176642</td>\n",
       "    </tr>\n",
       "    <tr>\n",
       "      <th>16</th>\n",
       "      <td>LON_cold</td>\n",
       "      <td>0.983092</td>\n",
       "    </tr>\n",
       "    <tr>\n",
       "      <th>17</th>\n",
       "      <td>POR_heat</td>\n",
       "      <td>0.301838</td>\n",
       "    </tr>\n",
       "    <tr>\n",
       "      <th>18</th>\n",
       "      <td>POR_cold</td>\n",
       "      <td>37.573341</td>\n",
       "    </tr>\n",
       "    <tr>\n",
       "      <th>19</th>\n",
       "      <td>OSH_heat</td>\n",
       "      <td>1.311200</td>\n",
       "    </tr>\n",
       "    <tr>\n",
       "      <th>20</th>\n",
       "      <td>OSH_cold</td>\n",
       "      <td>1.021588</td>\n",
       "    </tr>\n",
       "    <tr>\n",
       "      <th>21</th>\n",
       "      <td>WIN_heat</td>\n",
       "      <td>0.251862</td>\n",
       "    </tr>\n",
       "    <tr>\n",
       "      <th>22</th>\n",
       "      <td>WIN_cold</td>\n",
       "      <td>1.496769</td>\n",
       "    </tr>\n",
       "    <tr>\n",
       "      <th>23</th>\n",
       "      <td>BAR_heat</td>\n",
       "      <td>1.088648</td>\n",
       "    </tr>\n",
       "    <tr>\n",
       "      <th>24</th>\n",
       "      <td>BAR_cold</td>\n",
       "      <td>1.075088</td>\n",
       "    </tr>\n",
       "    <tr>\n",
       "      <th>25</th>\n",
       "      <td>KIL_heat</td>\n",
       "      <td>0.114729</td>\n",
       "    </tr>\n",
       "    <tr>\n",
       "      <th>26</th>\n",
       "      <td>KIL_cold</td>\n",
       "      <td>1.226403</td>\n",
       "    </tr>\n",
       "    <tr>\n",
       "      <th>27</th>\n",
       "      <td>KIN_heat</td>\n",
       "      <td>10.240464</td>\n",
       "    </tr>\n",
       "    <tr>\n",
       "      <th>28</th>\n",
       "      <td>KIN_cold</td>\n",
       "      <td>0.991012</td>\n",
       "    </tr>\n",
       "    <tr>\n",
       "      <th>29</th>\n",
       "      <td>GUE_heat</td>\n",
       "      <td>0.454332</td>\n",
       "    </tr>\n",
       "    <tr>\n",
       "      <th>30</th>\n",
       "      <td>GUE_cold</td>\n",
       "      <td>0.735803</td>\n",
       "    </tr>\n",
       "    <tr>\n",
       "      <th>31</th>\n",
       "      <td>PET_heat</td>\n",
       "      <td>0.721852</td>\n",
       "    </tr>\n",
       "    <tr>\n",
       "      <th>32</th>\n",
       "      <td>PET_cold</td>\n",
       "      <td>1.072715</td>\n",
       "    </tr>\n",
       "    <tr>\n",
       "      <th>33</th>\n",
       "      <td>THU_heat</td>\n",
       "      <td>0.180372</td>\n",
       "    </tr>\n",
       "    <tr>\n",
       "      <th>34</th>\n",
       "      <td>THU_cold</td>\n",
       "      <td>1.359829</td>\n",
       "    </tr>\n",
       "    <tr>\n",
       "      <th>35</th>\n",
       "      <td>BEL_heat</td>\n",
       "      <td>0.396007</td>\n",
       "    </tr>\n",
       "    <tr>\n",
       "      <th>36</th>\n",
       "      <td>BEL_cold</td>\n",
       "      <td>0.951962</td>\n",
       "    </tr>\n",
       "    <tr>\n",
       "      <th>37</th>\n",
       "      <td>CHA_heat</td>\n",
       "      <td>0.444746</td>\n",
       "    </tr>\n",
       "    <tr>\n",
       "      <th>38</th>\n",
       "      <td>CHA_cold</td>\n",
       "      <td>4.495619</td>\n",
       "    </tr>\n",
       "    <tr>\n",
       "      <th>39</th>\n",
       "      <td>SAR_heat</td>\n",
       "      <td>0.484965</td>\n",
       "    </tr>\n",
       "    <tr>\n",
       "      <th>40</th>\n",
       "      <td>SAR_cold</td>\n",
       "      <td>5.131184</td>\n",
       "    </tr>\n",
       "  </tbody>\n",
       "</table>\n",
       "</div>"
      ],
      "text/plain": [
       "      Feature  Feature Importance %\n",
       "0      Friday              0.135927\n",
       "1      Monday              0.140313\n",
       "2    Saturday              5.215713\n",
       "3      Sunday              6.800328\n",
       "4    Thursday              0.054931\n",
       "5     Tuesday              0.071660\n",
       "6   Wednesday              0.113120\n",
       "7    TOR_heat              1.711449\n",
       "8    TOR_cold              1.686848\n",
       "9    OTT_heat              0.316956\n",
       "10   OTT_cold              2.006478\n",
       "11   HAM_heat              1.769742\n",
       "12   HAM_cold              2.482353\n",
       "13   ROS_heat              0.544459\n",
       "14   ROS_cold              1.667661\n",
       "15   LON_heat              1.176642\n",
       "16   LON_cold              0.983092\n",
       "17   POR_heat              0.301838\n",
       "18   POR_cold             37.573341\n",
       "19   OSH_heat              1.311200\n",
       "20   OSH_cold              1.021588\n",
       "21   WIN_heat              0.251862\n",
       "22   WIN_cold              1.496769\n",
       "23   BAR_heat              1.088648\n",
       "24   BAR_cold              1.075088\n",
       "25   KIL_heat              0.114729\n",
       "26   KIL_cold              1.226403\n",
       "27   KIN_heat             10.240464\n",
       "28   KIN_cold              0.991012\n",
       "29   GUE_heat              0.454332\n",
       "30   GUE_cold              0.735803\n",
       "31   PET_heat              0.721852\n",
       "32   PET_cold              1.072715\n",
       "33   THU_heat              0.180372\n",
       "34   THU_cold              1.359829\n",
       "35   BEL_heat              0.396007\n",
       "36   BEL_cold              0.951962\n",
       "37   CHA_heat              0.444746\n",
       "38   CHA_cold              4.495619\n",
       "39   SAR_heat              0.484965\n",
       "40   SAR_cold              5.131184"
      ]
     },
     "execution_count": 23,
     "metadata": {},
     "output_type": "execute_result"
    }
   ],
   "source": [
    "pd.DataFrame({'Feature': list(data.drop('demand', axis=1).columns), 'Feature Importance %': rf.feature_importances_ * 100})"
   ]
  },
  {
   "cell_type": "markdown",
   "metadata": {},
   "source": [
    "According to this random forest, by far the most important feature (38% of all splittings) is how cold it is in the St. Catharines - Niagara region. The next most important feature (a distant second place at 10%) is heat in Kingston. Saturday and Sunday have some importance (5% and 7%, respectively), as does cold in Sarnia (5%) and cold in Chatham-Kent (4%). All other features are 2.5% or less. These figures make the validity of this model very doubtful and I attribute it to heavy overfitting to noise in the data. As noted before, some degree of overfitting is to be expected with only 3652 data points having 41 dimensions, but in this case it's extreme."
   ]
  },
  {
   "cell_type": "code",
   "execution_count": 24,
   "metadata": {},
   "outputs": [
    {
     "data": {
      "text/plain": [
       "15767.457663616224"
      ]
     },
     "execution_count": 24,
     "metadata": {},
     "output_type": "execute_result"
    }
   ],
   "source": [
    "rf_preds = rf.predict(X_test)\n",
    "np.sqrt(mean_squared_error(y_test, rf_preds))"
   ]
  },
  {
   "cell_type": "markdown",
   "metadata": {},
   "source": [
    "#### Gradient Boosting Regressor (GBR)"
   ]
  },
  {
   "cell_type": "code",
   "execution_count": 25,
   "metadata": {},
   "outputs": [
    {
     "data": {
      "text/plain": [
       "15248.283993343548"
      ]
     },
     "execution_count": 25,
     "metadata": {},
     "output_type": "execute_result"
    }
   ],
   "source": [
    "gbr_cv_preds = cross_val_predict(GradientBoostingRegressor(n_estimators=100, random_state=42), X=X_train, y=y_train, cv=5)\n",
    "np.sqrt(mean_squared_error(y_train, gbr_cv_preds))"
   ]
  },
  {
   "cell_type": "markdown",
   "metadata": {},
   "source": [
    "This root-mean-squared-error of this basic GBR is somewhat better than that of the RF (15804) and obviously better than that of the linear regression (18665)"
   ]
  },
  {
   "cell_type": "code",
   "execution_count": 26,
   "metadata": {},
   "outputs": [
    {
     "data": {
      "text/plain": [
       "<matplotlib.axes._subplots.AxesSubplot at 0x19a2362e630>"
      ]
     },
     "execution_count": 26,
     "metadata": {},
     "output_type": "execute_result"
    },
    {
     "data": {
      "image/png": "[encoded data removed]",
      "text/plain": [
       "<Figure size 864x576 with 1 Axes>"
      ]
     },
     "metadata": {
      "needs_background": "light"
     },
     "output_type": "display_data"
    }
   ],
   "source": [
    "temp = pd.DataFrame({'y_train': y_train, 'gbr_cv_preds': gbr_cv_preds})\n",
    "temp.sort_values('y_train', inplace=True)\n",
    "temp.reset_index(inplace=True)\n",
    "temp.plot(y=['y_train', 'gbr_cv_preds'], alpha=0.5, ylim=[0, 550000], figsize=(12, 8))"
   ]
  },
  {
   "cell_type": "markdown",
   "metadata": {},
   "source": [
    "Like the linear model and RF, the gradient boosting regressor has a particularly hard time with the extreme values."
   ]
  },
  {
   "cell_type": "code",
   "execution_count": 27,
   "metadata": {},
   "outputs": [
    {
     "data": {
      "text/plain": [
       "GradientBoostingRegressor(alpha=0.9, criterion='friedman_mse', init=None,\n",
       "             learning_rate=0.1, loss='ls', max_depth=3, max_features=None,\n",
       "             max_leaf_nodes=None, min_impurity_decrease=0.0,\n",
       "             min_impurity_split=None, min_samples_leaf=1,\n",
       "             min_samples_split=2, min_weight_fraction_leaf=0.0,\n",
       "             n_estimators=100, n_iter_no_change=None, presort='auto',\n",
       "             random_state=42, subsample=1.0, tol=0.0001,\n",
       "             validation_fraction=0.1, verbose=0, warm_start=False)"
      ]
     },
     "execution_count": 27,
     "metadata": {},
     "output_type": "execute_result"
    }
   ],
   "source": [
    "gbr = GradientBoostingRegressor(n_estimators=100, random_state=42)\n",
    "gbr.fit(X=X_train, y=y_train)"
   ]
  },
  {
   "cell_type": "code",
   "execution_count": 28,
   "metadata": {},
   "outputs": [
    {
     "data": {
      "text/html": [
       "<div>\n",
       "<style scoped>\n",
       "    .dataframe tbody tr th:only-of-type {\n",
       "        vertical-align: middle;\n",
       "    }\n",
       "\n",
       "    .dataframe tbody tr th {\n",
       "        vertical-align: top;\n",
       "    }\n",
       "\n",
       "    .dataframe thead th {\n",
       "        text-align: right;\n",
       "    }\n",
       "</style>\n",
       "<table border=\"1\" class=\"dataframe\">\n",
       "  <thead>\n",
       "    <tr style=\"text-align: right;\">\n",
       "      <th></th>\n",
       "      <th>Feature</th>\n",
       "      <th>Feature Importance %</th>\n",
       "    </tr>\n",
       "  </thead>\n",
       "  <tbody>\n",
       "    <tr>\n",
       "      <th>0</th>\n",
       "      <td>Friday</td>\n",
       "      <td>0.000000</td>\n",
       "    </tr>\n",
       "    <tr>\n",
       "      <th>1</th>\n",
       "      <td>Monday</td>\n",
       "      <td>0.016905</td>\n",
       "    </tr>\n",
       "    <tr>\n",
       "      <th>2</th>\n",
       "      <td>Saturday</td>\n",
       "      <td>6.274682</td>\n",
       "    </tr>\n",
       "    <tr>\n",
       "      <th>3</th>\n",
       "      <td>Sunday</td>\n",
       "      <td>9.121569</td>\n",
       "    </tr>\n",
       "    <tr>\n",
       "      <th>4</th>\n",
       "      <td>Thursday</td>\n",
       "      <td>0.370938</td>\n",
       "    </tr>\n",
       "    <tr>\n",
       "      <th>5</th>\n",
       "      <td>Tuesday</td>\n",
       "      <td>0.307606</td>\n",
       "    </tr>\n",
       "    <tr>\n",
       "      <th>6</th>\n",
       "      <td>Wednesday</td>\n",
       "      <td>0.402462</td>\n",
       "    </tr>\n",
       "    <tr>\n",
       "      <th>7</th>\n",
       "      <td>TOR_heat</td>\n",
       "      <td>3.021712</td>\n",
       "    </tr>\n",
       "    <tr>\n",
       "      <th>8</th>\n",
       "      <td>TOR_cold</td>\n",
       "      <td>3.069237</td>\n",
       "    </tr>\n",
       "    <tr>\n",
       "      <th>9</th>\n",
       "      <td>OTT_heat</td>\n",
       "      <td>0.376448</td>\n",
       "    </tr>\n",
       "    <tr>\n",
       "      <th>10</th>\n",
       "      <td>OTT_cold</td>\n",
       "      <td>5.246307</td>\n",
       "    </tr>\n",
       "    <tr>\n",
       "      <th>11</th>\n",
       "      <td>HAM_heat</td>\n",
       "      <td>2.466776</td>\n",
       "    </tr>\n",
       "    <tr>\n",
       "      <th>12</th>\n",
       "      <td>HAM_cold</td>\n",
       "      <td>1.668870</td>\n",
       "    </tr>\n",
       "    <tr>\n",
       "      <th>13</th>\n",
       "      <td>ROS_heat</td>\n",
       "      <td>1.028685</td>\n",
       "    </tr>\n",
       "    <tr>\n",
       "      <th>14</th>\n",
       "      <td>ROS_cold</td>\n",
       "      <td>0.695040</td>\n",
       "    </tr>\n",
       "    <tr>\n",
       "      <th>15</th>\n",
       "      <td>LON_heat</td>\n",
       "      <td>1.981097</td>\n",
       "    </tr>\n",
       "    <tr>\n",
       "      <th>16</th>\n",
       "      <td>LON_cold</td>\n",
       "      <td>0.498193</td>\n",
       "    </tr>\n",
       "    <tr>\n",
       "      <th>17</th>\n",
       "      <td>POR_heat</td>\n",
       "      <td>0.027741</td>\n",
       "    </tr>\n",
       "    <tr>\n",
       "      <th>18</th>\n",
       "      <td>POR_cold</td>\n",
       "      <td>25.843459</td>\n",
       "    </tr>\n",
       "    <tr>\n",
       "      <th>19</th>\n",
       "      <td>OSH_heat</td>\n",
       "      <td>0.941690</td>\n",
       "    </tr>\n",
       "    <tr>\n",
       "      <th>20</th>\n",
       "      <td>OSH_cold</td>\n",
       "      <td>0.793972</td>\n",
       "    </tr>\n",
       "    <tr>\n",
       "      <th>21</th>\n",
       "      <td>WIN_heat</td>\n",
       "      <td>0.165996</td>\n",
       "    </tr>\n",
       "    <tr>\n",
       "      <th>22</th>\n",
       "      <td>WIN_cold</td>\n",
       "      <td>2.786116</td>\n",
       "    </tr>\n",
       "    <tr>\n",
       "      <th>23</th>\n",
       "      <td>BAR_heat</td>\n",
       "      <td>0.798367</td>\n",
       "    </tr>\n",
       "    <tr>\n",
       "      <th>24</th>\n",
       "      <td>BAR_cold</td>\n",
       "      <td>0.518867</td>\n",
       "    </tr>\n",
       "    <tr>\n",
       "      <th>25</th>\n",
       "      <td>KIL_heat</td>\n",
       "      <td>0.089126</td>\n",
       "    </tr>\n",
       "    <tr>\n",
       "      <th>26</th>\n",
       "      <td>KIL_cold</td>\n",
       "      <td>2.145776</td>\n",
       "    </tr>\n",
       "    <tr>\n",
       "      <th>27</th>\n",
       "      <td>KIN_heat</td>\n",
       "      <td>7.100721</td>\n",
       "    </tr>\n",
       "    <tr>\n",
       "      <th>28</th>\n",
       "      <td>KIN_cold</td>\n",
       "      <td>0.344519</td>\n",
       "    </tr>\n",
       "    <tr>\n",
       "      <th>29</th>\n",
       "      <td>GUE_heat</td>\n",
       "      <td>0.007976</td>\n",
       "    </tr>\n",
       "    <tr>\n",
       "      <th>30</th>\n",
       "      <td>GUE_cold</td>\n",
       "      <td>0.159923</td>\n",
       "    </tr>\n",
       "    <tr>\n",
       "      <th>31</th>\n",
       "      <td>PET_heat</td>\n",
       "      <td>0.616777</td>\n",
       "    </tr>\n",
       "    <tr>\n",
       "      <th>32</th>\n",
       "      <td>PET_cold</td>\n",
       "      <td>0.863197</td>\n",
       "    </tr>\n",
       "    <tr>\n",
       "      <th>33</th>\n",
       "      <td>THU_heat</td>\n",
       "      <td>0.013728</td>\n",
       "    </tr>\n",
       "    <tr>\n",
       "      <th>34</th>\n",
       "      <td>THU_cold</td>\n",
       "      <td>2.213790</td>\n",
       "    </tr>\n",
       "    <tr>\n",
       "      <th>35</th>\n",
       "      <td>BEL_heat</td>\n",
       "      <td>0.068629</td>\n",
       "    </tr>\n",
       "    <tr>\n",
       "      <th>36</th>\n",
       "      <td>BEL_cold</td>\n",
       "      <td>0.661805</td>\n",
       "    </tr>\n",
       "    <tr>\n",
       "      <th>37</th>\n",
       "      <td>CHA_heat</td>\n",
       "      <td>1.268654</td>\n",
       "    </tr>\n",
       "    <tr>\n",
       "      <th>38</th>\n",
       "      <td>CHA_cold</td>\n",
       "      <td>8.626780</td>\n",
       "    </tr>\n",
       "    <tr>\n",
       "      <th>39</th>\n",
       "      <td>SAR_heat</td>\n",
       "      <td>0.088991</td>\n",
       "    </tr>\n",
       "    <tr>\n",
       "      <th>40</th>\n",
       "      <td>SAR_cold</td>\n",
       "      <td>7.306871</td>\n",
       "    </tr>\n",
       "  </tbody>\n",
       "</table>\n",
       "</div>"
      ],
      "text/plain": [
       "      Feature  Feature Importance %\n",
       "0      Friday              0.000000\n",
       "1      Monday              0.016905\n",
       "2    Saturday              6.274682\n",
       "3      Sunday              9.121569\n",
       "4    Thursday              0.370938\n",
       "5     Tuesday              0.307606\n",
       "6   Wednesday              0.402462\n",
       "7    TOR_heat              3.021712\n",
       "8    TOR_cold              3.069237\n",
       "9    OTT_heat              0.376448\n",
       "10   OTT_cold              5.246307\n",
       "11   HAM_heat              2.466776\n",
       "12   HAM_cold              1.668870\n",
       "13   ROS_heat              1.028685\n",
       "14   ROS_cold              0.695040\n",
       "15   LON_heat              1.981097\n",
       "16   LON_cold              0.498193\n",
       "17   POR_heat              0.027741\n",
       "18   POR_cold             25.843459\n",
       "19   OSH_heat              0.941690\n",
       "20   OSH_cold              0.793972\n",
       "21   WIN_heat              0.165996\n",
       "22   WIN_cold              2.786116\n",
       "23   BAR_heat              0.798367\n",
       "24   BAR_cold              0.518867\n",
       "25   KIL_heat              0.089126\n",
       "26   KIL_cold              2.145776\n",
       "27   KIN_heat              7.100721\n",
       "28   KIN_cold              0.344519\n",
       "29   GUE_heat              0.007976\n",
       "30   GUE_cold              0.159923\n",
       "31   PET_heat              0.616777\n",
       "32   PET_cold              0.863197\n",
       "33   THU_heat              0.013728\n",
       "34   THU_cold              2.213790\n",
       "35   BEL_heat              0.068629\n",
       "36   BEL_cold              0.661805\n",
       "37   CHA_heat              1.268654\n",
       "38   CHA_cold              8.626780\n",
       "39   SAR_heat              0.088991\n",
       "40   SAR_cold              7.306871"
      ]
     },
     "execution_count": 28,
     "metadata": {},
     "output_type": "execute_result"
    }
   ],
   "source": [
    "pd.DataFrame({'Feature': list(data.drop('demand', axis=1).columns), 'Feature Importance %': gbr.feature_importances_ * 100})"
   ]
  },
  {
   "cell_type": "markdown",
   "metadata": {},
   "source": [
    "The feature importances for the gradient boosting regressor aren't all that different from those of the random forest, which isn't overly surprising since they're both ensembles composed of the same type of estimator (decision trees). This time the model is less dominated by cold in St. Catherlines - Niagara (26% instead of 38%), heat in Kingston is down (from 10% to 7%), and the importance of the rest of the features are up a little or about the same. Sunday is now in second place at 9.1% and Saturday is 6%. The cold in Chatham-Kent is now in third place at 8.6%. As with the random forest, the model has overfit to the data, though a bit less severly."
   ]
  },
  {
   "cell_type": "code",
   "execution_count": 29,
   "metadata": {},
   "outputs": [
    {
     "data": {
      "text/plain": [
       "14995.140507874154"
      ]
     },
     "execution_count": 29,
     "metadata": {},
     "output_type": "execute_result"
    }
   ],
   "source": [
    "gbr_preds = gbr.predict(X_test)\n",
    "np.sqrt(mean_squared_error(y_test, gbr_preds))"
   ]
  },
  {
   "cell_type": "markdown",
   "metadata": {},
   "source": [
    "### Multi-Layer Perceptrons"
   ]
  },
  {
   "cell_type": "code",
   "execution_count": 30,
   "metadata": {},
   "outputs": [],
   "source": [
    "from sklearn.neural_network import MLPRegressor\n",
    "from sklearn.preprocessing import StandardScaler"
   ]
  },
  {
   "cell_type": "code",
   "execution_count": 31,
   "metadata": {},
   "outputs": [
    {
     "name": "stderr",
     "output_type": "stream",
     "text": [
      "D:\\Anaconda3\\lib\\site-packages\\sklearn\\neural_network\\multilayer_perceptron.py:562: ConvergenceWarning: Stochastic Optimizer: Maximum iterations (6400) reached and the optimization hasn't converged yet.\n",
      "  % self.max_iter, ConvergenceWarning)\n",
      "D:\\Anaconda3\\lib\\site-packages\\sklearn\\neural_network\\multilayer_perceptron.py:562: ConvergenceWarning: Stochastic Optimizer: Maximum iterations (6400) reached and the optimization hasn't converged yet.\n",
      "  % self.max_iter, ConvergenceWarning)\n",
      "D:\\Anaconda3\\lib\\site-packages\\sklearn\\neural_network\\multilayer_perceptron.py:562: ConvergenceWarning: Stochastic Optimizer: Maximum iterations (6400) reached and the optimization hasn't converged yet.\n",
      "  % self.max_iter, ConvergenceWarning)\n",
      "D:\\Anaconda3\\lib\\site-packages\\sklearn\\neural_network\\multilayer_perceptron.py:562: ConvergenceWarning: Stochastic Optimizer: Maximum iterations (6400) reached and the optimization hasn't converged yet.\n",
      "  % self.max_iter, ConvergenceWarning)\n",
      "D:\\Anaconda3\\lib\\site-packages\\sklearn\\neural_network\\multilayer_perceptron.py:562: ConvergenceWarning: Stochastic Optimizer: Maximum iterations (6400) reached and the optimization hasn't converged yet.\n",
      "  % self.max_iter, ConvergenceWarning)\n"
     ]
    },
    {
     "data": {
      "text/plain": [
       "37418.44650344142"
      ]
     },
     "execution_count": 31,
     "metadata": {},
     "output_type": "execute_result"
    }
   ],
   "source": [
    "mlp_cv_preds = cross_val_predict(MLPRegressor(max_iter=6400), X=X_train, y=y_train, cv=5)\n",
    "np.sqrt(mean_squared_error(y_train, mlp_cv_preds))"
   ]
  },
  {
   "cell_type": "code",
   "execution_count": 32,
   "metadata": {},
   "outputs": [
    {
     "name": "stdout",
     "output_type": "stream",
     "text": [
      "Run took 9.52 minutes.\n"
     ]
    },
    {
     "data": {
      "text/plain": [
       "17175.30646013421"
      ]
     },
     "execution_count": 32,
     "metadata": {},
     "output_type": "execute_result"
    }
   ],
   "source": [
    "import time\n",
    "start = time.time()\n",
    "mlp_cv_preds = cross_val_predict(MLPRegressor(max_iter=12800), X=X_train, y=y_train, cv=5)\n",
    "print('Run took {} minutes.'.format(round((time.time() - start)/60, 2)))\n",
    "np.sqrt(mean_squared_error(y_train, mlp_cv_preds))"
   ]
  },
  {
   "cell_type": "code",
   "execution_count": 33,
   "metadata": {},
   "outputs": [
    {
     "data": {
      "text/plain": [
       "<matplotlib.axes._subplots.AxesSubplot at 0x19a236bd5c0>"
      ]
     },
     "execution_count": 33,
     "metadata": {},
     "output_type": "execute_result"
    },
    {
     "data": {
      "image/png": "[encoded data removed]",
      "text/plain": [
       "<Figure size 864x576 with 1 Axes>"
      ]
     },
     "metadata": {
      "needs_background": "light"
     },
     "output_type": "display_data"
    }
   ],
   "source": [
    "temp = pd.DataFrame({'y_train': y_train, 'mlp_cv_preds': mlp_cv_preds})\n",
    "temp.sort_values('y_train', inplace=True)\n",
    "temp.reset_index(inplace=True)\n",
    "temp.plot(y=['y_train', 'mlp_cv_preds'], alpha=0.5, ylim=[0, 550000], figsize=(12, 8))"
   ]
  },
  {
   "cell_type": "code",
   "execution_count": 34,
   "metadata": {},
   "outputs": [
    {
     "data": {
      "text/plain": [
       "16695.27097587795"
      ]
     },
     "execution_count": 34,
     "metadata": {},
     "output_type": "execute_result"
    }
   ],
   "source": [
    "mlp = MLPRegressor(max_iter=12800)\n",
    "mlp.fit(X_train, y_train)\n",
    "mlp_preds = mlp.predict(X_test)\n",
    "np.sqrt(mean_squared_error(y_test, mlp_preds))"
   ]
  },
  {
   "cell_type": "markdown",
   "metadata": {},
   "source": [
    "#### An MLP on re-scaled data"
   ]
  },
  {
   "cell_type": "code",
   "execution_count": 35,
   "metadata": {},
   "outputs": [
    {
     "name": "stderr",
     "output_type": "stream",
     "text": [
      "D:\\Anaconda3\\lib\\site-packages\\sklearn\\preprocessing\\data.py:625: DataConversionWarning: Data with input dtype int64, float64 were all converted to float64 by StandardScaler.\n",
      "  return self.partial_fit(X, y)\n",
      "D:\\Anaconda3\\lib\\site-packages\\sklearn\\base.py:462: DataConversionWarning: Data with input dtype int64, float64 were all converted to float64 by StandardScaler.\n",
      "  return self.fit(X, **fit_params).transform(X)\n",
      "D:\\Anaconda3\\lib\\site-packages\\ipykernel_launcher.py:3: DataConversionWarning: Data with input dtype int64, float64 were all converted to float64 by StandardScaler.\n",
      "  This is separate from the ipykernel package so we can avoid doing imports until\n"
     ]
    }
   ],
   "source": [
    "scaler = StandardScaler()\n",
    "X_train_scaled = scaler.fit_transform(X_train)\n",
    "X_test_scaled = scaler.transform(X_test)\n",
    "# y_train_scaled = scaler.fit_transform(y_train.values.reshape(-1, 1))\n",
    "# y_test_scaled = scaler.transform(y_test.values.reshape(-1, 1))"
   ]
  },
  {
   "cell_type": "code",
   "execution_count": 36,
   "metadata": {
    "scrolled": true
   },
   "outputs": [
    {
     "name": "stderr",
     "output_type": "stream",
     "text": [
      "D:\\Anaconda3\\lib\\site-packages\\sklearn\\neural_network\\multilayer_perceptron.py:562: ConvergenceWarning: Stochastic Optimizer: Maximum iterations (12800) reached and the optimization hasn't converged yet.\n",
      "  % self.max_iter, ConvergenceWarning)\n",
      "D:\\Anaconda3\\lib\\site-packages\\sklearn\\neural_network\\multilayer_perceptron.py:562: ConvergenceWarning: Stochastic Optimizer: Maximum iterations (12800) reached and the optimization hasn't converged yet.\n",
      "  % self.max_iter, ConvergenceWarning)\n",
      "D:\\Anaconda3\\lib\\site-packages\\sklearn\\neural_network\\multilayer_perceptron.py:562: ConvergenceWarning: Stochastic Optimizer: Maximum iterations (12800) reached and the optimization hasn't converged yet.\n",
      "  % self.max_iter, ConvergenceWarning)\n",
      "D:\\Anaconda3\\lib\\site-packages\\sklearn\\neural_network\\multilayer_perceptron.py:564: UserWarning: Training interrupted by user.\n",
      "  warnings.warn(\"Training interrupted by user.\")\n"
     ]
    },
    {
     "name": "stdout",
     "output_type": "stream",
     "text": [
      "Run took 13.55 minutes.\n"
     ]
    },
    {
     "name": "stderr",
     "output_type": "stream",
     "text": [
      "D:\\Anaconda3\\lib\\site-packages\\sklearn\\neural_network\\multilayer_perceptron.py:562: ConvergenceWarning: Stochastic Optimizer: Maximum iterations (12800) reached and the optimization hasn't converged yet.\n",
      "  % self.max_iter, ConvergenceWarning)\n"
     ]
    },
    {
     "data": {
      "text/plain": [
       "82012.03527180488"
      ]
     },
     "execution_count": 36,
     "metadata": {},
     "output_type": "execute_result"
    }
   ],
   "source": [
    "start = time.time()\n",
    "sc_mlp_cv_preds = cross_val_predict(MLPRegressor(max_iter=12800), X=X_train_scaled, y=y_train, cv=5)\n",
    "print('Run took {} minutes.'.format(round((time.time() - start)/60, 2)))\n",
    "np.sqrt(mean_squared_error(y_train, sc_mlp_cv_preds))"
   ]
  },
  {
   "cell_type": "code",
   "execution_count": 37,
   "metadata": {},
   "outputs": [
    {
     "name": "stdout",
     "output_type": "stream",
     "text": [
      "Run took 35.53 minutes.\n"
     ]
    },
    {
     "data": {
      "text/plain": [
       "15377.1873840615"
      ]
     },
     "execution_count": 37,
     "metadata": {},
     "output_type": "execute_result"
    }
   ],
   "source": [
    "start = time.time()\n",
    "sc_mlp_cv_preds = cross_val_predict(MLPRegressor(max_iter=25600), X=X_train_scaled, y=y_train, cv=5)\n",
    "print('Run took {} minutes.'.format(round((time.time() - start)/60, 2)))\n",
    "np.sqrt(mean_squared_error(y_train, sc_mlp_cv_preds))"
   ]
  },
  {
   "cell_type": "code",
   "execution_count": 38,
   "metadata": {},
   "outputs": [
    {
     "data": {
      "text/plain": [
       "<matplotlib.axes._subplots.AxesSubplot at 0x19a24a22ef0>"
      ]
     },
     "execution_count": 38,
     "metadata": {},
     "output_type": "execute_result"
    },
    {
     "data": {
      "image/png": "[encoded data removed]",
      "text/plain": [
       "<Figure size 864x576 with 1 Axes>"
      ]
     },
     "metadata": {
      "needs_background": "light"
     },
     "output_type": "display_data"
    }
   ],
   "source": [
    "temp = pd.DataFrame({'y_train': y_train, 'sc_mlp_cv_preds': sc_mlp_cv_preds})\n",
    "temp.sort_values('y_train', inplace=True)\n",
    "temp.reset_index(inplace=True)\n",
    "temp.plot(y=['y_train', 'sc_mlp_cv_preds'], alpha=0.5, ylim=[0, 550000], figsize=(12, 8))"
   ]
  },
  {
   "cell_type": "code",
   "execution_count": 39,
   "metadata": {},
   "outputs": [
    {
     "data": {
      "text/plain": [
       "17137.347156214986"
      ]
     },
     "execution_count": 39,
     "metadata": {},
     "output_type": "execute_result"
    }
   ],
   "source": [
    "sc_mlp = MLPRegressor(max_iter=25600)\n",
    "sc_mlp.fit(X_train, y_train)\n",
    "sc_mlp_preds = sc_mlp.predict(X_test)\n",
    "np.sqrt(mean_squared_error(y_test, sc_mlp_preds))"
   ]
  },
  {
   "cell_type": "markdown",
   "metadata": {},
   "source": [
    "### Conclusion"
   ]
  },
  {
   "cell_type": "markdown",
   "metadata": {},
   "source": [
    "The small dataset of only 3652 observations and the large number of dimensions (41) limits what can be done with this dataset. I think data on additional causal factors is neccessary, but I can't seem to find information on what the other causal factors are. They may include variations industrial activity. The utility price of electricity (which is updated every 5 minutes and only applies to bulk purchasers, not residential or small-scale commercial customers) can only have an effect on demand if the information is communicated to purchasers in real time. To the best of my understanding, it is only communicated in aggregate on bill totals. As shown towards the end of the demand_exploration notebook, even the hourly average price is extremely chaotic, making difficult or impossible to incorporate pricing into the planning of high-consumption tasks."
   ]
  }
 ],
 "metadata": {
  "kernelspec": {
   "display_name": "Python 3",
   "language": "python",
   "name": "python3"
  },
  "language_info": {
   "codemirror_mode": {
    "name": "ipython",
    "version": 3
   },
   "file_extension": ".py",
   "mimetype": "text/x-python",
   "name": "python",
   "nbconvert_exporter": "python",
   "pygments_lexer": "ipython3",
   "version": "3.7.1"
  }
 },
 "nbformat": 4,
 "nbformat_minor": 2
}
