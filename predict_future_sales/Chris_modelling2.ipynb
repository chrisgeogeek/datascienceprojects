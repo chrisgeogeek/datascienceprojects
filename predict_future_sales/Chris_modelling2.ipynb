{
 "cells": [
  {
   "cell_type": "code",
   "execution_count": 1,
   "metadata": {},
   "outputs": [],
   "source": [
    "import pandas as pd\n",
    "import numpy as np\n",
    "import matplotlib.pyplot as plt\n",
    "import time\n",
    "%matplotlib inline"
   ]
  },
  {
   "cell_type": "code",
   "execution_count": 2,
   "metadata": {},
   "outputs": [
    {
     "data": {
      "text/html": [
       "<div>\n",
       "<style scoped>\n",
       "    .dataframe tbody tr th:only-of-type {\n",
       "        vertical-align: middle;\n",
       "    }\n",
       "\n",
       "    .dataframe tbody tr th {\n",
       "        vertical-align: top;\n",
       "    }\n",
       "\n",
       "    .dataframe thead th {\n",
       "        text-align: right;\n",
       "    }\n",
       "</style>\n",
       "<table border=\"1\" class=\"dataframe\">\n",
       "  <thead>\n",
       "    <tr style=\"text-align: right;\">\n",
       "      <th></th>\n",
       "      <th>item_cnt_month</th>\n",
       "      <th>mean_month_shop</th>\n",
       "      <th>mean_month_cat</th>\n",
       "      <th>mean_by_year</th>\n",
       "      <th>item_cnt_1_ago</th>\n",
       "      <th>item_cnt_2_ago</th>\n",
       "      <th>item_cnt_3_ago</th>\n",
       "      <th>item_cnt_4_ago</th>\n",
       "    </tr>\n",
       "  </thead>\n",
       "  <tbody>\n",
       "    <tr>\n",
       "      <th>0</th>\n",
       "      <td>1.0</td>\n",
       "      <td>0.034671</td>\n",
       "      <td>0.151543</td>\n",
       "      <td>0.085368</td>\n",
       "      <td>1.0</td>\n",
       "      <td>1.0</td>\n",
       "      <td>1.0</td>\n",
       "      <td>1.0</td>\n",
       "    </tr>\n",
       "    <tr>\n",
       "      <th>1</th>\n",
       "      <td>0.0</td>\n",
       "      <td>0.033333</td>\n",
       "      <td>0.151543</td>\n",
       "      <td>0.085368</td>\n",
       "      <td>0.0</td>\n",
       "      <td>0.0</td>\n",
       "      <td>0.0</td>\n",
       "      <td>0.0</td>\n",
       "    </tr>\n",
       "    <tr>\n",
       "      <th>2</th>\n",
       "      <td>0.0</td>\n",
       "      <td>0.051541</td>\n",
       "      <td>0.151543</td>\n",
       "      <td>0.085368</td>\n",
       "      <td>2.0</td>\n",
       "      <td>2.0</td>\n",
       "      <td>0.0</td>\n",
       "      <td>0.0</td>\n",
       "    </tr>\n",
       "    <tr>\n",
       "      <th>3</th>\n",
       "      <td>0.0</td>\n",
       "      <td>0.050038</td>\n",
       "      <td>0.151543</td>\n",
       "      <td>0.085368</td>\n",
       "      <td>0.0</td>\n",
       "      <td>0.0</td>\n",
       "      <td>0.0</td>\n",
       "      <td>0.0</td>\n",
       "    </tr>\n",
       "    <tr>\n",
       "      <th>4</th>\n",
       "      <td>0.0</td>\n",
       "      <td>0.111111</td>\n",
       "      <td>0.151543</td>\n",
       "      <td>0.085368</td>\n",
       "      <td>0.0</td>\n",
       "      <td>3.0</td>\n",
       "      <td>1.0</td>\n",
       "      <td>3.0</td>\n",
       "    </tr>\n",
       "  </tbody>\n",
       "</table>\n",
       "</div>"
      ],
      "text/plain": [
       "   item_cnt_month  mean_month_shop  mean_month_cat  mean_by_year  \\\n",
       "0             1.0         0.034671        0.151543      0.085368   \n",
       "1             0.0         0.033333        0.151543      0.085368   \n",
       "2             0.0         0.051541        0.151543      0.085368   \n",
       "3             0.0         0.050038        0.151543      0.085368   \n",
       "4             0.0         0.111111        0.151543      0.085368   \n",
       "\n",
       "   item_cnt_1_ago  item_cnt_2_ago  item_cnt_3_ago  item_cnt_4_ago  \n",
       "0             1.0             1.0             1.0             1.0  \n",
       "1             0.0             0.0             0.0             0.0  \n",
       "2             2.0             2.0             0.0             0.0  \n",
       "3             0.0             0.0             0.0             0.0  \n",
       "4             0.0             3.0             1.0             3.0  "
      ]
     },
     "execution_count": 2,
     "metadata": {},
     "output_type": "execute_result"
    }
   ],
   "source": [
    "chosen = pd.read_csv('chosen.csv')\n",
    "chosen.head()"
   ]
  },
  {
   "cell_type": "code",
   "execution_count": 3,
   "metadata": {},
   "outputs": [
    {
     "data": {
      "text/html": [
       "<div>\n",
       "<style scoped>\n",
       "    .dataframe tbody tr th:only-of-type {\n",
       "        vertical-align: middle;\n",
       "    }\n",
       "\n",
       "    .dataframe tbody tr th {\n",
       "        vertical-align: top;\n",
       "    }\n",
       "\n",
       "    .dataframe thead th {\n",
       "        text-align: right;\n",
       "    }\n",
       "</style>\n",
       "<table border=\"1\" class=\"dataframe\">\n",
       "  <thead>\n",
       "    <tr style=\"text-align: right;\">\n",
       "      <th></th>\n",
       "      <th>item_cnt_month</th>\n",
       "      <th>mean_month_shop</th>\n",
       "      <th>mean_month_cat</th>\n",
       "      <th>mean_by_year</th>\n",
       "      <th>item_cnt_1_ago</th>\n",
       "      <th>item_cnt_2_ago</th>\n",
       "      <th>item_cnt_3_ago</th>\n",
       "      <th>item_cnt_4_ago</th>\n",
       "    </tr>\n",
       "  </thead>\n",
       "  <tbody>\n",
       "  </tbody>\n",
       "</table>\n",
       "</div>"
      ],
      "text/plain": [
       "Empty DataFrame\n",
       "Columns: [item_cnt_month, mean_month_shop, mean_month_cat, mean_by_year, item_cnt_1_ago, item_cnt_2_ago, item_cnt_3_ago, item_cnt_4_ago]\n",
       "Index: []"
      ]
     },
     "execution_count": 3,
     "metadata": {},
     "output_type": "execute_result"
    }
   ],
   "source": [
    "chosen[chosen.isna().any(axis=1)]"
   ]
  },
  {
   "cell_type": "code",
   "execution_count": 4,
   "metadata": {},
   "outputs": [
    {
     "data": {
      "text/plain": [
       "0.000000e+00     8051990\n",
       "1.000000e+00      897499\n",
       "2.000000e+00      227553\n",
       "3.000000e+00       88164\n",
       "4.000000e+00       45462\n",
       "5.000000e+00       27138\n",
       "6.000000e+00       17536\n",
       "7.000000e+00       11945\n",
       "2.000000e+01       10705\n",
       "8.000000e+00        8828\n",
       "9.000000e+00        6367\n",
       "1.000000e+01        5104\n",
       "1.100000e+01        3786\n",
       "1.200000e+01        3131\n",
       "1.300000e+01        2572\n",
       "1.400000e+01        2048\n",
       "1.500000e+01        1750\n",
       "1.600000e+01        1460\n",
       "1.700000e+01        1323\n",
       "1.800000e+01        1069\n",
       "1.900000e+01         954\n",
       "3.315618e-316          1\n",
       "Name: item_cnt_month, dtype: int64"
      ]
     },
     "execution_count": 4,
     "metadata": {},
     "output_type": "execute_result"
    }
   ],
   "source": [
    "chosen['item_cnt_month'].value_counts()"
   ]
  },
  {
   "cell_type": "code",
   "execution_count": 5,
   "metadata": {},
   "outputs": [
    {
     "data": {
      "text/html": [
       "<div>\n",
       "<style scoped>\n",
       "    .dataframe tbody tr th:only-of-type {\n",
       "        vertical-align: middle;\n",
       "    }\n",
       "\n",
       "    .dataframe tbody tr th {\n",
       "        vertical-align: top;\n",
       "    }\n",
       "\n",
       "    .dataframe thead th {\n",
       "        text-align: right;\n",
       "    }\n",
       "</style>\n",
       "<table border=\"1\" class=\"dataframe\">\n",
       "  <thead>\n",
       "    <tr style=\"text-align: right;\">\n",
       "      <th></th>\n",
       "      <th>item_cnt_month</th>\n",
       "      <th>mean_month_shop</th>\n",
       "      <th>mean_month_cat</th>\n",
       "      <th>mean_by_year</th>\n",
       "      <th>item_cnt_1_ago</th>\n",
       "      <th>item_cnt_2_ago</th>\n",
       "      <th>item_cnt_3_ago</th>\n",
       "      <th>item_cnt_4_ago</th>\n",
       "    </tr>\n",
       "  </thead>\n",
       "  <tbody>\n",
       "    <tr>\n",
       "      <th>1064113</th>\n",
       "      <td>3.315618e-316</td>\n",
       "      <td>0.027951</td>\n",
       "      <td>0.05481</td>\n",
       "      <td>0.085368</td>\n",
       "      <td>0.0</td>\n",
       "      <td>0.0</td>\n",
       "      <td>0.0</td>\n",
       "      <td>0.0</td>\n",
       "    </tr>\n",
       "  </tbody>\n",
       "</table>\n",
       "</div>"
      ],
      "text/plain": [
       "         item_cnt_month  mean_month_shop  mean_month_cat  mean_by_year  \\\n",
       "1064113   3.315618e-316         0.027951         0.05481      0.085368   \n",
       "\n",
       "         item_cnt_1_ago  item_cnt_2_ago  item_cnt_3_ago  item_cnt_4_ago  \n",
       "1064113             0.0             0.0             0.0             0.0  "
      ]
     },
     "execution_count": 5,
     "metadata": {},
     "output_type": "execute_result"
    }
   ],
   "source": [
    "chosen[(chosen['item_cnt_month'] < 1) & (chosen['item_cnt_month'] > 0)]"
   ]
  },
  {
   "cell_type": "code",
   "execution_count": 6,
   "metadata": {},
   "outputs": [
    {
     "data": {
      "text/plain": [
       "0.0     8051990\n",
       "1.0      897499\n",
       "2.0      227553\n",
       "3.0       88164\n",
       "4.0       45462\n",
       "5.0       27138\n",
       "6.0       17536\n",
       "7.0       11945\n",
       "20.0      10705\n",
       "8.0        8828\n",
       "9.0        6367\n",
       "10.0       5104\n",
       "11.0       3786\n",
       "12.0       3131\n",
       "13.0       2572\n",
       "14.0       2048\n",
       "15.0       1750\n",
       "16.0       1460\n",
       "17.0       1323\n",
       "18.0       1069\n",
       "19.0        954\n",
       "Name: item_cnt_month, dtype: int64"
      ]
     },
     "execution_count": 6,
     "metadata": {},
     "output_type": "execute_result"
    }
   ],
   "source": [
    "chosen.drop(1064113, axis=0, inplace=True)\n",
    "chosen['item_cnt_month'].value_counts()"
   ]
  },
  {
   "cell_type": "code",
   "execution_count": 7,
   "metadata": {},
   "outputs": [
    {
     "name": "stderr",
     "output_type": "stream",
     "text": [
      "C:\\Users\\Chris\\Anaconda3\\envs\\DataScience1\\lib\\site-packages\\ipykernel_launcher.py:6: FutureWarning: \n",
      "Passing list-likes to .loc or [] with any missing label will raise\n",
      "KeyError in the future, you can use .reindex() as an alternative.\n",
      "\n",
      "See the documentation here:\n",
      "https://pandas.pydata.org/pandas-docs/stable/indexing.html#deprecate-loc-reindex-listlike\n",
      "  \n",
      "C:\\Users\\Chris\\Anaconda3\\envs\\DataScience1\\lib\\site-packages\\ipykernel_launcher.py:7: FutureWarning: \n",
      "Passing list-likes to .loc or [] with any missing label will raise\n",
      "KeyError in the future, you can use .reindex() as an alternative.\n",
      "\n",
      "See the documentation here:\n",
      "https://pandas.pydata.org/pandas-docs/stable/indexing.html#deprecate-loc-reindex-listlike\n",
      "  import sys\n"
     ]
    },
    {
     "name": "stdout",
     "output_type": "stream",
     "text": [
      "Run time: 12.874839305877686 seconds.\n"
     ]
    }
   ],
   "source": [
    "from sklearn.model_selection import StratifiedShuffleSplit\n",
    "import time\n",
    "start = time.time()\n",
    "splitter = StratifiedShuffleSplit(n_splits=1, test_size=0.25, random_state=42)\n",
    "for train_index, test_index in splitter.split(chosen, chosen['item_cnt_month']):\n",
    "    X_train = chosen.loc[train_index].drop('item_cnt_month', axis=1)\n",
    "    y_train = chosen.loc[train_index]['item_cnt_month']\n",
    "    X_test = chosen.loc[test_index].drop('item_cnt_month', axis=1)\n",
    "    y_test = chosen.loc[test_index]['item_cnt_month']\n",
    "# print('Run time: {} minutes.'.format(round((time.time() - start) / 60)))\n",
    "print('Run time: {} seconds.'.format(time.time() - start))"
   ]
  },
  {
   "cell_type": "code",
   "execution_count": 8,
   "metadata": {},
   "outputs": [
    {
     "data": {
      "text/plain": [
       "(7062288, 7)"
      ]
     },
     "execution_count": 8,
     "metadata": {},
     "output_type": "execute_result"
    }
   ],
   "source": [
    "X_train.shape"
   ]
  },
  {
   "cell_type": "code",
   "execution_count": 9,
   "metadata": {},
   "outputs": [
    {
     "data": {
      "text/plain": [
       "(7062288,)"
      ]
     },
     "execution_count": 9,
     "metadata": {},
     "output_type": "execute_result"
    }
   ],
   "source": [
    "y_train.shape"
   ]
  },
  {
   "cell_type": "code",
   "execution_count": 10,
   "metadata": {},
   "outputs": [
    {
     "data": {
      "text/plain": [
       "(2354096, 7)"
      ]
     },
     "execution_count": 10,
     "metadata": {},
     "output_type": "execute_result"
    }
   ],
   "source": [
    "X_test.shape"
   ]
  },
  {
   "cell_type": "code",
   "execution_count": 11,
   "metadata": {},
   "outputs": [
    {
     "data": {
      "text/plain": [
       "(2354096,)"
      ]
     },
     "execution_count": 11,
     "metadata": {},
     "output_type": "execute_result"
    }
   ],
   "source": [
    "y_test.shape"
   ]
  },
  {
   "cell_type": "code",
   "execution_count": 12,
   "metadata": {},
   "outputs": [
    {
     "data": {
      "text/plain": [
       "0.0     0.855038\n",
       "1.0     0.095355\n",
       "2.0     0.024169\n",
       "3.0     0.009367\n",
       "4.0     0.004839\n",
       "5.0     0.002875\n",
       "6.0     0.001853\n",
       "7.0     0.001285\n",
       "20.0    0.001139\n",
       "8.0     0.000932\n",
       "9.0     0.000675\n",
       "10.0    0.000540\n",
       "11.0    0.000407\n",
       "12.0    0.000335\n",
       "13.0    0.000275\n",
       "14.0    0.000217\n",
       "15.0    0.000187\n",
       "16.0    0.000156\n",
       "17.0    0.000142\n",
       "18.0    0.000113\n",
       "19.0    0.000102\n",
       "Name: item_cnt_month, dtype: float64"
      ]
     },
     "execution_count": 12,
     "metadata": {},
     "output_type": "execute_result"
    }
   ],
   "source": [
    "y_train.value_counts() / y_train.shape[0]"
   ]
  },
  {
   "cell_type": "code",
   "execution_count": 13,
   "metadata": {},
   "outputs": [
    {
     "data": {
      "text/plain": [
       "0.0     0.855303\n",
       "1.0     0.095186\n",
       "2.0     0.024156\n",
       "3.0     0.009351\n",
       "4.0     0.004795\n",
       "5.0     0.002903\n",
       "6.0     0.001891\n",
       "7.0     0.001219\n",
       "20.0    0.001129\n",
       "8.0     0.000953\n",
       "9.0     0.000681\n",
       "10.0    0.000548\n",
       "11.0    0.000387\n",
       "12.0    0.000325\n",
       "13.0    0.000268\n",
       "14.0    0.000218\n",
       "15.0    0.000183\n",
       "16.0    0.000151\n",
       "17.0    0.000137\n",
       "18.0    0.000114\n",
       "19.0    0.000101\n",
       "Name: item_cnt_month, dtype: float64"
      ]
     },
     "execution_count": 13,
     "metadata": {},
     "output_type": "execute_result"
    }
   ],
   "source": [
    "y_test.value_counts() / y_test.shape[0]"
   ]
  },
  {
   "cell_type": "code",
   "execution_count": 14,
   "metadata": {},
   "outputs": [],
   "source": [
    "from sklearn.ensemble import GradientBoostingRegressor\n",
    "from sklearn.model_selection import GridSearchCV"
   ]
  },
  {
   "cell_type": "code",
   "execution_count": 15,
   "metadata": {},
   "outputs": [
    {
     "data": {
      "text/plain": [
       "mean_month_shop     0.697519\n",
       "mean_month_cat     34.363889\n",
       "mean_by_year        0.085368\n",
       "item_cnt_1_ago     20.000000\n",
       "item_cnt_2_ago     20.000000\n",
       "item_cnt_3_ago     20.000000\n",
       "item_cnt_4_ago     20.000000\n",
       "dtype: float64"
      ]
     },
     "execution_count": 15,
     "metadata": {},
     "output_type": "execute_result"
    }
   ],
   "source": [
    "X_train.max(axis=0)"
   ]
  },
  {
   "cell_type": "code",
   "execution_count": 16,
   "metadata": {},
   "outputs": [
    {
     "data": {
      "text/plain": [
       "20.0"
      ]
     },
     "execution_count": 16,
     "metadata": {},
     "output_type": "execute_result"
    }
   ],
   "source": [
    "y_train.max()"
   ]
  },
  {
   "cell_type": "code",
   "execution_count": 17,
   "metadata": {},
   "outputs": [
    {
     "data": {
      "text/html": [
       "<div>\n",
       "<style scoped>\n",
       "    .dataframe tbody tr th:only-of-type {\n",
       "        vertical-align: middle;\n",
       "    }\n",
       "\n",
       "    .dataframe tbody tr th {\n",
       "        vertical-align: top;\n",
       "    }\n",
       "\n",
       "    .dataframe thead th {\n",
       "        text-align: right;\n",
       "    }\n",
       "</style>\n",
       "<table border=\"1\" class=\"dataframe\">\n",
       "  <thead>\n",
       "    <tr style=\"text-align: right;\">\n",
       "      <th></th>\n",
       "      <th>mean_month_shop</th>\n",
       "      <th>mean_month_cat</th>\n",
       "      <th>mean_by_year</th>\n",
       "      <th>item_cnt_1_ago</th>\n",
       "      <th>item_cnt_2_ago</th>\n",
       "      <th>item_cnt_3_ago</th>\n",
       "      <th>item_cnt_4_ago</th>\n",
       "    </tr>\n",
       "  </thead>\n",
       "  <tbody>\n",
       "    <tr>\n",
       "      <th>1064113</th>\n",
       "      <td>NaN</td>\n",
       "      <td>NaN</td>\n",
       "      <td>NaN</td>\n",
       "      <td>NaN</td>\n",
       "      <td>NaN</td>\n",
       "      <td>NaN</td>\n",
       "      <td>NaN</td>\n",
       "    </tr>\n",
       "  </tbody>\n",
       "</table>\n",
       "</div>"
      ],
      "text/plain": [
       "         mean_month_shop  mean_month_cat  mean_by_year  item_cnt_1_ago  \\\n",
       "1064113              NaN             NaN           NaN             NaN   \n",
       "\n",
       "         item_cnt_2_ago  item_cnt_3_ago  item_cnt_4_ago  \n",
       "1064113             NaN             NaN             NaN  "
      ]
     },
     "execution_count": 17,
     "metadata": {},
     "output_type": "execute_result"
    }
   ],
   "source": [
    "X_train[X_train.isna().any(axis=1)]"
   ]
  },
  {
   "cell_type": "code",
   "execution_count": 18,
   "metadata": {},
   "outputs": [],
   "source": [
    "X_train.drop(1064113, axis=0, inplace=True)"
   ]
  },
  {
   "cell_type": "code",
   "execution_count": 19,
   "metadata": {},
   "outputs": [
    {
     "data": {
      "text/html": [
       "<div>\n",
       "<style scoped>\n",
       "    .dataframe tbody tr th:only-of-type {\n",
       "        vertical-align: middle;\n",
       "    }\n",
       "\n",
       "    .dataframe tbody tr th {\n",
       "        vertical-align: top;\n",
       "    }\n",
       "\n",
       "    .dataframe thead th {\n",
       "        text-align: right;\n",
       "    }\n",
       "</style>\n",
       "<table border=\"1\" class=\"dataframe\">\n",
       "  <thead>\n",
       "    <tr style=\"text-align: right;\">\n",
       "      <th></th>\n",
       "      <th>mean_month_shop</th>\n",
       "      <th>mean_month_cat</th>\n",
       "      <th>mean_by_year</th>\n",
       "      <th>item_cnt_1_ago</th>\n",
       "      <th>item_cnt_2_ago</th>\n",
       "      <th>item_cnt_3_ago</th>\n",
       "      <th>item_cnt_4_ago</th>\n",
       "    </tr>\n",
       "  </thead>\n",
       "  <tbody>\n",
       "  </tbody>\n",
       "</table>\n",
       "</div>"
      ],
      "text/plain": [
       "Empty DataFrame\n",
       "Columns: [mean_month_shop, mean_month_cat, mean_by_year, item_cnt_1_ago, item_cnt_2_ago, item_cnt_3_ago, item_cnt_4_ago]\n",
       "Index: []"
      ]
     },
     "execution_count": 19,
     "metadata": {},
     "output_type": "execute_result"
    }
   ],
   "source": [
    "X_train[X_train.isna().any(axis=1)]"
   ]
  },
  {
   "cell_type": "code",
   "execution_count": 20,
   "metadata": {},
   "outputs": [],
   "source": [
    "y_train.drop(1064113, inplace=True)"
   ]
  },
  {
   "cell_type": "markdown",
   "metadata": {},
   "source": [
    "### Let's combine our training set + validation set into a new full training set to train our final models on."
   ]
  },
  {
   "cell_type": "code",
   "execution_count": 32,
   "metadata": {},
   "outputs": [
    {
     "data": {
      "text/plain": [
       "(9416383, 7)"
      ]
     },
     "execution_count": 32,
     "metadata": {},
     "output_type": "execute_result"
    }
   ],
   "source": [
    "full_X_train = pd.concat([X_train, X_test])\n",
    "full_X_train.shape"
   ]
  },
  {
   "cell_type": "code",
   "execution_count": 33,
   "metadata": {},
   "outputs": [
    {
     "data": {
      "text/html": [
       "<div>\n",
       "<style scoped>\n",
       "    .dataframe tbody tr th:only-of-type {\n",
       "        vertical-align: middle;\n",
       "    }\n",
       "\n",
       "    .dataframe tbody tr th {\n",
       "        vertical-align: top;\n",
       "    }\n",
       "\n",
       "    .dataframe thead th {\n",
       "        text-align: right;\n",
       "    }\n",
       "</style>\n",
       "<table border=\"1\" class=\"dataframe\">\n",
       "  <thead>\n",
       "    <tr style=\"text-align: right;\">\n",
       "      <th></th>\n",
       "      <th>mean_month_shop</th>\n",
       "      <th>mean_month_cat</th>\n",
       "      <th>mean_by_year</th>\n",
       "      <th>item_cnt_1_ago</th>\n",
       "      <th>item_cnt_2_ago</th>\n",
       "      <th>item_cnt_3_ago</th>\n",
       "      <th>item_cnt_4_ago</th>\n",
       "    </tr>\n",
       "  </thead>\n",
       "  <tbody>\n",
       "    <tr>\n",
       "      <th>5777024</th>\n",
       "      <td>0.054834</td>\n",
       "      <td>0.058156</td>\n",
       "      <td>0.069746</td>\n",
       "      <td>0.0</td>\n",
       "      <td>0.0</td>\n",
       "      <td>0.0</td>\n",
       "      <td>0.0</td>\n",
       "    </tr>\n",
       "    <tr>\n",
       "      <th>6030030</th>\n",
       "      <td>0.129154</td>\n",
       "      <td>0.008629</td>\n",
       "      <td>0.069746</td>\n",
       "      <td>0.0</td>\n",
       "      <td>0.0</td>\n",
       "      <td>0.0</td>\n",
       "      <td>0.0</td>\n",
       "    </tr>\n",
       "    <tr>\n",
       "      <th>8245625</th>\n",
       "      <td>0.060713</td>\n",
       "      <td>0.050536</td>\n",
       "      <td>0.050812</td>\n",
       "      <td>0.0</td>\n",
       "      <td>0.0</td>\n",
       "      <td>0.0</td>\n",
       "      <td>0.0</td>\n",
       "    </tr>\n",
       "    <tr>\n",
       "      <th>8222488</th>\n",
       "      <td>0.089250</td>\n",
       "      <td>0.050771</td>\n",
       "      <td>0.050812</td>\n",
       "      <td>0.0</td>\n",
       "      <td>1.0</td>\n",
       "      <td>1.0</td>\n",
       "      <td>1.0</td>\n",
       "    </tr>\n",
       "    <tr>\n",
       "      <th>7385422</th>\n",
       "      <td>0.105202</td>\n",
       "      <td>0.053599</td>\n",
       "      <td>0.050812</td>\n",
       "      <td>0.0</td>\n",
       "      <td>0.0</td>\n",
       "      <td>0.0</td>\n",
       "      <td>0.0</td>\n",
       "    </tr>\n",
       "  </tbody>\n",
       "</table>\n",
       "</div>"
      ],
      "text/plain": [
       "         mean_month_shop  mean_month_cat  mean_by_year  item_cnt_1_ago  \\\n",
       "5777024         0.054834        0.058156      0.069746             0.0   \n",
       "6030030         0.129154        0.008629      0.069746             0.0   \n",
       "8245625         0.060713        0.050536      0.050812             0.0   \n",
       "8222488         0.089250        0.050771      0.050812             0.0   \n",
       "7385422         0.105202        0.053599      0.050812             0.0   \n",
       "\n",
       "         item_cnt_2_ago  item_cnt_3_ago  item_cnt_4_ago  \n",
       "5777024             0.0             0.0             0.0  \n",
       "6030030             0.0             0.0             0.0  \n",
       "8245625             0.0             0.0             0.0  \n",
       "8222488             1.0             1.0             1.0  \n",
       "7385422             0.0             0.0             0.0  "
      ]
     },
     "execution_count": 33,
     "metadata": {},
     "output_type": "execute_result"
    }
   ],
   "source": [
    "full_X_train.head()"
   ]
  },
  {
   "cell_type": "code",
   "execution_count": 34,
   "metadata": {},
   "outputs": [
    {
     "data": {
      "text/html": [
       "<div>\n",
       "<style scoped>\n",
       "    .dataframe tbody tr th:only-of-type {\n",
       "        vertical-align: middle;\n",
       "    }\n",
       "\n",
       "    .dataframe tbody tr th {\n",
       "        vertical-align: top;\n",
       "    }\n",
       "\n",
       "    .dataframe thead th {\n",
       "        text-align: right;\n",
       "    }\n",
       "</style>\n",
       "<table border=\"1\" class=\"dataframe\">\n",
       "  <thead>\n",
       "    <tr style=\"text-align: right;\">\n",
       "      <th></th>\n",
       "      <th>mean_month_shop</th>\n",
       "      <th>mean_month_cat</th>\n",
       "      <th>mean_by_year</th>\n",
       "      <th>item_cnt_1_ago</th>\n",
       "      <th>item_cnt_2_ago</th>\n",
       "      <th>item_cnt_3_ago</th>\n",
       "      <th>item_cnt_4_ago</th>\n",
       "    </tr>\n",
       "  </thead>\n",
       "  <tbody>\n",
       "    <tr>\n",
       "      <th>7817186</th>\n",
       "      <td>0.059209</td>\n",
       "      <td>0.049138</td>\n",
       "      <td>0.050812</td>\n",
       "      <td>0.0</td>\n",
       "      <td>0.0</td>\n",
       "      <td>1.0</td>\n",
       "      <td>0.0</td>\n",
       "    </tr>\n",
       "    <tr>\n",
       "      <th>3400763</th>\n",
       "      <td>0.064862</td>\n",
       "      <td>0.222222</td>\n",
       "      <td>0.069746</td>\n",
       "      <td>0.0</td>\n",
       "      <td>0.0</td>\n",
       "      <td>0.0</td>\n",
       "      <td>0.0</td>\n",
       "    </tr>\n",
       "    <tr>\n",
       "      <th>8875523</th>\n",
       "      <td>0.061961</td>\n",
       "      <td>0.010627</td>\n",
       "      <td>0.050812</td>\n",
       "      <td>0.0</td>\n",
       "      <td>0.0</td>\n",
       "      <td>0.0</td>\n",
       "      <td>0.0</td>\n",
       "    </tr>\n",
       "    <tr>\n",
       "      <th>8458373</th>\n",
       "      <td>0.035799</td>\n",
       "      <td>0.056670</td>\n",
       "      <td>0.050812</td>\n",
       "      <td>0.0</td>\n",
       "      <td>0.0</td>\n",
       "      <td>0.0</td>\n",
       "      <td>0.0</td>\n",
       "    </tr>\n",
       "    <tr>\n",
       "      <th>9345999</th>\n",
       "      <td>0.088287</td>\n",
       "      <td>0.050203</td>\n",
       "      <td>0.050812</td>\n",
       "      <td>0.0</td>\n",
       "      <td>0.0</td>\n",
       "      <td>0.0</td>\n",
       "      <td>0.0</td>\n",
       "    </tr>\n",
       "  </tbody>\n",
       "</table>\n",
       "</div>"
      ],
      "text/plain": [
       "         mean_month_shop  mean_month_cat  mean_by_year  item_cnt_1_ago  \\\n",
       "7817186         0.059209        0.049138      0.050812             0.0   \n",
       "3400763         0.064862        0.222222      0.069746             0.0   \n",
       "8875523         0.061961        0.010627      0.050812             0.0   \n",
       "8458373         0.035799        0.056670      0.050812             0.0   \n",
       "9345999         0.088287        0.050203      0.050812             0.0   \n",
       "\n",
       "         item_cnt_2_ago  item_cnt_3_ago  item_cnt_4_ago  \n",
       "7817186             0.0             1.0             0.0  \n",
       "3400763             0.0             0.0             0.0  \n",
       "8875523             0.0             0.0             0.0  \n",
       "8458373             0.0             0.0             0.0  \n",
       "9345999             0.0             0.0             0.0  "
      ]
     },
     "execution_count": 34,
     "metadata": {},
     "output_type": "execute_result"
    }
   ],
   "source": [
    "full_X_train.tail()"
   ]
  },
  {
   "cell_type": "code",
   "execution_count": 35,
   "metadata": {},
   "outputs": [
    {
     "data": {
      "text/plain": [
       "(9416383,)"
      ]
     },
     "execution_count": 35,
     "metadata": {},
     "output_type": "execute_result"
    }
   ],
   "source": [
    "full_y_train = pd.concat([y_train, y_test])\n",
    "full_y_train.shape"
   ]
  },
  {
   "cell_type": "markdown",
   "metadata": {},
   "source": [
    "### Training the models that we'll use on the final test set: Gradient Boosting and Random Forest\n",
    "\n",
    "The GradientBoostingRegressor (which I'll refer to as GBR) hyperparameters were selected for achieving the best accuracy in the experiments conducted in the Chris_modelling notebook. The RandomForestRegressor (RFR) hyperparameters were selected for achieving the best accuracy in testing performed by my colleague George Ayo. The RFR is included mainly for comparison purposes."
   ]
  },
  {
   "cell_type": "code",
   "execution_count": 36,
   "metadata": {},
   "outputs": [],
   "source": [
    "test_gbr = GradientBoostingRegressor(n_estimators=137, learning_rate=0.1, max_depth=11)"
   ]
  },
  {
   "cell_type": "code",
   "execution_count": 37,
   "metadata": {},
   "outputs": [
    {
     "name": "stdout",
     "output_type": "stream",
     "text": [
      "Run time: 999.3 minutes.\n"
     ]
    }
   ],
   "source": [
    "start = time.time()\n",
    "test_gbr.fit(full_X_train, full_y_train)\n",
    "print('Run time: {} minutes.'.format(round((time.time() - start) / 60, 1)))"
   ]
  },
  {
   "cell_type": "code",
   "execution_count": 38,
   "metadata": {},
   "outputs": [
    {
     "name": "stdout",
     "output_type": "stream",
     "text": [
      "Run time: 37.3 minutes.\n"
     ]
    }
   ],
   "source": [
    "from sklearn.ensemblesemble import RandomForestRegressor\n",
    "start = time.time()\n",
    "rfr = RandomForestRegressor(n_estimators=100, max_features=6, n_jobs=3)\n",
    "rfr.fit(full_X_train, full_y_train)\n",
    "print('Run time: {} minutes.'.format(round((time.time() - start) / 60, 1)))"
   ]
  },
  {
   "cell_type": "markdown",
   "metadata": {},
   "source": [
    "Let's see what the errors are like on the training set for the RFR, and the GBR."
   ]
  },
  {
   "cell_type": "code",
   "execution_count": 21,
   "metadata": {},
   "outputs": [],
   "source": [
    "from sklearn.metrics import mean_squared_error"
   ]
  },
  {
   "cell_type": "code",
   "execution_count": 39,
   "metadata": {},
   "outputs": [
    {
     "name": "stdout",
     "output_type": "stream",
     "text": [
      "Run time: 4.2 minutes.\n"
     ]
    },
    {
     "data": {
      "text/plain": [
       "0.5218255017049552"
      ]
     },
     "execution_count": 39,
     "metadata": {},
     "output_type": "execute_result"
    }
   ],
   "source": [
    "start = time.time()\n",
    "rfr_full_train_preds = rfr.predict(full_X_train)\n",
    "print('Run time: {} minutes.'.format(round((time.time() - start) / 60, 1)))\n",
    "mean_squared_error(full_y_train, rfr_full_train_preds)"
   ]
  },
  {
   "cell_type": "code",
   "execution_count": 40,
   "metadata": {},
   "outputs": [
    {
     "name": "stdout",
     "output_type": "stream",
     "text": [
      "Run time: 1.0 minutes.\n"
     ]
    },
    {
     "data": {
      "text/plain": [
       "0.7313994989088518"
      ]
     },
     "execution_count": 40,
     "metadata": {},
     "output_type": "execute_result"
    }
   ],
   "source": [
    "start = time.time()\n",
    "gbr_full_train_preds = test_gbr.predict(full_X_train)\n",
    "print('Run time: {} minutes.'.format(round((time.time() - start) / 60, 1)))\n",
    "mean_squared_error(full_y_train, gbr_full_train_preds)"
   ]
  },
  {
   "cell_type": "markdown",
   "metadata": {},
   "source": [
    "The RFR's error on the training set (~0.522) is lower than that of the GBR (~0.731), but this could be because of overfitting."
   ]
  },
  {
   "cell_type": "markdown",
   "metadata": {},
   "source": [
    "### Let's check out the feature importances of the RFR and GBR"
   ]
  },
  {
   "cell_type": "code",
   "execution_count": 73,
   "metadata": {},
   "outputs": [
    {
     "name": "stdout",
     "output_type": "stream",
     "text": [
      "Gradient Boosting Feature Importances\n",
      "mean_month_shop : 0.06481475085208863\n",
      "mean_month_cat : 0.12531332793560718\n",
      "mean_by_year : 0.018613122374106162\n",
      "item_cnt_1_ago : 0.6699262433703854\n",
      "item_cnt_2_ago : 0.053451476116158504\n",
      "item_cnt_3_ago : 0.04239346615117474\n",
      "item_cnt_4_ago : 0.025487613200479223\n"
     ]
    }
   ],
   "source": [
    "print('Gradient Boosting Feature Importances')\n",
    "for i in range(0, 7):\n",
    "    print(full_X_train.columns[i], ':', test_gbr.feature_importances_[i])"
   ]
  },
  {
   "cell_type": "code",
   "execution_count": 74,
   "metadata": {},
   "outputs": [
    {
     "name": "stdout",
     "output_type": "stream",
     "text": [
      "Random Forest Feature Importances\n",
      "mean_month_shop : 0.16149043275566233\n",
      "mean_month_cat : 0.16889446307543263\n",
      "mean_by_year : 0.03443288085536867\n",
      "item_cnt_1_ago : 0.4471653470599825\n",
      "item_cnt_2_ago : 0.09358217330520499\n",
      "item_cnt_3_ago : 0.0516367791079396\n",
      "item_cnt_4_ago : 0.04279792384040929\n"
     ]
    }
   ],
   "source": [
    "print('Random Forest Feature Importances')\n",
    "for i in range(0, 7):\n",
    "    print(full_X_train.columns[i], ':', rfr.feature_importances_[i])"
   ]
  },
  {
   "cell_type": "markdown",
   "metadata": {},
   "source": [
    "For the GBR, item_cnt_1_ago is more important than every other feature put together and mean_month_cat is the second-most-important by a large margin. For the RFR, the importances are more spread out but item_cnt_1_ago is still the comparison variable in close to half of all split nodes. However, for the RFR mean_month_shop is more than twice as important as it is for the GBR--almost as important as mean_month_cat."
   ]
  },
  {
   "cell_type": "markdown",
   "metadata": {},
   "source": [
    "### Let's train a linear regression that takes the predictions of the RFR and GBR as inputs (model stacking)."
   ]
  },
  {
   "cell_type": "code",
   "execution_count": 41,
   "metadata": {},
   "outputs": [
    {
     "name": "stdout",
     "output_type": "stream",
     "text": [
      "Run time: 0.0 minutes.\n"
     ]
    },
    {
     "data": {
      "text/html": [
       "<div>\n",
       "<style scoped>\n",
       "    .dataframe tbody tr th:only-of-type {\n",
       "        vertical-align: middle;\n",
       "    }\n",
       "\n",
       "    .dataframe tbody tr th {\n",
       "        vertical-align: top;\n",
       "    }\n",
       "\n",
       "    .dataframe thead th {\n",
       "        text-align: right;\n",
       "    }\n",
       "</style>\n",
       "<table border=\"1\" class=\"dataframe\">\n",
       "  <thead>\n",
       "    <tr style=\"text-align: right;\">\n",
       "      <th></th>\n",
       "      <th>rfr</th>\n",
       "      <th>gbr</th>\n",
       "    </tr>\n",
       "  </thead>\n",
       "  <tbody>\n",
       "    <tr>\n",
       "      <th>0</th>\n",
       "      <td>0.064051</td>\n",
       "      <td>0.075127</td>\n",
       "    </tr>\n",
       "    <tr>\n",
       "      <th>1</th>\n",
       "      <td>0.004353</td>\n",
       "      <td>0.039522</td>\n",
       "    </tr>\n",
       "    <tr>\n",
       "      <th>2</th>\n",
       "      <td>0.000000</td>\n",
       "      <td>0.075635</td>\n",
       "    </tr>\n",
       "    <tr>\n",
       "      <th>3</th>\n",
       "      <td>0.089000</td>\n",
       "      <td>0.271500</td>\n",
       "    </tr>\n",
       "    <tr>\n",
       "      <th>4</th>\n",
       "      <td>0.040669</td>\n",
       "      <td>0.094820</td>\n",
       "    </tr>\n",
       "  </tbody>\n",
       "</table>\n",
       "</div>"
      ],
      "text/plain": [
       "        rfr       gbr\n",
       "0  0.064051  0.075127\n",
       "1  0.004353  0.039522\n",
       "2  0.000000  0.075635\n",
       "3  0.089000  0.271500\n",
       "4  0.040669  0.094820"
      ]
     },
     "execution_count": 41,
     "metadata": {},
     "output_type": "execute_result"
    }
   ],
   "source": [
    "start = time.time()\n",
    "train_preds_df = pd.DataFrame({'rfr': rfr_full_train_preds, 'gbr': gbr_full_train_preds}, columns=['rfr', 'gbr'])\n",
    "print('Run time: {} minutes.'.format(round((time.time() - start) / 60, 1)))\n",
    "train_preds_df.head()"
   ]
  },
  {
   "cell_type": "code",
   "execution_count": 42,
   "metadata": {},
   "outputs": [
    {
     "data": {
      "text/plain": [
       "Index          80\n",
       "rfr      75331064\n",
       "gbr      75331064\n",
       "dtype: int64"
      ]
     },
     "execution_count": 42,
     "metadata": {},
     "output_type": "execute_result"
    }
   ],
   "source": [
    "train_preds_df.memory_usage(deep=True)"
   ]
  },
  {
   "cell_type": "code",
   "execution_count": 43,
   "metadata": {},
   "outputs": [
    {
     "name": "stdout",
     "output_type": "stream",
     "text": [
      "Run time: 0.0 minutes.\n"
     ]
    }
   ],
   "source": [
    "from sklearn.linear_model import LinearRegression\n",
    "lr = LinearRegression(n_jobs=3)\n",
    "start = time.time()\n",
    "lr.fit(train_preds_df, full_y_train)\n",
    "print('Run time: {} minutes.'.format(round((time.time() - start) / 60, 1)))"
   ]
  },
  {
   "cell_type": "code",
   "execution_count": 44,
   "metadata": {},
   "outputs": [
    {
     "data": {
      "text/plain": [
       "0.5063181252471995"
      ]
     },
     "execution_count": 44,
     "metadata": {},
     "output_type": "execute_result"
    }
   ],
   "source": [
    "lr_full_train_preds = lr.predict(train_preds_df)\n",
    "mean_squared_error(full_y_train, lr_full_train_preds)"
   ]
  },
  {
   "cell_type": "markdown",
   "metadata": {},
   "source": [
    "Even lower than that of the RFR! Let's hope it's not just really overfitting. Submitting test set predictions to kaggle will tell us.\n",
    "\n",
    "## Time to load the prepared test data and make predictions on it."
   ]
  },
  {
   "cell_type": "code",
   "execution_count": 45,
   "metadata": {},
   "outputs": [
    {
     "name": "stdout",
     "output_type": "stream",
     "text": [
      "Run time: 0.0 minutes.\n"
     ]
    },
    {
     "data": {
      "text/html": [
       "<div>\n",
       "<style scoped>\n",
       "    .dataframe tbody tr th:only-of-type {\n",
       "        vertical-align: middle;\n",
       "    }\n",
       "\n",
       "    .dataframe tbody tr th {\n",
       "        vertical-align: top;\n",
       "    }\n",
       "\n",
       "    .dataframe thead th {\n",
       "        text-align: right;\n",
       "    }\n",
       "</style>\n",
       "<table border=\"1\" class=\"dataframe\">\n",
       "  <thead>\n",
       "    <tr style=\"text-align: right;\">\n",
       "      <th></th>\n",
       "      <th>ID</th>\n",
       "      <th>mean_month_shop</th>\n",
       "      <th>mean_month_cat</th>\n",
       "      <th>mean_by_year</th>\n",
       "      <th>item_cnt_1_ago</th>\n",
       "      <th>item_cnt_2_ago</th>\n",
       "      <th>item_cnt_3_ago</th>\n",
       "      <th>item_cnt_4_ago</th>\n",
       "    </tr>\n",
       "  </thead>\n",
       "  <tbody>\n",
       "    <tr>\n",
       "      <th>0</th>\n",
       "      <td>0</td>\n",
       "      <td>0.059517</td>\n",
       "      <td>0.192317</td>\n",
       "      <td>0.050812</td>\n",
       "      <td>0.0</td>\n",
       "      <td>1.0</td>\n",
       "      <td>3.0</td>\n",
       "      <td>1.0</td>\n",
       "    </tr>\n",
       "    <tr>\n",
       "      <th>1</th>\n",
       "      <td>1</td>\n",
       "      <td>0.059517</td>\n",
       "      <td>0.075187</td>\n",
       "      <td>0.050812</td>\n",
       "      <td>0.0</td>\n",
       "      <td>0.0</td>\n",
       "      <td>0.0</td>\n",
       "      <td>0.0</td>\n",
       "    </tr>\n",
       "    <tr>\n",
       "      <th>2</th>\n",
       "      <td>2</td>\n",
       "      <td>0.059517</td>\n",
       "      <td>0.192317</td>\n",
       "      <td>0.050812</td>\n",
       "      <td>1.0</td>\n",
       "      <td>3.0</td>\n",
       "      <td>1.0</td>\n",
       "      <td>0.0</td>\n",
       "    </tr>\n",
       "    <tr>\n",
       "      <th>3</th>\n",
       "      <td>3</td>\n",
       "      <td>0.059517</td>\n",
       "      <td>0.181670</td>\n",
       "      <td>0.050812</td>\n",
       "      <td>0.0</td>\n",
       "      <td>0.0</td>\n",
       "      <td>1.0</td>\n",
       "      <td>0.0</td>\n",
       "    </tr>\n",
       "    <tr>\n",
       "      <th>4</th>\n",
       "      <td>4</td>\n",
       "      <td>0.059517</td>\n",
       "      <td>0.471762</td>\n",
       "      <td>0.050812</td>\n",
       "      <td>0.0</td>\n",
       "      <td>0.0</td>\n",
       "      <td>0.0</td>\n",
       "      <td>0.0</td>\n",
       "    </tr>\n",
       "  </tbody>\n",
       "</table>\n",
       "</div>"
      ],
      "text/plain": [
       "   ID  mean_month_shop  mean_month_cat  mean_by_year  item_cnt_1_ago  \\\n",
       "0   0         0.059517        0.192317      0.050812             0.0   \n",
       "1   1         0.059517        0.075187      0.050812             0.0   \n",
       "2   2         0.059517        0.192317      0.050812             1.0   \n",
       "3   3         0.059517        0.181670      0.050812             0.0   \n",
       "4   4         0.059517        0.471762      0.050812             0.0   \n",
       "\n",
       "   item_cnt_2_ago  item_cnt_3_ago  item_cnt_4_ago  \n",
       "0             1.0             3.0             1.0  \n",
       "1             0.0             0.0             0.0  \n",
       "2             3.0             1.0             0.0  \n",
       "3             0.0             1.0             0.0  \n",
       "4             0.0             0.0             0.0  "
      ]
     },
     "execution_count": 45,
     "metadata": {},
     "output_type": "execute_result"
    }
   ],
   "source": [
    "start = time.time()\n",
    "test_real = pd.read_csv('test_features.csv')\n",
    "print('Run time: {} minutes.'.format(round((time.time() - start) / 60, 1)))\n",
    "test_real.head()"
   ]
  },
  {
   "cell_type": "code",
   "execution_count": 46,
   "metadata": {},
   "outputs": [
    {
     "data": {
      "text/plain": [
       "(214200, 8)"
      ]
     },
     "execution_count": 46,
     "metadata": {},
     "output_type": "execute_result"
    }
   ],
   "source": [
    "test_real.shape"
   ]
  },
  {
   "cell_type": "code",
   "execution_count": 47,
   "metadata": {},
   "outputs": [],
   "source": [
    "test_ID = test_real['ID']\n",
    "test_real.drop('ID', axis=1, inplace=True)"
   ]
  },
  {
   "cell_type": "code",
   "execution_count": 48,
   "metadata": {},
   "outputs": [
    {
     "data": {
      "text/html": [
       "<div>\n",
       "<style scoped>\n",
       "    .dataframe tbody tr th:only-of-type {\n",
       "        vertical-align: middle;\n",
       "    }\n",
       "\n",
       "    .dataframe tbody tr th {\n",
       "        vertical-align: top;\n",
       "    }\n",
       "\n",
       "    .dataframe thead th {\n",
       "        text-align: right;\n",
       "    }\n",
       "</style>\n",
       "<table border=\"1\" class=\"dataframe\">\n",
       "  <thead>\n",
       "    <tr style=\"text-align: right;\">\n",
       "      <th></th>\n",
       "      <th>rfr</th>\n",
       "      <th>gbr</th>\n",
       "    </tr>\n",
       "  </thead>\n",
       "  <tbody>\n",
       "    <tr>\n",
       "      <th>0</th>\n",
       "      <td>0.740000</td>\n",
       "      <td>0.627867</td>\n",
       "    </tr>\n",
       "    <tr>\n",
       "      <th>1</th>\n",
       "      <td>0.110753</td>\n",
       "      <td>0.087372</td>\n",
       "    </tr>\n",
       "    <tr>\n",
       "      <th>2</th>\n",
       "      <td>0.626667</td>\n",
       "      <td>0.676305</td>\n",
       "    </tr>\n",
       "    <tr>\n",
       "      <th>3</th>\n",
       "      <td>0.010667</td>\n",
       "      <td>0.179143</td>\n",
       "    </tr>\n",
       "    <tr>\n",
       "      <th>4</th>\n",
       "      <td>0.020000</td>\n",
       "      <td>0.364703</td>\n",
       "    </tr>\n",
       "  </tbody>\n",
       "</table>\n",
       "</div>"
      ],
      "text/plain": [
       "        rfr       gbr\n",
       "0  0.740000  0.627867\n",
       "1  0.110753  0.087372\n",
       "2  0.626667  0.676305\n",
       "3  0.010667  0.179143\n",
       "4  0.020000  0.364703"
      ]
     },
     "execution_count": 48,
     "metadata": {},
     "output_type": "execute_result"
    }
   ],
   "source": [
    "rfr_test_preds = rfr.predict(test_real)\n",
    "gbr_test_preds = test_gbr.predict(test_real)\n",
    "test_preds_df = pd.DataFrame({'rfr': rfr_test_preds, 'gbr': gbr_test_preds}, columns=['rfr', 'gbr'])\n",
    "test_preds_df.head()"
   ]
  },
  {
   "cell_type": "code",
   "execution_count": 49,
   "metadata": {},
   "outputs": [
    {
     "data": {
      "text/plain": [
       "array([ 0.78158157,  0.11168131,  0.61250296, -0.05390771, -0.10294255])"
      ]
     },
     "execution_count": 49,
     "metadata": {},
     "output_type": "execute_result"
    }
   ],
   "source": [
    "lr_test_preds = lr.predict(test_preds_df)\n",
    "lr_test_preds[:5]"
   ]
  },
  {
   "cell_type": "markdown",
   "metadata": {},
   "source": [
    "Negative predictions will certainly bring our score down, so I better fix those. I'll do that after adding the values to a dataframe (and before I write them to the submission file)."
   ]
  },
  {
   "cell_type": "code",
   "execution_count": 50,
   "metadata": {},
   "outputs": [
    {
     "data": {
      "text/html": [
       "<div>\n",
       "<style scoped>\n",
       "    .dataframe tbody tr th:only-of-type {\n",
       "        vertical-align: middle;\n",
       "    }\n",
       "\n",
       "    .dataframe tbody tr th {\n",
       "        vertical-align: top;\n",
       "    }\n",
       "\n",
       "    .dataframe thead th {\n",
       "        text-align: right;\n",
       "    }\n",
       "</style>\n",
       "<table border=\"1\" class=\"dataframe\">\n",
       "  <thead>\n",
       "    <tr style=\"text-align: right;\">\n",
       "      <th></th>\n",
       "      <th>ID</th>\n",
       "      <th>item_cnt_month</th>\n",
       "    </tr>\n",
       "  </thead>\n",
       "  <tbody>\n",
       "    <tr>\n",
       "      <th>0</th>\n",
       "      <td>0</td>\n",
       "      <td>0.740000</td>\n",
       "    </tr>\n",
       "    <tr>\n",
       "      <th>1</th>\n",
       "      <td>1</td>\n",
       "      <td>0.110753</td>\n",
       "    </tr>\n",
       "    <tr>\n",
       "      <th>2</th>\n",
       "      <td>2</td>\n",
       "      <td>0.626667</td>\n",
       "    </tr>\n",
       "    <tr>\n",
       "      <th>3</th>\n",
       "      <td>3</td>\n",
       "      <td>0.010667</td>\n",
       "    </tr>\n",
       "    <tr>\n",
       "      <th>4</th>\n",
       "      <td>4</td>\n",
       "      <td>0.020000</td>\n",
       "    </tr>\n",
       "  </tbody>\n",
       "</table>\n",
       "</div>"
      ],
      "text/plain": [
       "   ID  item_cnt_month\n",
       "0   0        0.740000\n",
       "1   1        0.110753\n",
       "2   2        0.626667\n",
       "3   3        0.010667\n",
       "4   4        0.020000"
      ]
     },
     "execution_count": 50,
     "metadata": {},
     "output_type": "execute_result"
    }
   ],
   "source": [
    "rfr_test_preds_df = pd.DataFrame({'ID': test_ID, 'item_cnt_month': rfr_test_preds}, columns=['ID', 'item_cnt_month'])\n",
    "rfr_test_preds_df.head()"
   ]
  },
  {
   "cell_type": "code",
   "execution_count": 51,
   "metadata": {},
   "outputs": [
    {
     "data": {
      "text/html": [
       "<div>\n",
       "<style scoped>\n",
       "    .dataframe tbody tr th:only-of-type {\n",
       "        vertical-align: middle;\n",
       "    }\n",
       "\n",
       "    .dataframe tbody tr th {\n",
       "        vertical-align: top;\n",
       "    }\n",
       "\n",
       "    .dataframe thead th {\n",
       "        text-align: right;\n",
       "    }\n",
       "</style>\n",
       "<table border=\"1\" class=\"dataframe\">\n",
       "  <thead>\n",
       "    <tr style=\"text-align: right;\">\n",
       "      <th></th>\n",
       "      <th>ID</th>\n",
       "      <th>item_cnt_month</th>\n",
       "    </tr>\n",
       "  </thead>\n",
       "  <tbody>\n",
       "    <tr>\n",
       "      <th>0</th>\n",
       "      <td>0</td>\n",
       "      <td>0.627867</td>\n",
       "    </tr>\n",
       "    <tr>\n",
       "      <th>1</th>\n",
       "      <td>1</td>\n",
       "      <td>0.087372</td>\n",
       "    </tr>\n",
       "    <tr>\n",
       "      <th>2</th>\n",
       "      <td>2</td>\n",
       "      <td>0.676305</td>\n",
       "    </tr>\n",
       "    <tr>\n",
       "      <th>3</th>\n",
       "      <td>3</td>\n",
       "      <td>0.179143</td>\n",
       "    </tr>\n",
       "    <tr>\n",
       "      <th>4</th>\n",
       "      <td>4</td>\n",
       "      <td>0.364703</td>\n",
       "    </tr>\n",
       "  </tbody>\n",
       "</table>\n",
       "</div>"
      ],
      "text/plain": [
       "   ID  item_cnt_month\n",
       "0   0        0.627867\n",
       "1   1        0.087372\n",
       "2   2        0.676305\n",
       "3   3        0.179143\n",
       "4   4        0.364703"
      ]
     },
     "execution_count": 51,
     "metadata": {},
     "output_type": "execute_result"
    }
   ],
   "source": [
    "gbr_test_preds_df = pd.DataFrame({'ID': test_ID, 'item_cnt_month': gbr_test_preds}, columns=['ID', 'item_cnt_month'])\n",
    "gbr_test_preds_df.head()"
   ]
  },
  {
   "cell_type": "code",
   "execution_count": 52,
   "metadata": {},
   "outputs": [
    {
     "data": {
      "text/html": [
       "<div>\n",
       "<style scoped>\n",
       "    .dataframe tbody tr th:only-of-type {\n",
       "        vertical-align: middle;\n",
       "    }\n",
       "\n",
       "    .dataframe tbody tr th {\n",
       "        vertical-align: top;\n",
       "    }\n",
       "\n",
       "    .dataframe thead th {\n",
       "        text-align: right;\n",
       "    }\n",
       "</style>\n",
       "<table border=\"1\" class=\"dataframe\">\n",
       "  <thead>\n",
       "    <tr style=\"text-align: right;\">\n",
       "      <th></th>\n",
       "      <th>ID</th>\n",
       "      <th>item_cnt_month</th>\n",
       "    </tr>\n",
       "  </thead>\n",
       "  <tbody>\n",
       "    <tr>\n",
       "      <th>0</th>\n",
       "      <td>0</td>\n",
       "      <td>0.781582</td>\n",
       "    </tr>\n",
       "    <tr>\n",
       "      <th>1</th>\n",
       "      <td>1</td>\n",
       "      <td>0.111681</td>\n",
       "    </tr>\n",
       "    <tr>\n",
       "      <th>2</th>\n",
       "      <td>2</td>\n",
       "      <td>0.612503</td>\n",
       "    </tr>\n",
       "    <tr>\n",
       "      <th>3</th>\n",
       "      <td>3</td>\n",
       "      <td>-0.053908</td>\n",
       "    </tr>\n",
       "    <tr>\n",
       "      <th>4</th>\n",
       "      <td>4</td>\n",
       "      <td>-0.102943</td>\n",
       "    </tr>\n",
       "  </tbody>\n",
       "</table>\n",
       "</div>"
      ],
      "text/plain": [
       "   ID  item_cnt_month\n",
       "0   0        0.781582\n",
       "1   1        0.111681\n",
       "2   2        0.612503\n",
       "3   3       -0.053908\n",
       "4   4       -0.102943"
      ]
     },
     "execution_count": 52,
     "metadata": {},
     "output_type": "execute_result"
    }
   ],
   "source": [
    "lr_test_preds_df = pd.DataFrame({'ID': test_ID, 'item_cnt_month': lr_test_preds}, columns=['ID', 'item_cnt_month'])\n",
    "lr_test_preds_df.head()"
   ]
  },
  {
   "cell_type": "code",
   "execution_count": 53,
   "metadata": {},
   "outputs": [
    {
     "data": {
      "text/html": [
       "<div>\n",
       "<style scoped>\n",
       "    .dataframe tbody tr th:only-of-type {\n",
       "        vertical-align: middle;\n",
       "    }\n",
       "\n",
       "    .dataframe tbody tr th {\n",
       "        vertical-align: top;\n",
       "    }\n",
       "\n",
       "    .dataframe thead th {\n",
       "        text-align: right;\n",
       "    }\n",
       "</style>\n",
       "<table border=\"1\" class=\"dataframe\">\n",
       "  <thead>\n",
       "    <tr style=\"text-align: right;\">\n",
       "      <th></th>\n",
       "      <th>ID</th>\n",
       "      <th>item_cnt_month</th>\n",
       "    </tr>\n",
       "  </thead>\n",
       "  <tbody>\n",
       "    <tr>\n",
       "      <th>0</th>\n",
       "      <td>0</td>\n",
       "      <td>0.781582</td>\n",
       "    </tr>\n",
       "    <tr>\n",
       "      <th>1</th>\n",
       "      <td>1</td>\n",
       "      <td>0.111681</td>\n",
       "    </tr>\n",
       "    <tr>\n",
       "      <th>2</th>\n",
       "      <td>2</td>\n",
       "      <td>0.612503</td>\n",
       "    </tr>\n",
       "    <tr>\n",
       "      <th>3</th>\n",
       "      <td>3</td>\n",
       "      <td>0.000000</td>\n",
       "    </tr>\n",
       "    <tr>\n",
       "      <th>4</th>\n",
       "      <td>4</td>\n",
       "      <td>0.000000</td>\n",
       "    </tr>\n",
       "  </tbody>\n",
       "</table>\n",
       "</div>"
      ],
      "text/plain": [
       "   ID  item_cnt_month\n",
       "0   0        0.781582\n",
       "1   1        0.111681\n",
       "2   2        0.612503\n",
       "3   3        0.000000\n",
       "4   4        0.000000"
      ]
     },
     "execution_count": 53,
     "metadata": {},
     "output_type": "execute_result"
    }
   ],
   "source": [
    "# Increase negative predictions to 0\n",
    "lr_test_preds_df['item_cnt_month'] = lr_test_preds_df['item_cnt_month'].apply(lambda x: x if x >= 0 else 0)\n",
    "lr_test_preds_df.head()"
   ]
  },
  {
   "cell_type": "markdown",
   "metadata": {},
   "source": [
    "# Save the predictions to CSV files and submit them to Kaggle."
   ]
  },
  {
   "cell_type": "code",
   "execution_count": 54,
   "metadata": {},
   "outputs": [],
   "source": [
    "rfr_test_preds_df.to_csv('test_preds_rfr.csv', index=False)"
   ]
  },
  {
   "cell_type": "code",
   "execution_count": 55,
   "metadata": {},
   "outputs": [],
   "source": [
    "gbr_test_preds_df.to_csv('test_preds_gbr.csv', index=False)"
   ]
  },
  {
   "cell_type": "code",
   "execution_count": 56,
   "metadata": {},
   "outputs": [],
   "source": [
    "lr_test_preds_df.to_csv('test_preds_lr.csv', index=False)"
   ]
  },
  {
   "cell_type": "markdown",
   "metadata": {},
   "source": [
    "These predictions from all three of these models was submitted to Kaggle and the RMSE results are:\n",
    "1.05691 for the RandomForestRegressor,\n",
    "1.03955 for GradientBoostingRegressor and\n",
    "1.08329 for the LinearRegression.\n",
    "\n",
    "Both the RandomForestRegressor and LinearRegression had lower errors on the training set than the GradientBoostingRegressor, and higher errors on the test set, so those two were more overfit. Our best model, the GBR, gives a ranking of 902nd place out of 1929 competitors."
   ]
  },
  {
   "cell_type": "markdown",
   "metadata": {},
   "source": [
    "## Saving our models\n",
    "We do this so that if we want to use them later we won't have to go through the training process again."
   ]
  },
  {
   "cell_type": "code",
   "execution_count": 62,
   "metadata": {},
   "outputs": [],
   "source": [
    "from sklearn.externals import joblib"
   ]
  },
  {
   "cell_type": "code",
   "execution_count": 65,
   "metadata": {},
   "outputs": [
    {
     "name": "stdout",
     "output_type": "stream",
     "text": [
      "Run time: 0.0 minutes.\n"
     ]
    }
   ],
   "source": [
    "start = time.time()\n",
    "joblib.dump(test_gbr, 'gbr_windows_sklearn20_0.joblib')\n",
    "print('Run time: {} minutes.'.format(round((time.time() - start) / 60, 1)))"
   ]
  },
  {
   "cell_type": "markdown",
   "metadata": {},
   "source": [
    "gbr_windows_sklearn20_0.pkl ends up being 31,857 KB, which I find surprisingly small. That's because, since the model's max_depth=11, each of the GBR's 137 estimators may have as many 2^11 = 2048 leaf nodes. So there may be as many as 280,576 leaf nodes in the ensemble, each of which has a different output value. Besides all of these output values, the threshold and variable id must be stored for every split node, and there may be as many as 2^10 = 1024 split nodes per estimator, for as many as 140,288 split nodes in total. Now that I calculate it out, assuming 64 bits for each of these numbers, I see the potential total is 35,072 KB for just these numbers. That doesn't include the overhead, such as the structural position of every node in every tree, and whatever model metadata is needed to load the model into memory. Therefore I'm going to try loading the model again and see if it makes the same predictions."
   ]
  },
  {
   "cell_type": "code",
   "execution_count": 66,
   "metadata": {},
   "outputs": [
    {
     "name": "stdout",
     "output_type": "stream",
     "text": [
      "Run time: 0.0 minutes.\n"
     ]
    }
   ],
   "source": [
    "start = time.time()\n",
    "loaded_gbr = joblib.load('gbr_windows_sklearn20_0.joblib')\n",
    "print('Run time: {} minutes.'.format(round((time.time() - start) / 60, 1)))"
   ]
  },
  {
   "cell_type": "code",
   "execution_count": 67,
   "metadata": {},
   "outputs": [
    {
     "data": {
      "text/plain": [
       "GradientBoostingRegressor(alpha=0.9, criterion='friedman_mse', init=None,\n",
       "             learning_rate=0.1, loss='ls', max_depth=11, max_features=None,\n",
       "             max_leaf_nodes=None, min_impurity_decrease=0.0,\n",
       "             min_impurity_split=None, min_samples_leaf=1,\n",
       "             min_samples_split=2, min_weight_fraction_leaf=0.0,\n",
       "             n_estimators=137, n_iter_no_change=None, presort='auto',\n",
       "             random_state=None, subsample=1.0, tol=0.0001,\n",
       "             validation_fraction=0.1, verbose=0, warm_start=False)"
      ]
     },
     "execution_count": 67,
     "metadata": {},
     "output_type": "execute_result"
    }
   ],
   "source": [
    "loaded_gbr"
   ]
  },
  {
   "cell_type": "code",
   "execution_count": 68,
   "metadata": {},
   "outputs": [
    {
     "data": {
      "text/plain": [
       "0.0"
      ]
     },
     "execution_count": 68,
     "metadata": {},
     "output_type": "execute_result"
    }
   ],
   "source": [
    "loaded_gbr_preds = loaded_gbr.predict(test_real)\n",
    "mean_squared_error(gbr_test_preds, loaded_gbr_preds)"
   ]
  },
  {
   "cell_type": "markdown",
   "metadata": {},
   "source": [
    "###### Yup, it seems that the GBR model is reliably stored!"
   ]
  },
  {
   "cell_type": "code",
   "execution_count": 70,
   "metadata": {},
   "outputs": [
    {
     "name": "stdout",
     "output_type": "stream",
     "text": [
      "Run time: 1.6 minutes.\n"
     ]
    }
   ],
   "source": [
    "start = time.time()\n",
    "joblib.dump(rfr, 'rfr_windows_sklearn20_0.pkl')\n",
    "print('Run time: {} minutes.'.format(round((time.time() - start) / 60, 1)))"
   ]
  },
  {
   "cell_type": "markdown",
   "metadata": {},
   "source": [
    "I assumed saving the RFR would be simpler than saving the GBR because that had more estimators with greater depth. This assumption was incorrect. Saving the RFR to file took 1.6 minutes rather than a couple seconds, and produced a file 7,813,370 KB in size! Almost 8 GB! It must be storing everything about every sample in every leaf node of every tree!"
   ]
  }
 ],
 "metadata": {
  "kernelspec": {
   "display_name": "Python 3",
   "language": "python",
   "name": "python3"
  },
  "language_info": {
   "codemirror_mode": {
    "name": "ipython",
    "version": 3
   },
   "file_extension": ".py",
   "mimetype": "text/x-python",
   "name": "python",
   "nbconvert_exporter": "python",
   "pygments_lexer": "ipython3",
   "version": "3.6.2"
  }
 },
 "nbformat": 4,
 "nbformat_minor": 2
}
