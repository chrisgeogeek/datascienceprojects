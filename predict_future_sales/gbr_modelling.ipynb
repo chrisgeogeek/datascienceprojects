{
 "cells": [
  {
   "cell_type": "code",
   "execution_count": 1,
   "metadata": {},
   "outputs": [],
   "source": [
    "import pandas as pd\n",
    "import numpy as np\n",
    "import matplotlib.pyplot as plt\n",
    "import time\n",
    "%matplotlib inline"
   ]
  },
  {
   "cell_type": "code",
   "execution_count": 2,
   "metadata": {},
   "outputs": [
    {
     "data": {
      "text/html": [
       "<div>\n",
       "<style scoped>\n",
       "    .dataframe tbody tr th:only-of-type {\n",
       "        vertical-align: middle;\n",
       "    }\n",
       "\n",
       "    .dataframe tbody tr th {\n",
       "        vertical-align: top;\n",
       "    }\n",
       "\n",
       "    .dataframe thead th {\n",
       "        text-align: right;\n",
       "    }\n",
       "</style>\n",
       "<table border=\"1\" class=\"dataframe\">\n",
       "  <thead>\n",
       "    <tr style=\"text-align: right;\">\n",
       "      <th></th>\n",
       "      <th>item_cnt_month</th>\n",
       "      <th>mean_month_shop</th>\n",
       "      <th>mean_month_cat</th>\n",
       "      <th>mean_by_year</th>\n",
       "      <th>item_cnt_1_ago</th>\n",
       "      <th>item_cnt_2_ago</th>\n",
       "      <th>item_cnt_3_ago</th>\n",
       "      <th>item_cnt_4_ago</th>\n",
       "    </tr>\n",
       "  </thead>\n",
       "  <tbody>\n",
       "    <tr>\n",
       "      <th>0</th>\n",
       "      <td>1.0</td>\n",
       "      <td>0.034671</td>\n",
       "      <td>0.151543</td>\n",
       "      <td>0.085368</td>\n",
       "      <td>1.0</td>\n",
       "      <td>1.0</td>\n",
       "      <td>1.0</td>\n",
       "      <td>1.0</td>\n",
       "    </tr>\n",
       "    <tr>\n",
       "      <th>1</th>\n",
       "      <td>0.0</td>\n",
       "      <td>0.033333</td>\n",
       "      <td>0.151543</td>\n",
       "      <td>0.085368</td>\n",
       "      <td>0.0</td>\n",
       "      <td>0.0</td>\n",
       "      <td>0.0</td>\n",
       "      <td>0.0</td>\n",
       "    </tr>\n",
       "    <tr>\n",
       "      <th>2</th>\n",
       "      <td>0.0</td>\n",
       "      <td>0.051541</td>\n",
       "      <td>0.151543</td>\n",
       "      <td>0.085368</td>\n",
       "      <td>2.0</td>\n",
       "      <td>2.0</td>\n",
       "      <td>0.0</td>\n",
       "      <td>0.0</td>\n",
       "    </tr>\n",
       "    <tr>\n",
       "      <th>3</th>\n",
       "      <td>0.0</td>\n",
       "      <td>0.050038</td>\n",
       "      <td>0.151543</td>\n",
       "      <td>0.085368</td>\n",
       "      <td>0.0</td>\n",
       "      <td>0.0</td>\n",
       "      <td>0.0</td>\n",
       "      <td>0.0</td>\n",
       "    </tr>\n",
       "    <tr>\n",
       "      <th>4</th>\n",
       "      <td>0.0</td>\n",
       "      <td>0.111111</td>\n",
       "      <td>0.151543</td>\n",
       "      <td>0.085368</td>\n",
       "      <td>0.0</td>\n",
       "      <td>3.0</td>\n",
       "      <td>1.0</td>\n",
       "      <td>3.0</td>\n",
       "    </tr>\n",
       "  </tbody>\n",
       "</table>\n",
       "</div>"
      ],
      "text/plain": [
       "   item_cnt_month  mean_month_shop  mean_month_cat  mean_by_year  \\\n",
       "0             1.0         0.034671        0.151543      0.085368   \n",
       "1             0.0         0.033333        0.151543      0.085368   \n",
       "2             0.0         0.051541        0.151543      0.085368   \n",
       "3             0.0         0.050038        0.151543      0.085368   \n",
       "4             0.0         0.111111        0.151543      0.085368   \n",
       "\n",
       "   item_cnt_1_ago  item_cnt_2_ago  item_cnt_3_ago  item_cnt_4_ago  \n",
       "0             1.0             1.0             1.0             1.0  \n",
       "1             0.0             0.0             0.0             0.0  \n",
       "2             2.0             2.0             0.0             0.0  \n",
       "3             0.0             0.0             0.0             0.0  \n",
       "4             0.0             3.0             1.0             3.0  "
      ]
     },
     "execution_count": 2,
     "metadata": {},
     "output_type": "execute_result"
    }
   ],
   "source": [
    "chosen = pd.read_csv('chosen.csv')\n",
    "chosen.head()"
   ]
  },
  {
   "cell_type": "code",
   "execution_count": 3,
   "metadata": {},
   "outputs": [
    {
     "data": {
      "text/html": [
       "<div>\n",
       "<style scoped>\n",
       "    .dataframe tbody tr th:only-of-type {\n",
       "        vertical-align: middle;\n",
       "    }\n",
       "\n",
       "    .dataframe tbody tr th {\n",
       "        vertical-align: top;\n",
       "    }\n",
       "\n",
       "    .dataframe thead th {\n",
       "        text-align: right;\n",
       "    }\n",
       "</style>\n",
       "<table border=\"1\" class=\"dataframe\">\n",
       "  <thead>\n",
       "    <tr style=\"text-align: right;\">\n",
       "      <th></th>\n",
       "      <th>item_cnt_month</th>\n",
       "      <th>mean_month_shop</th>\n",
       "      <th>mean_month_cat</th>\n",
       "      <th>mean_by_year</th>\n",
       "      <th>item_cnt_1_ago</th>\n",
       "      <th>item_cnt_2_ago</th>\n",
       "      <th>item_cnt_3_ago</th>\n",
       "      <th>item_cnt_4_ago</th>\n",
       "    </tr>\n",
       "  </thead>\n",
       "  <tbody>\n",
       "  </tbody>\n",
       "</table>\n",
       "</div>"
      ],
      "text/plain": [
       "Empty DataFrame\n",
       "Columns: [item_cnt_month, mean_month_shop, mean_month_cat, mean_by_year, item_cnt_1_ago, item_cnt_2_ago, item_cnt_3_ago, item_cnt_4_ago]\n",
       "Index: []"
      ]
     },
     "execution_count": 3,
     "metadata": {},
     "output_type": "execute_result"
    }
   ],
   "source": [
    "chosen[chosen.isna().any(axis=1)]"
   ]
  },
  {
   "cell_type": "code",
   "execution_count": 4,
   "metadata": {},
   "outputs": [
    {
     "data": {
      "text/plain": [
       "0.000000e+00     8051990\n",
       "1.000000e+00      897499\n",
       "2.000000e+00      227553\n",
       "3.000000e+00       88164\n",
       "4.000000e+00       45462\n",
       "5.000000e+00       27138\n",
       "6.000000e+00       17536\n",
       "7.000000e+00       11945\n",
       "2.000000e+01       10705\n",
       "8.000000e+00        8828\n",
       "9.000000e+00        6367\n",
       "1.000000e+01        5104\n",
       "1.100000e+01        3786\n",
       "1.200000e+01        3131\n",
       "1.300000e+01        2572\n",
       "1.400000e+01        2048\n",
       "1.500000e+01        1750\n",
       "1.600000e+01        1460\n",
       "1.700000e+01        1323\n",
       "1.800000e+01        1069\n",
       "1.900000e+01         954\n",
       "3.315618e-316          1\n",
       "Name: item_cnt_month, dtype: int64"
      ]
     },
     "execution_count": 4,
     "metadata": {},
     "output_type": "execute_result"
    }
   ],
   "source": [
    "chosen['item_cnt_month'].value_counts()"
   ]
  },
  {
   "cell_type": "code",
   "execution_count": 5,
   "metadata": {},
   "outputs": [
    {
     "data": {
      "text/html": [
       "<div>\n",
       "<style scoped>\n",
       "    .dataframe tbody tr th:only-of-type {\n",
       "        vertical-align: middle;\n",
       "    }\n",
       "\n",
       "    .dataframe tbody tr th {\n",
       "        vertical-align: top;\n",
       "    }\n",
       "\n",
       "    .dataframe thead th {\n",
       "        text-align: right;\n",
       "    }\n",
       "</style>\n",
       "<table border=\"1\" class=\"dataframe\">\n",
       "  <thead>\n",
       "    <tr style=\"text-align: right;\">\n",
       "      <th></th>\n",
       "      <th>item_cnt_month</th>\n",
       "      <th>mean_month_shop</th>\n",
       "      <th>mean_month_cat</th>\n",
       "      <th>mean_by_year</th>\n",
       "      <th>item_cnt_1_ago</th>\n",
       "      <th>item_cnt_2_ago</th>\n",
       "      <th>item_cnt_3_ago</th>\n",
       "      <th>item_cnt_4_ago</th>\n",
       "    </tr>\n",
       "  </thead>\n",
       "  <tbody>\n",
       "    <tr>\n",
       "      <th>1064113</th>\n",
       "      <td>3.315618e-316</td>\n",
       "      <td>0.027951</td>\n",
       "      <td>0.05481</td>\n",
       "      <td>0.085368</td>\n",
       "      <td>0.0</td>\n",
       "      <td>0.0</td>\n",
       "      <td>0.0</td>\n",
       "      <td>0.0</td>\n",
       "    </tr>\n",
       "  </tbody>\n",
       "</table>\n",
       "</div>"
      ],
      "text/plain": [
       "         item_cnt_month  mean_month_shop  mean_month_cat  mean_by_year  \\\n",
       "1064113   3.315618e-316         0.027951         0.05481      0.085368   \n",
       "\n",
       "         item_cnt_1_ago  item_cnt_2_ago  item_cnt_3_ago  item_cnt_4_ago  \n",
       "1064113             0.0             0.0             0.0             0.0  "
      ]
     },
     "execution_count": 5,
     "metadata": {},
     "output_type": "execute_result"
    }
   ],
   "source": [
    "chosen[(chosen['item_cnt_month'] < 1) & (chosen['item_cnt_month'] > 0)]"
   ]
  },
  {
   "cell_type": "code",
   "execution_count": 6,
   "metadata": {},
   "outputs": [
    {
     "data": {
      "text/plain": [
       "0.0     8051990\n",
       "1.0      897499\n",
       "2.0      227553\n",
       "3.0       88164\n",
       "4.0       45462\n",
       "5.0       27138\n",
       "6.0       17536\n",
       "7.0       11945\n",
       "20.0      10705\n",
       "8.0        8828\n",
       "9.0        6367\n",
       "10.0       5104\n",
       "11.0       3786\n",
       "12.0       3131\n",
       "13.0       2572\n",
       "14.0       2048\n",
       "15.0       1750\n",
       "16.0       1460\n",
       "17.0       1323\n",
       "18.0       1069\n",
       "19.0        954\n",
       "Name: item_cnt_month, dtype: int64"
      ]
     },
     "execution_count": 6,
     "metadata": {},
     "output_type": "execute_result"
    }
   ],
   "source": [
    "chosen.drop(1064113, axis=0, inplace=True)\n",
    "chosen['item_cnt_month'].value_counts()"
   ]
  },
  {
   "cell_type": "code",
   "execution_count": 9,
   "metadata": {},
   "outputs": [
    {
     "name": "stderr",
     "output_type": "stream",
     "text": [
      "C:\\Users\\Chris\\Anaconda3\\envs\\DataScience1\\lib\\site-packages\\ipykernel_launcher.py:6: FutureWarning: \n",
      "Passing list-likes to .loc or [] with any missing label will raise\n",
      "KeyError in the future, you can use .reindex() as an alternative.\n",
      "\n",
      "See the documentation here:\n",
      "https://pandas.pydata.org/pandas-docs/stable/indexing.html#deprecate-loc-reindex-listlike\n",
      "  \n",
      "C:\\Users\\Chris\\Anaconda3\\envs\\DataScience1\\lib\\site-packages\\ipykernel_launcher.py:7: FutureWarning: \n",
      "Passing list-likes to .loc or [] with any missing label will raise\n",
      "KeyError in the future, you can use .reindex() as an alternative.\n",
      "\n",
      "See the documentation here:\n",
      "https://pandas.pydata.org/pandas-docs/stable/indexing.html#deprecate-loc-reindex-listlike\n",
      "  import sys\n"
     ]
    },
    {
     "name": "stdout",
     "output_type": "stream",
     "text": [
      "Run time: 9.243976831436157 seconds.\n"
     ]
    }
   ],
   "source": [
    "from sklearn.model_selection import StratifiedShuffleSplit\n",
    "import time\n",
    "start = time.time()\n",
    "splitter = StratifiedShuffleSplit(n_splits=1, test_size=0.25, random_state=42)\n",
    "for train_index, test_index in splitter.split(chosen, chosen['item_cnt_month']):\n",
    "    X_train = chosen.loc[train_index].drop('item_cnt_month', axis=1)\n",
    "    y_train = chosen.loc[train_index]['item_cnt_month']\n",
    "    X_test = chosen.loc[test_index].drop('item_cnt_month', axis=1)\n",
    "    y_test = chosen.loc[test_index]['item_cnt_month']\n",
    "# print('Run time: {} minutes.'.format(round((time.time() - start) / 60)))\n",
    "print('Run time: {} seconds.'.format(time.time() - start))"
   ]
  },
  {
   "cell_type": "code",
   "execution_count": 10,
   "metadata": {},
   "outputs": [
    {
     "data": {
      "text/plain": [
       "(7062288, 7)"
      ]
     },
     "execution_count": 10,
     "metadata": {},
     "output_type": "execute_result"
    }
   ],
   "source": [
    "X_train.shape"
   ]
  },
  {
   "cell_type": "code",
   "execution_count": 11,
   "metadata": {},
   "outputs": [
    {
     "data": {
      "text/plain": [
       "(7062288,)"
      ]
     },
     "execution_count": 11,
     "metadata": {},
     "output_type": "execute_result"
    }
   ],
   "source": [
    "y_train.shape"
   ]
  },
  {
   "cell_type": "code",
   "execution_count": 12,
   "metadata": {},
   "outputs": [
    {
     "data": {
      "text/plain": [
       "(2354096, 7)"
      ]
     },
     "execution_count": 12,
     "metadata": {},
     "output_type": "execute_result"
    }
   ],
   "source": [
    "X_test.shape"
   ]
  },
  {
   "cell_type": "code",
   "execution_count": 13,
   "metadata": {},
   "outputs": [
    {
     "data": {
      "text/plain": [
       "(2354096,)"
      ]
     },
     "execution_count": 13,
     "metadata": {},
     "output_type": "execute_result"
    }
   ],
   "source": [
    "y_test.shape"
   ]
  },
  {
   "cell_type": "code",
   "execution_count": 17,
   "metadata": {},
   "outputs": [
    {
     "data": {
      "text/plain": [
       "0.0     0.855038\n",
       "1.0     0.095355\n",
       "2.0     0.024169\n",
       "3.0     0.009367\n",
       "4.0     0.004839\n",
       "5.0     0.002875\n",
       "6.0     0.001853\n",
       "7.0     0.001285\n",
       "20.0    0.001139\n",
       "8.0     0.000932\n",
       "9.0     0.000675\n",
       "10.0    0.000540\n",
       "11.0    0.000407\n",
       "12.0    0.000335\n",
       "13.0    0.000275\n",
       "14.0    0.000217\n",
       "15.0    0.000187\n",
       "16.0    0.000156\n",
       "17.0    0.000142\n",
       "18.0    0.000113\n",
       "19.0    0.000102\n",
       "Name: item_cnt_month, dtype: float64"
      ]
     },
     "execution_count": 17,
     "metadata": {},
     "output_type": "execute_result"
    }
   ],
   "source": [
    "y_train.value_counts() / y_train.shape[0]"
   ]
  },
  {
   "cell_type": "code",
   "execution_count": 18,
   "metadata": {},
   "outputs": [
    {
     "data": {
      "text/plain": [
       "0.0     0.855303\n",
       "1.0     0.095186\n",
       "2.0     0.024156\n",
       "3.0     0.009351\n",
       "4.0     0.004795\n",
       "5.0     0.002903\n",
       "6.0     0.001891\n",
       "7.0     0.001219\n",
       "20.0    0.001129\n",
       "8.0     0.000953\n",
       "9.0     0.000681\n",
       "10.0    0.000548\n",
       "11.0    0.000387\n",
       "12.0    0.000325\n",
       "13.0    0.000268\n",
       "14.0    0.000218\n",
       "15.0    0.000183\n",
       "16.0    0.000151\n",
       "17.0    0.000137\n",
       "18.0    0.000114\n",
       "19.0    0.000101\n",
       "Name: item_cnt_month, dtype: float64"
      ]
     },
     "execution_count": 18,
     "metadata": {},
     "output_type": "execute_result"
    }
   ],
   "source": [
    "y_test.value_counts() / y_test.shape[0]"
   ]
  },
  {
   "cell_type": "code",
   "execution_count": 19,
   "metadata": {},
   "outputs": [],
   "source": [
    "from sklearn.ensemble import GradientBoostingRegressor\n",
    "from sklearn.model_selection import GridSearchCV"
   ]
  },
  {
   "cell_type": "code",
   "execution_count": 14,
   "metadata": {},
   "outputs": [
    {
     "data": {
      "text/plain": [
       "mean_month_shop     0.697519\n",
       "mean_month_cat     34.363889\n",
       "mean_by_year        0.085368\n",
       "item_cnt_1_ago     20.000000\n",
       "item_cnt_2_ago     20.000000\n",
       "item_cnt_3_ago     20.000000\n",
       "item_cnt_4_ago     20.000000\n",
       "dtype: float64"
      ]
     },
     "execution_count": 14,
     "metadata": {},
     "output_type": "execute_result"
    }
   ],
   "source": [
    "X_train.max(axis=0)"
   ]
  },
  {
   "cell_type": "code",
   "execution_count": 15,
   "metadata": {},
   "outputs": [
    {
     "data": {
      "text/plain": [
       "20.0"
      ]
     },
     "execution_count": 15,
     "metadata": {},
     "output_type": "execute_result"
    }
   ],
   "source": [
    "y_train.max()"
   ]
  },
  {
   "cell_type": "code",
   "execution_count": 20,
   "metadata": {},
   "outputs": [
    {
     "data": {
      "text/html": [
       "<div>\n",
       "<style scoped>\n",
       "    .dataframe tbody tr th:only-of-type {\n",
       "        vertical-align: middle;\n",
       "    }\n",
       "\n",
       "    .dataframe tbody tr th {\n",
       "        vertical-align: top;\n",
       "    }\n",
       "\n",
       "    .dataframe thead th {\n",
       "        text-align: right;\n",
       "    }\n",
       "</style>\n",
       "<table border=\"1\" class=\"dataframe\">\n",
       "  <thead>\n",
       "    <tr style=\"text-align: right;\">\n",
       "      <th></th>\n",
       "      <th>mean_month_shop</th>\n",
       "      <th>mean_month_cat</th>\n",
       "      <th>mean_by_year</th>\n",
       "      <th>item_cnt_1_ago</th>\n",
       "      <th>item_cnt_2_ago</th>\n",
       "      <th>item_cnt_3_ago</th>\n",
       "      <th>item_cnt_4_ago</th>\n",
       "    </tr>\n",
       "  </thead>\n",
       "  <tbody>\n",
       "    <tr>\n",
       "      <th>1064113</th>\n",
       "      <td>NaN</td>\n",
       "      <td>NaN</td>\n",
       "      <td>NaN</td>\n",
       "      <td>NaN</td>\n",
       "      <td>NaN</td>\n",
       "      <td>NaN</td>\n",
       "      <td>NaN</td>\n",
       "    </tr>\n",
       "  </tbody>\n",
       "</table>\n",
       "</div>"
      ],
      "text/plain": [
       "         mean_month_shop  mean_month_cat  mean_by_year  item_cnt_1_ago  \\\n",
       "1064113              NaN             NaN           NaN             NaN   \n",
       "\n",
       "         item_cnt_2_ago  item_cnt_3_ago  item_cnt_4_ago  \n",
       "1064113             NaN             NaN             NaN  "
      ]
     },
     "execution_count": 20,
     "metadata": {},
     "output_type": "execute_result"
    }
   ],
   "source": [
    "X_train[X_train.isna().any(axis=1)]"
   ]
  },
  {
   "cell_type": "code",
   "execution_count": 21,
   "metadata": {},
   "outputs": [],
   "source": [
    "X_train.drop(1064113, axis=0, inplace=True)"
   ]
  },
  {
   "cell_type": "code",
   "execution_count": 22,
   "metadata": {},
   "outputs": [
    {
     "data": {
      "text/html": [
       "<div>\n",
       "<style scoped>\n",
       "    .dataframe tbody tr th:only-of-type {\n",
       "        vertical-align: middle;\n",
       "    }\n",
       "\n",
       "    .dataframe tbody tr th {\n",
       "        vertical-align: top;\n",
       "    }\n",
       "\n",
       "    .dataframe thead th {\n",
       "        text-align: right;\n",
       "    }\n",
       "</style>\n",
       "<table border=\"1\" class=\"dataframe\">\n",
       "  <thead>\n",
       "    <tr style=\"text-align: right;\">\n",
       "      <th></th>\n",
       "      <th>mean_month_shop</th>\n",
       "      <th>mean_month_cat</th>\n",
       "      <th>mean_by_year</th>\n",
       "      <th>item_cnt_1_ago</th>\n",
       "      <th>item_cnt_2_ago</th>\n",
       "      <th>item_cnt_3_ago</th>\n",
       "      <th>item_cnt_4_ago</th>\n",
       "    </tr>\n",
       "  </thead>\n",
       "  <tbody>\n",
       "  </tbody>\n",
       "</table>\n",
       "</div>"
      ],
      "text/plain": [
       "Empty DataFrame\n",
       "Columns: [mean_month_shop, mean_month_cat, mean_by_year, item_cnt_1_ago, item_cnt_2_ago, item_cnt_3_ago, item_cnt_4_ago]\n",
       "Index: []"
      ]
     },
     "execution_count": 22,
     "metadata": {},
     "output_type": "execute_result"
    }
   ],
   "source": [
    "X_train[X_train.isna().any(axis=1)]"
   ]
  },
  {
   "cell_type": "code",
   "execution_count": 24,
   "metadata": {},
   "outputs": [],
   "source": [
    "y_train.drop(1064113, inplace=True)"
   ]
  },
  {
   "cell_type": "code",
   "execution_count": 25,
   "metadata": {},
   "outputs": [
    {
     "name": "stdout",
     "output_type": "stream",
     "text": [
      "Run time: 8 minutes.\n"
     ]
    }
   ],
   "source": [
    "gbr = GradientBoostingRegressor()\n",
    "start = time.time()\n",
    "gbr.fit(X_train, y_train)\n",
    "print('Run time: {} minutes.'.format(round((time.time() - start) / 60)))"
   ]
  },
  {
   "cell_type": "code",
   "execution_count": 26,
   "metadata": {},
   "outputs": [],
   "source": [
    "from sklearn.metrics import mean_squared_error"
   ]
  },
  {
   "cell_type": "code",
   "execution_count": 28,
   "metadata": {},
   "outputs": [],
   "source": [
    "train_preds = gbr.predict(X_train)"
   ]
  },
  {
   "cell_type": "code",
   "execution_count": 29,
   "metadata": {},
   "outputs": [
    {
     "data": {
      "text/plain": [
       "0.9414885532352254"
      ]
     },
     "execution_count": 29,
     "metadata": {},
     "output_type": "execute_result"
    }
   ],
   "source": [
    "np.sqrt(mean_squared_error(y_train, train_preds))"
   ]
  },
  {
   "cell_type": "code",
   "execution_count": 30,
   "metadata": {},
   "outputs": [
    {
     "data": {
      "text/plain": [
       "0.29414918991539524"
      ]
     },
     "execution_count": 30,
     "metadata": {},
     "output_type": "execute_result"
    }
   ],
   "source": [
    "train_preds.mean()"
   ]
  },
  {
   "cell_type": "code",
   "execution_count": 43,
   "metadata": {},
   "outputs": [
    {
     "data": {
      "text/plain": [
       "0.2941491899153914"
      ]
     },
     "execution_count": 43,
     "metadata": {},
     "output_type": "execute_result"
    }
   ],
   "source": [
    "y_train.mean()"
   ]
  },
  {
   "cell_type": "code",
   "execution_count": 32,
   "metadata": {},
   "outputs": [
    {
     "data": {
      "text/plain": [
       "<matplotlib.axes._subplots.AxesSubplot at 0x25a805e3f98>"
      ]
     },
     "execution_count": 32,
     "metadata": {},
     "output_type": "execute_result"
    },
    {
     "data": {
      "image/png": "[encoded data removed]",
      "text/plain": [
       "<Figure size 432x288 with 1 Axes>"
      ]
     },
     "metadata": {
      "needs_background": "light"
     },
     "output_type": "display_data"
    }
   ],
   "source": [
    "y_train.hist(bins=40)"
   ]
  },
  {
   "cell_type": "code",
   "execution_count": 35,
   "metadata": {},
   "outputs": [
    {
     "data": {
      "text/plain": [
       "<matplotlib.axes._subplots.AxesSubplot at 0x25a80656eb8>"
      ]
     },
     "execution_count": 35,
     "metadata": {},
     "output_type": "execute_result"
    },
    {
     "data": {
      "image/png": "[encoded data removed]",
      "text/plain": [
       "<Figure size 432x288 with 1 Axes>"
      ]
     },
     "metadata": {
      "needs_background": "light"
     },
     "output_type": "display_data"
    }
   ],
   "source": [
    "pd.Series(train_preds).hist(bins=40)"
   ]
  },
  {
   "cell_type": "code",
   "execution_count": 36,
   "metadata": {},
   "outputs": [
    {
     "data": {
      "text/plain": [
       "array([0.02553551, 0.05802907, 0.00344688, 0.80823397, 0.04835386,\n",
       "       0.03890313, 0.01749758])"
      ]
     },
     "execution_count": 36,
     "metadata": {},
     "output_type": "execute_result"
    }
   ],
   "source": [
    "gbr.feature_importances_"
   ]
  },
  {
   "cell_type": "code",
   "execution_count": 37,
   "metadata": {},
   "outputs": [
    {
     "data": {
      "text/plain": [
       "array([1.381456  , 1.30428097, 1.24113091, 1.18888176, 1.14534024,\n",
       "       1.10952265, 1.07884022, 1.05373579, 1.03228455, 1.01439535,\n",
       "       0.99963327, 0.98692649, 0.9758166 , 0.96654545, 0.95867839,\n",
       "       0.95195384, 0.94592206, 0.94105152, 0.93641963, 0.93238427,\n",
       "       0.92863661, 0.9253048 , 0.92248426, 0.91977241, 0.91752094,\n",
       "       0.91536419, 0.9135693 , 0.91190862, 0.91013927, 0.90870852,\n",
       "       0.90731856, 0.9061407 , 0.90497304, 0.90402942, 0.90315037,\n",
       "       0.90213145, 0.90143016, 0.90062663, 0.89984661, 0.89925455,\n",
       "       0.8986993 , 0.89806738, 0.89757631, 0.89704016, 0.89661103,\n",
       "       0.89611104, 0.89577353, 0.89543764, 0.89505752, 0.8947076 ,\n",
       "       0.89433976, 0.89405828, 0.8938461 , 0.89361995, 0.89338271,\n",
       "       0.89305088, 0.89286893, 0.89261251, 0.89243425, 0.89227414,\n",
       "       0.89207072, 0.89191338, 0.89163831, 0.89140229, 0.89124539,\n",
       "       0.89097673, 0.89077663, 0.890591  , 0.89041408, 0.89024579,\n",
       "       0.89006675, 0.88996469, 0.88982333, 0.88970996, 0.88955656,\n",
       "       0.88942075, 0.88914004, 0.8890782 , 0.88896427, 0.88882534,\n",
       "       0.88874214, 0.88856127, 0.88832682, 0.88817327, 0.88805606,\n",
       "       0.88797872, 0.88786923, 0.88782826, 0.88769556, 0.88761151,\n",
       "       0.88750382, 0.8872821 , 0.88713486, 0.88708077, 0.88704265,\n",
       "       0.88696178, 0.88690737, 0.8867669 , 0.88653268, 0.8864007 ])"
      ]
     },
     "execution_count": 37,
     "metadata": {},
     "output_type": "execute_result"
    }
   ],
   "source": [
    "gbr.train_score_"
   ]
  },
  {
   "cell_type": "code",
   "execution_count": 42,
   "metadata": {},
   "outputs": [
    {
     "name": "stdout",
     "output_type": "stream",
     "text": [
      "Complete: max_depth=3, learning_rate=0.2, best_n_estimators=63, mse=0.88, train time=13.3 minutes.\n",
      "Complete: max_depth=3, learning_rate=0.15, best_n_estimators=64, mse=0.89, train time=13.7 minutes.\n",
      "Complete: max_depth=3, learning_rate=0.1, best_n_estimators=84, mse=0.89, train time=19.8 minutes.\n",
      "Complete: max_depth=3, learning_rate=0.075, best_n_estimators=99, mse=0.89, train time=29.8 minutes.\n",
      "Complete: max_depth=3, learning_rate=0.05, best_n_estimators=121, mse=0.89, train time=56.1 minutes.\n",
      "Complete: max_depth=3, learning_rate=0.025, best_n_estimators=188, mse=0.89, train time=130.6 minutes.\n",
      "Complete: max_depth=5, learning_rate=0.2, best_n_estimators=72, mse=0.86, train time=66.3 minutes.\n",
      "Complete: max_depth=5, learning_rate=0.15, best_n_estimators=70, mse=0.87, train time=66.4 minutes.\n",
      "Complete: max_depth=5, learning_rate=0.1, best_n_estimators=86, mse=0.87, train time=77.7 minutes.\n",
      "Complete: max_depth=5, learning_rate=0.075, best_n_estimators=92, mse=0.87, train time=38.6 minutes.\n",
      "Complete: max_depth=5, learning_rate=0.05, best_n_estimators=114, mse=0.87, train time=50.9 minutes.\n",
      "Complete: max_depth=5, learning_rate=0.025, best_n_estimators=161, mse=0.88, train time=83.5 minutes.\n",
      "Complete: max_depth=7, learning_rate=0.2, best_n_estimators=58, mse=0.85, train time=42.8 minutes.\n",
      "Complete: max_depth=7, learning_rate=0.15, best_n_estimators=73, mse=0.85, train time=54.8 minutes.\n",
      "Complete: max_depth=7, learning_rate=0.1, best_n_estimators=82, mse=0.85, train time=66.0 minutes.\n",
      "Complete: max_depth=7, learning_rate=0.075, best_n_estimators=110, mse=0.85, train time=93.7 minutes.\n",
      "Complete: max_depth=7, learning_rate=0.05, best_n_estimators=123, mse=0.86, train time=108.2 minutes.\n",
      "Complete: max_depth=7, learning_rate=0.025, best_n_estimators=183, mse=0.86, train time=188.6 minutes.\n",
      "Run time: 1200.7 minutes.\n"
     ]
    }
   ],
   "source": [
    "start = time.time()\n",
    "tol = 0.0001\n",
    "results = []\n",
    "for max_depth in [3, 5, 7]:\n",
    "    for learning_rate in [0.200, 0.150, 0.100, 0.075, 0.050, 0.025]:\n",
    "        gbr = GradientBoostingRegressor(max_depth=max_depth, learning_rate=learning_rate, warm_start=True)\n",
    "        test_error = 1000\n",
    "        best_n_estimators = 0\n",
    "        n_iter_no_change = 0\n",
    "        train_start = time.time()\n",
    "        for n_estimators in range(1, 301):\n",
    "            gbr.n_estimators = n_estimators\n",
    "            gbr.fit(X_train, y_train)\n",
    "            test_preds = gbr.predict(X_test)\n",
    "            last_error = test_error\n",
    "            test_error = mean_squared_error(y_test, test_preds)\n",
    "            if last_error - test_error > tol:\n",
    "                # Significant improvement\n",
    "                best_n_estimators = n_estimators\n",
    "                best_error = test_error\n",
    "            else:\n",
    "                n_iter_no_change += 1\n",
    "            if n_iter_no_change == 5:\n",
    "                break\n",
    "        train_time = round((time.time() - train_start) / 60, 1)\n",
    "        results.append([max_depth, learning_rate, best_n_estimators, round(best_error, 2), train_time])\n",
    "        print('Complete: max_depth={}, learning_rate={}, best_n_estimators={}, mse={}, train time={} minutes.'\\\n",
    "             .format(max_depth, learning_rate, best_n_estimators, round(best_error, 2), train_time))\n",
    "print('Run time: {} minutes.'.format(round((time.time() - start) / 60, 1)))"
   ]
  },
  {
   "cell_type": "code",
   "execution_count": 45,
   "metadata": {},
   "outputs": [
    {
     "data": {
      "text/html": [
       "<div>\n",
       "<style scoped>\n",
       "    .dataframe tbody tr th:only-of-type {\n",
       "        vertical-align: middle;\n",
       "    }\n",
       "\n",
       "    .dataframe tbody tr th {\n",
       "        vertical-align: top;\n",
       "    }\n",
       "\n",
       "    .dataframe thead th {\n",
       "        text-align: right;\n",
       "    }\n",
       "</style>\n",
       "<table border=\"1\" class=\"dataframe\">\n",
       "  <thead>\n",
       "    <tr style=\"text-align: right;\">\n",
       "      <th></th>\n",
       "      <th>max_depth</th>\n",
       "      <th>learning_rate</th>\n",
       "      <th>n_estimators</th>\n",
       "      <th>mse</th>\n",
       "      <th>time</th>\n",
       "    </tr>\n",
       "  </thead>\n",
       "  <tbody>\n",
       "    <tr>\n",
       "      <th>0</th>\n",
       "      <td>3</td>\n",
       "      <td>0.200</td>\n",
       "      <td>63</td>\n",
       "      <td>0.88</td>\n",
       "      <td>13.3</td>\n",
       "    </tr>\n",
       "    <tr>\n",
       "      <th>1</th>\n",
       "      <td>3</td>\n",
       "      <td>0.150</td>\n",
       "      <td>64</td>\n",
       "      <td>0.89</td>\n",
       "      <td>13.7</td>\n",
       "    </tr>\n",
       "    <tr>\n",
       "      <th>2</th>\n",
       "      <td>3</td>\n",
       "      <td>0.100</td>\n",
       "      <td>84</td>\n",
       "      <td>0.89</td>\n",
       "      <td>19.8</td>\n",
       "    </tr>\n",
       "    <tr>\n",
       "      <th>3</th>\n",
       "      <td>3</td>\n",
       "      <td>0.075</td>\n",
       "      <td>99</td>\n",
       "      <td>0.89</td>\n",
       "      <td>29.8</td>\n",
       "    </tr>\n",
       "    <tr>\n",
       "      <th>4</th>\n",
       "      <td>3</td>\n",
       "      <td>0.050</td>\n",
       "      <td>121</td>\n",
       "      <td>0.89</td>\n",
       "      <td>56.1</td>\n",
       "    </tr>\n",
       "    <tr>\n",
       "      <th>5</th>\n",
       "      <td>3</td>\n",
       "      <td>0.025</td>\n",
       "      <td>188</td>\n",
       "      <td>0.89</td>\n",
       "      <td>130.6</td>\n",
       "    </tr>\n",
       "    <tr>\n",
       "      <th>6</th>\n",
       "      <td>5</td>\n",
       "      <td>0.200</td>\n",
       "      <td>72</td>\n",
       "      <td>0.86</td>\n",
       "      <td>66.3</td>\n",
       "    </tr>\n",
       "    <tr>\n",
       "      <th>7</th>\n",
       "      <td>5</td>\n",
       "      <td>0.150</td>\n",
       "      <td>70</td>\n",
       "      <td>0.87</td>\n",
       "      <td>66.4</td>\n",
       "    </tr>\n",
       "    <tr>\n",
       "      <th>8</th>\n",
       "      <td>5</td>\n",
       "      <td>0.100</td>\n",
       "      <td>86</td>\n",
       "      <td>0.87</td>\n",
       "      <td>77.7</td>\n",
       "    </tr>\n",
       "    <tr>\n",
       "      <th>9</th>\n",
       "      <td>5</td>\n",
       "      <td>0.075</td>\n",
       "      <td>92</td>\n",
       "      <td>0.87</td>\n",
       "      <td>38.6</td>\n",
       "    </tr>\n",
       "    <tr>\n",
       "      <th>10</th>\n",
       "      <td>5</td>\n",
       "      <td>0.050</td>\n",
       "      <td>114</td>\n",
       "      <td>0.87</td>\n",
       "      <td>50.9</td>\n",
       "    </tr>\n",
       "    <tr>\n",
       "      <th>11</th>\n",
       "      <td>5</td>\n",
       "      <td>0.025</td>\n",
       "      <td>161</td>\n",
       "      <td>0.88</td>\n",
       "      <td>83.5</td>\n",
       "    </tr>\n",
       "    <tr>\n",
       "      <th>12</th>\n",
       "      <td>7</td>\n",
       "      <td>0.200</td>\n",
       "      <td>58</td>\n",
       "      <td>0.85</td>\n",
       "      <td>42.8</td>\n",
       "    </tr>\n",
       "    <tr>\n",
       "      <th>13</th>\n",
       "      <td>7</td>\n",
       "      <td>0.150</td>\n",
       "      <td>73</td>\n",
       "      <td>0.85</td>\n",
       "      <td>54.8</td>\n",
       "    </tr>\n",
       "    <tr>\n",
       "      <th>14</th>\n",
       "      <td>7</td>\n",
       "      <td>0.100</td>\n",
       "      <td>82</td>\n",
       "      <td>0.85</td>\n",
       "      <td>66.0</td>\n",
       "    </tr>\n",
       "    <tr>\n",
       "      <th>15</th>\n",
       "      <td>7</td>\n",
       "      <td>0.075</td>\n",
       "      <td>110</td>\n",
       "      <td>0.85</td>\n",
       "      <td>93.7</td>\n",
       "    </tr>\n",
       "    <tr>\n",
       "      <th>16</th>\n",
       "      <td>7</td>\n",
       "      <td>0.050</td>\n",
       "      <td>123</td>\n",
       "      <td>0.86</td>\n",
       "      <td>108.2</td>\n",
       "    </tr>\n",
       "    <tr>\n",
       "      <th>17</th>\n",
       "      <td>7</td>\n",
       "      <td>0.025</td>\n",
       "      <td>183</td>\n",
       "      <td>0.86</td>\n",
       "      <td>188.6</td>\n",
       "    </tr>\n",
       "  </tbody>\n",
       "</table>\n",
       "</div>"
      ],
      "text/plain": [
       "    max_depth  learning_rate  n_estimators   mse   time\n",
       "0           3          0.200            63  0.88   13.3\n",
       "1           3          0.150            64  0.89   13.7\n",
       "2           3          0.100            84  0.89   19.8\n",
       "3           3          0.075            99  0.89   29.8\n",
       "4           3          0.050           121  0.89   56.1\n",
       "5           3          0.025           188  0.89  130.6\n",
       "6           5          0.200            72  0.86   66.3\n",
       "7           5          0.150            70  0.87   66.4\n",
       "8           5          0.100            86  0.87   77.7\n",
       "9           5          0.075            92  0.87   38.6\n",
       "10          5          0.050           114  0.87   50.9\n",
       "11          5          0.025           161  0.88   83.5\n",
       "12          7          0.200            58  0.85   42.8\n",
       "13          7          0.150            73  0.85   54.8\n",
       "14          7          0.100            82  0.85   66.0\n",
       "15          7          0.075           110  0.85   93.7\n",
       "16          7          0.050           123  0.86  108.2\n",
       "17          7          0.025           183  0.86  188.6"
      ]
     },
     "execution_count": 45,
     "metadata": {},
     "output_type": "execute_result"
    }
   ],
   "source": [
    "results1 = pd.DataFrame(results, columns=['max_depth', 'learning_rate', 'n_estimators', 'mse', 'time'])\n",
    "results1"
   ]
  },
  {
   "cell_type": "code",
   "execution_count": null,
   "metadata": {},
   "outputs": [],
   "source": [
    "param_grid = {'max_depth': [3, 5, 7], 'learning_rate': [0.25, 0.2, 0.15, 0.1, 0.075, 0.05, 0.025],\n",
    "             'n_estimators': [100, 200, 300]}"
   ]
  },
  {
   "cell_type": "code",
   "execution_count": 47,
   "metadata": {},
   "outputs": [
    {
     "name": "stdout",
     "output_type": "stream",
     "text": [
      "Complete: max_depth=9, learning_rate=0.2, best_n_estimators=86, mse=0.828, train time=135.2 minutes.\n",
      "Complete: max_depth=9, learning_rate=0.1, best_n_estimators=136, mse=0.829, train time=230.3 minutes.\n",
      "Complete: max_depth=9, learning_rate=0.05, best_n_estimators=176, mse=0.837, train time=319.2 minutes.\n"
     ]
    },
    {
     "ename": "KeyboardInterrupt",
     "evalue": "",
     "output_type": "error",
     "traceback": [
      "\u001b[1;31m---------------------------------------------------------------------------\u001b[0m",
      "\u001b[1;31mKeyboardInterrupt\u001b[0m                         Traceback (most recent call last)",
      "\u001b[1;32m<ipython-input-47-b39945318e34>\u001b[0m in \u001b[0;36m<module>\u001b[1;34m()\u001b[0m\n\u001b[0;32m     11\u001b[0m         \u001b[1;32mfor\u001b[0m \u001b[0mn_estimators\u001b[0m \u001b[1;32min\u001b[0m \u001b[0mrange\u001b[0m\u001b[1;33m(\u001b[0m\u001b[1;36m20\u001b[0m\u001b[1;33m,\u001b[0m \u001b[1;36m301\u001b[0m\u001b[1;33m,\u001b[0m \u001b[1;36m2\u001b[0m\u001b[1;33m)\u001b[0m\u001b[1;33m:\u001b[0m\u001b[1;33m\u001b[0m\u001b[0m\n\u001b[0;32m     12\u001b[0m             \u001b[0mgbr\u001b[0m\u001b[1;33m.\u001b[0m\u001b[0mn_estimators\u001b[0m \u001b[1;33m=\u001b[0m \u001b[0mn_estimators\u001b[0m\u001b[1;33m\u001b[0m\u001b[0m\n\u001b[1;32m---> 13\u001b[1;33m             \u001b[0mgbr\u001b[0m\u001b[1;33m.\u001b[0m\u001b[0mfit\u001b[0m\u001b[1;33m(\u001b[0m\u001b[0mX_train\u001b[0m\u001b[1;33m,\u001b[0m \u001b[0my_train\u001b[0m\u001b[1;33m)\u001b[0m\u001b[1;33m\u001b[0m\u001b[0m\n\u001b[0m\u001b[0;32m     14\u001b[0m             \u001b[0mtest_preds\u001b[0m \u001b[1;33m=\u001b[0m \u001b[0mgbr\u001b[0m\u001b[1;33m.\u001b[0m\u001b[0mpredict\u001b[0m\u001b[1;33m(\u001b[0m\u001b[0mX_test\u001b[0m\u001b[1;33m)\u001b[0m\u001b[1;33m\u001b[0m\u001b[0m\n\u001b[0;32m     15\u001b[0m             \u001b[0mlast_error\u001b[0m \u001b[1;33m=\u001b[0m \u001b[0mtest_error\u001b[0m\u001b[1;33m\u001b[0m\u001b[0m\n",
      "\u001b[1;32m~\\Anaconda3\\envs\\DataScience1\\lib\\site-packages\\sklearn\\ensemble\\gradient_boosting.py\u001b[0m in \u001b[0;36mfit\u001b[1;34m(self, X, y, sample_weight, monitor)\u001b[0m\n\u001b[0;32m   1463\u001b[0m         n_stages = self._fit_stages(X, y, y_pred, sample_weight, self._rng,\n\u001b[0;32m   1464\u001b[0m                                     \u001b[0mX_val\u001b[0m\u001b[1;33m,\u001b[0m \u001b[0my_val\u001b[0m\u001b[1;33m,\u001b[0m \u001b[0msample_weight_val\u001b[0m\u001b[1;33m,\u001b[0m\u001b[1;33m\u001b[0m\u001b[0m\n\u001b[1;32m-> 1465\u001b[1;33m                                     begin_at_stage, monitor, X_idx_sorted)\n\u001b[0m\u001b[0;32m   1466\u001b[0m \u001b[1;33m\u001b[0m\u001b[0m\n\u001b[0;32m   1467\u001b[0m         \u001b[1;31m# change shape of arrays after fit (early-stopping or additional ests)\u001b[0m\u001b[1;33m\u001b[0m\u001b[1;33m\u001b[0m\u001b[0m\n",
      "\u001b[1;32m~\\Anaconda3\\envs\\DataScience1\\lib\\site-packages\\sklearn\\ensemble\\gradient_boosting.py\u001b[0m in \u001b[0;36m_fit_stages\u001b[1;34m(self, X, y, y_pred, sample_weight, random_state, X_val, y_val, sample_weight_val, begin_at_stage, monitor, X_idx_sorted)\u001b[0m\n\u001b[0;32m   1527\u001b[0m             y_pred = self._fit_stage(i, X, y, y_pred, sample_weight,\n\u001b[0;32m   1528\u001b[0m                                      \u001b[0msample_mask\u001b[0m\u001b[1;33m,\u001b[0m \u001b[0mrandom_state\u001b[0m\u001b[1;33m,\u001b[0m \u001b[0mX_idx_sorted\u001b[0m\u001b[1;33m,\u001b[0m\u001b[1;33m\u001b[0m\u001b[0m\n\u001b[1;32m-> 1529\u001b[1;33m                                      X_csc, X_csr)\n\u001b[0m\u001b[0;32m   1530\u001b[0m \u001b[1;33m\u001b[0m\u001b[0m\n\u001b[0;32m   1531\u001b[0m             \u001b[1;31m# track deviance (= loss)\u001b[0m\u001b[1;33m\u001b[0m\u001b[1;33m\u001b[0m\u001b[0m\n",
      "\u001b[1;32m~\\Anaconda3\\envs\\DataScience1\\lib\\site-packages\\sklearn\\ensemble\\gradient_boosting.py\u001b[0m in \u001b[0;36m_fit_stage\u001b[1;34m(self, i, X, y, y_pred, sample_weight, sample_mask, random_state, X_idx_sorted, X_csc, X_csr)\u001b[0m\n\u001b[0;32m   1192\u001b[0m             \u001b[0mX\u001b[0m \u001b[1;33m=\u001b[0m \u001b[0mX_csr\u001b[0m \u001b[1;32mif\u001b[0m \u001b[0mX_csr\u001b[0m \u001b[1;32mis\u001b[0m \u001b[1;32mnot\u001b[0m \u001b[1;32mNone\u001b[0m \u001b[1;32melse\u001b[0m \u001b[0mX\u001b[0m\u001b[1;33m\u001b[0m\u001b[0m\n\u001b[0;32m   1193\u001b[0m             tree.fit(X, residual, sample_weight=sample_weight,\n\u001b[1;32m-> 1194\u001b[1;33m                      check_input=False, X_idx_sorted=X_idx_sorted)\n\u001b[0m\u001b[0;32m   1195\u001b[0m \u001b[1;33m\u001b[0m\u001b[0m\n\u001b[0;32m   1196\u001b[0m             \u001b[1;31m# update tree leaves\u001b[0m\u001b[1;33m\u001b[0m\u001b[1;33m\u001b[0m\u001b[0m\n",
      "\u001b[1;32m~\\Anaconda3\\envs\\DataScience1\\lib\\site-packages\\sklearn\\tree\\tree.py\u001b[0m in \u001b[0;36mfit\u001b[1;34m(self, X, y, sample_weight, check_input, X_idx_sorted)\u001b[0m\n\u001b[0;32m   1137\u001b[0m             \u001b[0msample_weight\u001b[0m\u001b[1;33m=\u001b[0m\u001b[0msample_weight\u001b[0m\u001b[1;33m,\u001b[0m\u001b[1;33m\u001b[0m\u001b[0m\n\u001b[0;32m   1138\u001b[0m             \u001b[0mcheck_input\u001b[0m\u001b[1;33m=\u001b[0m\u001b[0mcheck_input\u001b[0m\u001b[1;33m,\u001b[0m\u001b[1;33m\u001b[0m\u001b[0m\n\u001b[1;32m-> 1139\u001b[1;33m             X_idx_sorted=X_idx_sorted)\n\u001b[0m\u001b[0;32m   1140\u001b[0m         \u001b[1;32mreturn\u001b[0m \u001b[0mself\u001b[0m\u001b[1;33m\u001b[0m\u001b[0m\n\u001b[0;32m   1141\u001b[0m \u001b[1;33m\u001b[0m\u001b[0m\n",
      "\u001b[1;32m~\\Anaconda3\\envs\\DataScience1\\lib\\site-packages\\sklearn\\tree\\tree.py\u001b[0m in \u001b[0;36mfit\u001b[1;34m(self, X, y, sample_weight, check_input, X_idx_sorted)\u001b[0m\n\u001b[0;32m    363\u001b[0m                                            min_impurity_split)\n\u001b[0;32m    364\u001b[0m \u001b[1;33m\u001b[0m\u001b[0m\n\u001b[1;32m--> 365\u001b[1;33m         \u001b[0mbuilder\u001b[0m\u001b[1;33m.\u001b[0m\u001b[0mbuild\u001b[0m\u001b[1;33m(\u001b[0m\u001b[0mself\u001b[0m\u001b[1;33m.\u001b[0m\u001b[0mtree_\u001b[0m\u001b[1;33m,\u001b[0m \u001b[0mX\u001b[0m\u001b[1;33m,\u001b[0m \u001b[0my\u001b[0m\u001b[1;33m,\u001b[0m \u001b[0msample_weight\u001b[0m\u001b[1;33m,\u001b[0m \u001b[0mX_idx_sorted\u001b[0m\u001b[1;33m)\u001b[0m\u001b[1;33m\u001b[0m\u001b[0m\n\u001b[0m\u001b[0;32m    366\u001b[0m \u001b[1;33m\u001b[0m\u001b[0m\n\u001b[0;32m    367\u001b[0m         \u001b[1;32mif\u001b[0m \u001b[0mself\u001b[0m\u001b[1;33m.\u001b[0m\u001b[0mn_outputs_\u001b[0m \u001b[1;33m==\u001b[0m \u001b[1;36m1\u001b[0m\u001b[1;33m:\u001b[0m\u001b[1;33m\u001b[0m\u001b[0m\n",
      "\u001b[1;31mKeyboardInterrupt\u001b[0m: "
     ]
    }
   ],
   "source": [
    "start = time.time()\n",
    "tol = 0.0001\n",
    "results = []\n",
    "for max_depth in [9, 11, 13]:\n",
    "    for learning_rate in [0.200, 0.100, 0.050]:\n",
    "        gbr = GradientBoostingRegressor(max_depth=max_depth, learning_rate=learning_rate, warm_start=True)\n",
    "        test_error = 1000\n",
    "        best_n_estimators = 0\n",
    "        n_iter_no_change = 0\n",
    "        train_start = time.time()\n",
    "        for n_estimators in range(20, 301, 2):\n",
    "            gbr.n_estimators = n_estimators\n",
    "            gbr.fit(X_train, y_train)\n",
    "            test_preds = gbr.predict(X_test)\n",
    "            last_error = test_error\n",
    "            test_error = mean_squared_error(y_test, test_preds)\n",
    "            if last_error - test_error > tol:\n",
    "                # Significant improvement\n",
    "                best_n_estimators = n_estimators\n",
    "                best_error = test_error\n",
    "            else:\n",
    "                n_iter_no_change += 1\n",
    "            if n_iter_no_change == 5:\n",
    "                break\n",
    "        best_error = round(best_error, 3)\n",
    "        train_time = round((time.time() - train_start) / 60, 1)\n",
    "        results.append([max_depth, learning_rate, best_n_estimators, best_error, train_time])\n",
    "        print('Complete: max_depth={}, learning_rate={}, best_n_estimators={}, mse={}, train time={} minutes.'\\\n",
    "             .format(max_depth, learning_rate, best_n_estimators, best_error, train_time))\n",
    "print('Run time: {} minutes.'.format(round((time.time() - start) / 60, 1)))"
   ]
  },
  {
   "cell_type": "code",
   "execution_count": 48,
   "metadata": {},
   "outputs": [
    {
     "data": {
      "text/html": [
       "<div>\n",
       "<style scoped>\n",
       "    .dataframe tbody tr th:only-of-type {\n",
       "        vertical-align: middle;\n",
       "    }\n",
       "\n",
       "    .dataframe tbody tr th {\n",
       "        vertical-align: top;\n",
       "    }\n",
       "\n",
       "    .dataframe thead th {\n",
       "        text-align: right;\n",
       "    }\n",
       "</style>\n",
       "<table border=\"1\" class=\"dataframe\">\n",
       "  <thead>\n",
       "    <tr style=\"text-align: right;\">\n",
       "      <th></th>\n",
       "      <th>max_depth</th>\n",
       "      <th>learning_rate</th>\n",
       "      <th>n_estimators</th>\n",
       "      <th>mse</th>\n",
       "      <th>time</th>\n",
       "    </tr>\n",
       "  </thead>\n",
       "  <tbody>\n",
       "    <tr>\n",
       "      <th>0</th>\n",
       "      <td>9</td>\n",
       "      <td>0.20</td>\n",
       "      <td>86</td>\n",
       "      <td>0.828</td>\n",
       "      <td>135.2</td>\n",
       "    </tr>\n",
       "    <tr>\n",
       "      <th>1</th>\n",
       "      <td>9</td>\n",
       "      <td>0.10</td>\n",
       "      <td>136</td>\n",
       "      <td>0.829</td>\n",
       "      <td>230.3</td>\n",
       "    </tr>\n",
       "    <tr>\n",
       "      <th>2</th>\n",
       "      <td>9</td>\n",
       "      <td>0.05</td>\n",
       "      <td>176</td>\n",
       "      <td>0.837</td>\n",
       "      <td>319.2</td>\n",
       "    </tr>\n",
       "  </tbody>\n",
       "</table>\n",
       "</div>"
      ],
      "text/plain": [
       "   max_depth  learning_rate  n_estimators    mse   time\n",
       "0          9           0.20            86  0.828  135.2\n",
       "1          9           0.10           136  0.829  230.3\n",
       "2          9           0.05           176  0.837  319.2"
      ]
     },
     "execution_count": 48,
     "metadata": {},
     "output_type": "execute_result"
    }
   ],
   "source": [
    "results2 = pd.DataFrame(results, columns=['max_depth', 'learning_rate', 'n_estimators', 'mse', 'time'])\n",
    "results2"
   ]
  },
  {
   "cell_type": "code",
   "execution_count": null,
   "metadata": {},
   "outputs": [
    {
     "name": "stdout",
     "output_type": "stream",
     "text": [
      "Complete: max_depth=3, learning_rate=0.4, best_n_estimators=140, mse=0.867, train time=21.7 minutes.\n",
      "Complete: max_depth=3, learning_rate=0.3, best_n_estimators=152, mse=0.868, train time=24.2 minutes.\n",
      "Complete: max_depth=3, learning_rate=0.2, best_n_estimators=134, mse=0.874, train time=20.5 minutes.\n",
      "Complete: max_depth=3, learning_rate=0.1, best_n_estimators=101, mse=0.884, train time=15.1 minutes.\n",
      "Complete: max_depth=5, learning_rate=0.4, best_n_estimators=164, mse=0.839, train time=50.7 minutes.\n",
      "Complete: max_depth=5, learning_rate=0.3, best_n_estimators=137, mse=0.843, train time=41.3 minutes.\n",
      "Complete: max_depth=5, learning_rate=0.2, best_n_estimators=182, mse=0.843, train time=58.0 minutes.\n",
      "Complete: max_depth=5, learning_rate=0.1, best_n_estimators=218, mse=0.852, train time=72.9 minutes.\n",
      "Complete: max_depth=7, learning_rate=0.4, best_n_estimators=101, mse=0.831, train time=65.2 minutes.\n",
      "Complete: max_depth=7, learning_rate=0.3, best_n_estimators=98, mse=0.834, train time=63.5 minutes.\n",
      "Complete: max_depth=7, learning_rate=0.2, best_n_estimators=170, mse=0.828, train time=113.5 minutes.\n",
      "Complete: max_depth=7, learning_rate=0.1, best_n_estimators=212, mse=0.833, train time=147.3 minutes.\n",
      "Complete: max_depth=9, learning_rate=0.4, best_n_estimators=59, mse=0.835, train time=99.9 minutes.\n",
      "Complete: max_depth=9, learning_rate=0.3, best_n_estimators=83, mse=0.829, train time=134.5 minutes.\n",
      "Complete: max_depth=9, learning_rate=0.2, best_n_estimators=80, mse=0.827, train time=134.2 minutes.\n",
      "Complete: max_depth=9, learning_rate=0.1, best_n_estimators=143, mse=0.827, train time=238.7 minutes.\n",
      "Complete: max_depth=11, learning_rate=0.4, best_n_estimators=32, mse=0.842, train time=161.2 minutes.\n",
      "Complete: max_depth=11, learning_rate=0.3, best_n_estimators=56, mse=0.834, train time=250.0 minutes.\n",
      "Complete: max_depth=11, learning_rate=0.2, best_n_estimators=80, mse=0.828, train time=403.7 minutes.\n",
      "Complete: max_depth=11, learning_rate=0.1, best_n_estimators=137, mse=0.825, train time=602.2 minutes.\n"
     ]
    }
   ],
   "source": [
    "start = time.time()\n",
    "tol = 0.00025\n",
    "results = []\n",
    "for max_depth in [3, 5, 7, 9, 11, 13]:\n",
    "    for learning_rate in [0.4, 0.3, 0.2, 0.1]:\n",
    "        gbr = GradientBoostingRegressor(max_depth=max_depth, learning_rate=learning_rate, warm_start=True)\n",
    "        test_error = 1000\n",
    "        best_n_estimators = 0\n",
    "        n_iter_no_change = 0\n",
    "        train_start = time.time()\n",
    "        for n_estimators in range(20, 301, 3):\n",
    "            gbr.n_estimators = n_estimators\n",
    "            gbr.fit(X_train, y_train)\n",
    "            test_preds = gbr.predict(X_test)\n",
    "            last_error = test_error\n",
    "            test_error = mean_squared_error(y_test, test_preds)\n",
    "            if last_error - test_error > tol:\n",
    "                # Significant improvement\n",
    "                best_n_estimators = n_estimators\n",
    "                best_error = test_error\n",
    "                n_iter_no_change = 0\n",
    "            else:\n",
    "                n_iter_no_change += 1\n",
    "            if n_iter_no_change == 3:\n",
    "                break\n",
    "        best_error = round(best_error, 3)\n",
    "        train_time = round((time.time() - train_start) / 60, 1)\n",
    "        results.append([max_depth, learning_rate, best_n_estimators, best_error, train_time])\n",
    "        print('Complete: max_depth={}, learning_rate={}, best_n_estimators={}, mse={}, train time={} minutes.'\\\n",
    "             .format(max_depth, learning_rate, best_n_estimators, best_error, train_time))\n",
    "print('Run time: {} minutes.'.format(round((time.time() - start) / 60, 1)))"
   ]
  }
 ],
 "metadata": {
  "kernelspec": {
   "display_name": "Python 3",
   "language": "python",
   "name": "python3"
  },
  "language_info": {
   "codemirror_mode": {
    "name": "ipython",
    "version": 3
   },
   "file_extension": ".py",
   "mimetype": "text/x-python",
   "name": "python",
   "nbconvert_exporter": "python",
   "pygments_lexer": "ipython3",
   "version": "3.6.2"
  }
 },
 "nbformat": 4,
 "nbformat_minor": 2
}
