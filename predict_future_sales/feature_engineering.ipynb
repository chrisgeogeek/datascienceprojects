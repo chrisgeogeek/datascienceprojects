{
 "cells": [
  {
   "cell_type": "code",
   "execution_count": 1,
   "metadata": {},
   "outputs": [],
   "source": [
    "import pandas as pd\n",
    "import numpy as np\n",
    "import matplotlib.pyplot as plt\n",
    "import time\n",
    "%matplotlib inline"
   ]
  },
  {
   "cell_type": "code",
   "execution_count": 2,
   "metadata": {},
   "outputs": [
    {
     "data": {
      "text/html": [
       "<div>\n",
       "<style scoped>\n",
       "    .dataframe tbody tr th:only-of-type {\n",
       "        vertical-align: middle;\n",
       "    }\n",
       "\n",
       "    .dataframe tbody tr th {\n",
       "        vertical-align: top;\n",
       "    }\n",
       "\n",
       "    .dataframe thead th {\n",
       "        text-align: right;\n",
       "    }\n",
       "</style>\n",
       "<table border=\"1\" class=\"dataframe\">\n",
       "  <thead>\n",
       "    <tr style=\"text-align: right;\">\n",
       "      <th></th>\n",
       "      <th>date</th>\n",
       "      <th>date_block_num</th>\n",
       "      <th>shop_id</th>\n",
       "      <th>item_id</th>\n",
       "      <th>item_price</th>\n",
       "      <th>item_cnt_day</th>\n",
       "    </tr>\n",
       "  </thead>\n",
       "  <tbody>\n",
       "    <tr>\n",
       "      <th>0</th>\n",
       "      <td>02.01.2013</td>\n",
       "      <td>0</td>\n",
       "      <td>59</td>\n",
       "      <td>22154</td>\n",
       "      <td>999.0</td>\n",
       "      <td>1.0</td>\n",
       "    </tr>\n",
       "    <tr>\n",
       "      <th>1</th>\n",
       "      <td>03.01.2013</td>\n",
       "      <td>0</td>\n",
       "      <td>25</td>\n",
       "      <td>2552</td>\n",
       "      <td>899.0</td>\n",
       "      <td>1.0</td>\n",
       "    </tr>\n",
       "  </tbody>\n",
       "</table>\n",
       "</div>"
      ],
      "text/plain": [
       "         date  date_block_num  shop_id  item_id  item_price  item_cnt_day\n",
       "0  02.01.2013               0       59    22154       999.0           1.0\n",
       "1  03.01.2013               0       25     2552       899.0           1.0"
      ]
     },
     "execution_count": 2,
     "metadata": {},
     "output_type": "execute_result"
    }
   ],
   "source": [
    "sales = pd.read_csv('sales_train_v2.csv')\n",
    "sales.head(2)"
   ]
  },
  {
   "cell_type": "code",
   "execution_count": 3,
   "metadata": {},
   "outputs": [
    {
     "data": {
      "text/html": [
       "<div>\n",
       "<style scoped>\n",
       "    .dataframe tbody tr th:only-of-type {\n",
       "        vertical-align: middle;\n",
       "    }\n",
       "\n",
       "    .dataframe tbody tr th {\n",
       "        vertical-align: top;\n",
       "    }\n",
       "\n",
       "    .dataframe thead th {\n",
       "        text-align: right;\n",
       "    }\n",
       "</style>\n",
       "<table border=\"1\" class=\"dataframe\">\n",
       "  <thead>\n",
       "    <tr style=\"text-align: right;\">\n",
       "      <th></th>\n",
       "      <th>item_name</th>\n",
       "      <th>item_id</th>\n",
       "      <th>item_category_id</th>\n",
       "    </tr>\n",
       "  </thead>\n",
       "  <tbody>\n",
       "    <tr>\n",
       "      <th>0</th>\n",
       "      <td>! ВО ВЛАСТИ НАВАЖДЕНИЯ (ПЛАСТ.)         D</td>\n",
       "      <td>0</td>\n",
       "      <td>40</td>\n",
       "    </tr>\n",
       "    <tr>\n",
       "      <th>1</th>\n",
       "      <td>!ABBYY FineReader 12 Professional Edition Full...</td>\n",
       "      <td>1</td>\n",
       "      <td>76</td>\n",
       "    </tr>\n",
       "  </tbody>\n",
       "</table>\n",
       "</div>"
      ],
      "text/plain": [
       "                                           item_name  item_id  \\\n",
       "0          ! ВО ВЛАСТИ НАВАЖДЕНИЯ (ПЛАСТ.)         D        0   \n",
       "1  !ABBYY FineReader 12 Professional Edition Full...        1   \n",
       "\n",
       "   item_category_id  \n",
       "0                40  \n",
       "1                76  "
      ]
     },
     "execution_count": 3,
     "metadata": {},
     "output_type": "execute_result"
    }
   ],
   "source": [
    "items = pd.read_csv('items.csv')\n",
    "items.head(2)"
   ]
  },
  {
   "cell_type": "code",
   "execution_count": 4,
   "metadata": {},
   "outputs": [
    {
     "data": {
      "text/html": [
       "<div>\n",
       "<style scoped>\n",
       "    .dataframe tbody tr th:only-of-type {\n",
       "        vertical-align: middle;\n",
       "    }\n",
       "\n",
       "    .dataframe tbody tr th {\n",
       "        vertical-align: top;\n",
       "    }\n",
       "\n",
       "    .dataframe thead th {\n",
       "        text-align: right;\n",
       "    }\n",
       "</style>\n",
       "<table border=\"1\" class=\"dataframe\">\n",
       "  <thead>\n",
       "    <tr style=\"text-align: right;\">\n",
       "      <th></th>\n",
       "      <th>date_block_num</th>\n",
       "      <th>shop_id</th>\n",
       "      <th>item_id</th>\n",
       "      <th>item_cnt_month</th>\n",
       "    </tr>\n",
       "  </thead>\n",
       "  <tbody>\n",
       "    <tr>\n",
       "      <th>0</th>\n",
       "      <td>0</td>\n",
       "      <td>0</td>\n",
       "      <td>32</td>\n",
       "      <td>6.0</td>\n",
       "    </tr>\n",
       "    <tr>\n",
       "      <th>1</th>\n",
       "      <td>0</td>\n",
       "      <td>0</td>\n",
       "      <td>33</td>\n",
       "      <td>3.0</td>\n",
       "    </tr>\n",
       "    <tr>\n",
       "      <th>2</th>\n",
       "      <td>0</td>\n",
       "      <td>0</td>\n",
       "      <td>35</td>\n",
       "      <td>1.0</td>\n",
       "    </tr>\n",
       "    <tr>\n",
       "      <th>3</th>\n",
       "      <td>0</td>\n",
       "      <td>0</td>\n",
       "      <td>43</td>\n",
       "      <td>1.0</td>\n",
       "    </tr>\n",
       "    <tr>\n",
       "      <th>4</th>\n",
       "      <td>0</td>\n",
       "      <td>0</td>\n",
       "      <td>51</td>\n",
       "      <td>2.0</td>\n",
       "    </tr>\n",
       "  </tbody>\n",
       "</table>\n",
       "</div>"
      ],
      "text/plain": [
       "   date_block_num  shop_id  item_id  item_cnt_month\n",
       "0               0        0       32             6.0\n",
       "1               0        0       33             3.0\n",
       "2               0        0       35             1.0\n",
       "3               0        0       43             1.0\n",
       "4               0        0       51             2.0"
      ]
     },
     "execution_count": 4,
     "metadata": {},
     "output_type": "execute_result"
    }
   ],
   "source": [
    "monthly_sparse = sales.groupby(['date_block_num', 'shop_id', 'item_id'], as_index=False)[['item_cnt_day']].agg('sum')\n",
    "monthly_sparse.rename(mapper={'item_cnt_day': 'item_cnt_month'}, inplace=True, axis=1)\n",
    "monthly_sparse.head()"
   ]
  },
  {
   "cell_type": "code",
   "execution_count": 15,
   "metadata": {},
   "outputs": [
    {
     "name": "stdout",
     "output_type": "stream",
     "text": [
      "date_block_num = 0 built. Run time: 13 minutes.\n",
      "date_block_num = 1 built. Run time: 25 minutes.\n",
      "date_block_num = 2 built. Run time: 38 minutes.\n",
      "date_block_num = 3 built. Run time: 50 minutes.\n",
      "date_block_num = 4 built. Run time: 63 minutes.\n",
      "date_block_num = 5 built. Run time: 76 minutes.\n",
      "date_block_num = 6 built. Run time: 88 minutes.\n",
      "date_block_num = 7 built. Run time: 101 minutes.\n",
      "date_block_num = 8 built. Run time: 113 minutes.\n",
      "date_block_num = 9 built. Run time: 126 minutes.\n",
      "date_block_num = 10 built. Run time: 138 minutes.\n",
      "date_block_num = 11 built. Run time: 151 minutes.\n",
      "date_block_num = 12 built. Run time: 163 minutes.\n",
      "date_block_num = 13 built. Run time: 176 minutes.\n",
      "date_block_num = 14 built. Run time: 188 minutes.\n",
      "date_block_num = 15 built. Run time: 201 minutes.\n",
      "date_block_num = 16 built. Run time: 213 minutes.\n",
      "date_block_num = 17 built. Run time: 226 minutes.\n",
      "date_block_num = 18 built. Run time: 238 minutes.\n",
      "date_block_num = 19 built. Run time: 251 minutes.\n",
      "date_block_num = 20 built. Run time: 263 minutes.\n",
      "date_block_num = 21 built. Run time: 275 minutes.\n",
      "date_block_num = 22 built. Run time: 288 minutes.\n",
      "date_block_num = 23 built. Run time: 300 minutes.\n",
      "date_block_num = 24 built. Run time: 313 minutes.\n",
      "date_block_num = 25 built. Run time: 325 minutes.\n",
      "date_block_num = 26 built. Run time: 338 minutes.\n",
      "date_block_num = 27 built. Run time: 351 minutes.\n",
      "date_block_num = 28 built. Run time: 363 minutes.\n",
      "date_block_num = 29 built. Run time: 376 minutes.\n",
      "date_block_num = 30 built. Run time: 388 minutes.\n",
      "date_block_num = 31 built. Run time: 401 minutes.\n",
      "date_block_num = 32 built. Run time: 414 minutes.\n",
      "date_block_num = 33 built. Run time: 426 minutes.\n",
      "DataFrames created: 34\n"
     ]
    }
   ],
   "source": [
    "# month_dfs = []\n",
    "# start = time.time()\n",
    "# for date_block_num in range(34):  # iterates through months 0 to 33\n",
    "#     date_block_num_col = []\n",
    "#     shop_id_col = []\n",
    "#     item_id_col = []\n",
    "#     item_cnt_month_col = []\n",
    "#     temp_df1 = monthly_sparse[monthly_sparse['date_block_num'] == date_block_num]\n",
    "#     for shop_id in range(60):  # iterates through store ids 0 to 59\n",
    "#         temp_df2 = temp_df1[temp_df1['shop_id'] == shop_id]\n",
    "#         for item_id in range(22170):  # iterates through store ids 0 to 22169\n",
    "#             date_block_num_col.append(date_block_num)\n",
    "#             shop_id_col.append(shop_id)\n",
    "#             item_id_col.append(item_id)\n",
    "#             # The value to append to item_cnt_month_col is more complicated:\n",
    "#             temp_df3 = temp_df2[temp_df2['item_id'] == item_id]\n",
    "#             if len(temp_df3) > 0:\n",
    "#                 # There's a row for this combination of month, shop_id and item_id, so use that number\n",
    "#                 item_cnt_month_col.append(temp_df3['item_cnt_month'].values[0])\n",
    "#             else:\n",
    "#                 # There's no row for this combination, so there were 0 sales, so append 0 instead\n",
    "#                 item_cnt_month_col.append(0)\n",
    "#     # Turn column lists into a DataFrame and store it for later concatenation\n",
    "#     month_dfs.append(pd.DataFrame({'date_block_num': date_block_num_col, 'shop_id': shop_id_col,\n",
    "#                                    'item_id': item_id_col, 'item_cnt_month': item_cnt_month_col},\n",
    "#                                   columns=['date_block_num', 'shop_id', 'item_id', 'item_cnt_month']))\n",
    "#     print('date_block_num = {} built. Run time: {} minutes.'.format(date_block_num, round((time.time() - start) / 60)))\n",
    "# print('DataFrames created:', len(month_dfs))"
   ]
  },
  {
   "cell_type": "code",
   "execution_count": 16,
   "metadata": {},
   "outputs": [
    {
     "data": {
      "text/html": [
       "<div>\n",
       "<style scoped>\n",
       "    .dataframe tbody tr th:only-of-type {\n",
       "        vertical-align: middle;\n",
       "    }\n",
       "\n",
       "    .dataframe tbody tr th {\n",
       "        vertical-align: top;\n",
       "    }\n",
       "\n",
       "    .dataframe thead th {\n",
       "        text-align: right;\n",
       "    }\n",
       "</style>\n",
       "<table border=\"1\" class=\"dataframe\">\n",
       "  <thead>\n",
       "    <tr style=\"text-align: right;\">\n",
       "      <th></th>\n",
       "      <th>date_block_num</th>\n",
       "      <th>shop_id</th>\n",
       "      <th>item_id</th>\n",
       "      <th>item_cnt_month</th>\n",
       "    </tr>\n",
       "  </thead>\n",
       "  <tbody>\n",
       "    <tr>\n",
       "      <th>0</th>\n",
       "      <td>0</td>\n",
       "      <td>0</td>\n",
       "      <td>0</td>\n",
       "      <td>0.0</td>\n",
       "    </tr>\n",
       "    <tr>\n",
       "      <th>1</th>\n",
       "      <td>0</td>\n",
       "      <td>0</td>\n",
       "      <td>1</td>\n",
       "      <td>0.0</td>\n",
       "    </tr>\n",
       "    <tr>\n",
       "      <th>2</th>\n",
       "      <td>0</td>\n",
       "      <td>0</td>\n",
       "      <td>2</td>\n",
       "      <td>0.0</td>\n",
       "    </tr>\n",
       "    <tr>\n",
       "      <th>3</th>\n",
       "      <td>0</td>\n",
       "      <td>0</td>\n",
       "      <td>3</td>\n",
       "      <td>0.0</td>\n",
       "    </tr>\n",
       "    <tr>\n",
       "      <th>4</th>\n",
       "      <td>0</td>\n",
       "      <td>0</td>\n",
       "      <td>4</td>\n",
       "      <td>0.0</td>\n",
       "    </tr>\n",
       "    <tr>\n",
       "      <th>5</th>\n",
       "      <td>0</td>\n",
       "      <td>0</td>\n",
       "      <td>5</td>\n",
       "      <td>0.0</td>\n",
       "    </tr>\n",
       "    <tr>\n",
       "      <th>6</th>\n",
       "      <td>0</td>\n",
       "      <td>0</td>\n",
       "      <td>6</td>\n",
       "      <td>0.0</td>\n",
       "    </tr>\n",
       "    <tr>\n",
       "      <th>7</th>\n",
       "      <td>0</td>\n",
       "      <td>0</td>\n",
       "      <td>7</td>\n",
       "      <td>0.0</td>\n",
       "    </tr>\n",
       "    <tr>\n",
       "      <th>8</th>\n",
       "      <td>0</td>\n",
       "      <td>0</td>\n",
       "      <td>8</td>\n",
       "      <td>0.0</td>\n",
       "    </tr>\n",
       "    <tr>\n",
       "      <th>9</th>\n",
       "      <td>0</td>\n",
       "      <td>0</td>\n",
       "      <td>9</td>\n",
       "      <td>0.0</td>\n",
       "    </tr>\n",
       "    <tr>\n",
       "      <th>10</th>\n",
       "      <td>0</td>\n",
       "      <td>0</td>\n",
       "      <td>10</td>\n",
       "      <td>0.0</td>\n",
       "    </tr>\n",
       "    <tr>\n",
       "      <th>11</th>\n",
       "      <td>0</td>\n",
       "      <td>0</td>\n",
       "      <td>11</td>\n",
       "      <td>0.0</td>\n",
       "    </tr>\n",
       "    <tr>\n",
       "      <th>12</th>\n",
       "      <td>0</td>\n",
       "      <td>0</td>\n",
       "      <td>12</td>\n",
       "      <td>0.0</td>\n",
       "    </tr>\n",
       "    <tr>\n",
       "      <th>13</th>\n",
       "      <td>0</td>\n",
       "      <td>0</td>\n",
       "      <td>13</td>\n",
       "      <td>0.0</td>\n",
       "    </tr>\n",
       "    <tr>\n",
       "      <th>14</th>\n",
       "      <td>0</td>\n",
       "      <td>0</td>\n",
       "      <td>14</td>\n",
       "      <td>0.0</td>\n",
       "    </tr>\n",
       "    <tr>\n",
       "      <th>15</th>\n",
       "      <td>0</td>\n",
       "      <td>0</td>\n",
       "      <td>15</td>\n",
       "      <td>0.0</td>\n",
       "    </tr>\n",
       "    <tr>\n",
       "      <th>16</th>\n",
       "      <td>0</td>\n",
       "      <td>0</td>\n",
       "      <td>16</td>\n",
       "      <td>0.0</td>\n",
       "    </tr>\n",
       "    <tr>\n",
       "      <th>17</th>\n",
       "      <td>0</td>\n",
       "      <td>0</td>\n",
       "      <td>17</td>\n",
       "      <td>0.0</td>\n",
       "    </tr>\n",
       "    <tr>\n",
       "      <th>18</th>\n",
       "      <td>0</td>\n",
       "      <td>0</td>\n",
       "      <td>18</td>\n",
       "      <td>0.0</td>\n",
       "    </tr>\n",
       "    <tr>\n",
       "      <th>19</th>\n",
       "      <td>0</td>\n",
       "      <td>0</td>\n",
       "      <td>19</td>\n",
       "      <td>0.0</td>\n",
       "    </tr>\n",
       "    <tr>\n",
       "      <th>20</th>\n",
       "      <td>0</td>\n",
       "      <td>0</td>\n",
       "      <td>20</td>\n",
       "      <td>0.0</td>\n",
       "    </tr>\n",
       "    <tr>\n",
       "      <th>21</th>\n",
       "      <td>0</td>\n",
       "      <td>0</td>\n",
       "      <td>21</td>\n",
       "      <td>0.0</td>\n",
       "    </tr>\n",
       "    <tr>\n",
       "      <th>22</th>\n",
       "      <td>0</td>\n",
       "      <td>0</td>\n",
       "      <td>22</td>\n",
       "      <td>0.0</td>\n",
       "    </tr>\n",
       "    <tr>\n",
       "      <th>23</th>\n",
       "      <td>0</td>\n",
       "      <td>0</td>\n",
       "      <td>23</td>\n",
       "      <td>0.0</td>\n",
       "    </tr>\n",
       "    <tr>\n",
       "      <th>24</th>\n",
       "      <td>0</td>\n",
       "      <td>0</td>\n",
       "      <td>24</td>\n",
       "      <td>0.0</td>\n",
       "    </tr>\n",
       "    <tr>\n",
       "      <th>25</th>\n",
       "      <td>0</td>\n",
       "      <td>0</td>\n",
       "      <td>25</td>\n",
       "      <td>0.0</td>\n",
       "    </tr>\n",
       "    <tr>\n",
       "      <th>26</th>\n",
       "      <td>0</td>\n",
       "      <td>0</td>\n",
       "      <td>26</td>\n",
       "      <td>0.0</td>\n",
       "    </tr>\n",
       "    <tr>\n",
       "      <th>27</th>\n",
       "      <td>0</td>\n",
       "      <td>0</td>\n",
       "      <td>27</td>\n",
       "      <td>0.0</td>\n",
       "    </tr>\n",
       "    <tr>\n",
       "      <th>28</th>\n",
       "      <td>0</td>\n",
       "      <td>0</td>\n",
       "      <td>28</td>\n",
       "      <td>0.0</td>\n",
       "    </tr>\n",
       "    <tr>\n",
       "      <th>29</th>\n",
       "      <td>0</td>\n",
       "      <td>0</td>\n",
       "      <td>29</td>\n",
       "      <td>0.0</td>\n",
       "    </tr>\n",
       "    <tr>\n",
       "      <th>...</th>\n",
       "      <td>...</td>\n",
       "      <td>...</td>\n",
       "      <td>...</td>\n",
       "      <td>...</td>\n",
       "    </tr>\n",
       "    <tr>\n",
       "      <th>1330170</th>\n",
       "      <td>0</td>\n",
       "      <td>59</td>\n",
       "      <td>22140</td>\n",
       "      <td>0.0</td>\n",
       "    </tr>\n",
       "    <tr>\n",
       "      <th>1330171</th>\n",
       "      <td>0</td>\n",
       "      <td>59</td>\n",
       "      <td>22141</td>\n",
       "      <td>0.0</td>\n",
       "    </tr>\n",
       "    <tr>\n",
       "      <th>1330172</th>\n",
       "      <td>0</td>\n",
       "      <td>59</td>\n",
       "      <td>22142</td>\n",
       "      <td>0.0</td>\n",
       "    </tr>\n",
       "    <tr>\n",
       "      <th>1330173</th>\n",
       "      <td>0</td>\n",
       "      <td>59</td>\n",
       "      <td>22143</td>\n",
       "      <td>0.0</td>\n",
       "    </tr>\n",
       "    <tr>\n",
       "      <th>1330174</th>\n",
       "      <td>0</td>\n",
       "      <td>59</td>\n",
       "      <td>22144</td>\n",
       "      <td>0.0</td>\n",
       "    </tr>\n",
       "    <tr>\n",
       "      <th>1330175</th>\n",
       "      <td>0</td>\n",
       "      <td>59</td>\n",
       "      <td>22145</td>\n",
       "      <td>0.0</td>\n",
       "    </tr>\n",
       "    <tr>\n",
       "      <th>1330176</th>\n",
       "      <td>0</td>\n",
       "      <td>59</td>\n",
       "      <td>22146</td>\n",
       "      <td>0.0</td>\n",
       "    </tr>\n",
       "    <tr>\n",
       "      <th>1330177</th>\n",
       "      <td>0</td>\n",
       "      <td>59</td>\n",
       "      <td>22147</td>\n",
       "      <td>0.0</td>\n",
       "    </tr>\n",
       "    <tr>\n",
       "      <th>1330178</th>\n",
       "      <td>0</td>\n",
       "      <td>59</td>\n",
       "      <td>22148</td>\n",
       "      <td>0.0</td>\n",
       "    </tr>\n",
       "    <tr>\n",
       "      <th>1330179</th>\n",
       "      <td>0</td>\n",
       "      <td>59</td>\n",
       "      <td>22149</td>\n",
       "      <td>0.0</td>\n",
       "    </tr>\n",
       "    <tr>\n",
       "      <th>1330180</th>\n",
       "      <td>0</td>\n",
       "      <td>59</td>\n",
       "      <td>22150</td>\n",
       "      <td>0.0</td>\n",
       "    </tr>\n",
       "    <tr>\n",
       "      <th>1330181</th>\n",
       "      <td>0</td>\n",
       "      <td>59</td>\n",
       "      <td>22151</td>\n",
       "      <td>2.0</td>\n",
       "    </tr>\n",
       "    <tr>\n",
       "      <th>1330182</th>\n",
       "      <td>0</td>\n",
       "      <td>59</td>\n",
       "      <td>22152</td>\n",
       "      <td>0.0</td>\n",
       "    </tr>\n",
       "    <tr>\n",
       "      <th>1330183</th>\n",
       "      <td>0</td>\n",
       "      <td>59</td>\n",
       "      <td>22153</td>\n",
       "      <td>0.0</td>\n",
       "    </tr>\n",
       "    <tr>\n",
       "      <th>1330184</th>\n",
       "      <td>0</td>\n",
       "      <td>59</td>\n",
       "      <td>22154</td>\n",
       "      <td>1.0</td>\n",
       "    </tr>\n",
       "    <tr>\n",
       "      <th>1330185</th>\n",
       "      <td>0</td>\n",
       "      <td>59</td>\n",
       "      <td>22155</td>\n",
       "      <td>0.0</td>\n",
       "    </tr>\n",
       "    <tr>\n",
       "      <th>1330186</th>\n",
       "      <td>0</td>\n",
       "      <td>59</td>\n",
       "      <td>22156</td>\n",
       "      <td>0.0</td>\n",
       "    </tr>\n",
       "    <tr>\n",
       "      <th>1330187</th>\n",
       "      <td>0</td>\n",
       "      <td>59</td>\n",
       "      <td>22157</td>\n",
       "      <td>0.0</td>\n",
       "    </tr>\n",
       "    <tr>\n",
       "      <th>1330188</th>\n",
       "      <td>0</td>\n",
       "      <td>59</td>\n",
       "      <td>22158</td>\n",
       "      <td>0.0</td>\n",
       "    </tr>\n",
       "    <tr>\n",
       "      <th>1330189</th>\n",
       "      <td>0</td>\n",
       "      <td>59</td>\n",
       "      <td>22159</td>\n",
       "      <td>0.0</td>\n",
       "    </tr>\n",
       "    <tr>\n",
       "      <th>1330190</th>\n",
       "      <td>0</td>\n",
       "      <td>59</td>\n",
       "      <td>22160</td>\n",
       "      <td>0.0</td>\n",
       "    </tr>\n",
       "    <tr>\n",
       "      <th>1330191</th>\n",
       "      <td>0</td>\n",
       "      <td>59</td>\n",
       "      <td>22161</td>\n",
       "      <td>0.0</td>\n",
       "    </tr>\n",
       "    <tr>\n",
       "      <th>1330192</th>\n",
       "      <td>0</td>\n",
       "      <td>59</td>\n",
       "      <td>22162</td>\n",
       "      <td>0.0</td>\n",
       "    </tr>\n",
       "    <tr>\n",
       "      <th>1330193</th>\n",
       "      <td>0</td>\n",
       "      <td>59</td>\n",
       "      <td>22163</td>\n",
       "      <td>0.0</td>\n",
       "    </tr>\n",
       "    <tr>\n",
       "      <th>1330194</th>\n",
       "      <td>0</td>\n",
       "      <td>59</td>\n",
       "      <td>22164</td>\n",
       "      <td>0.0</td>\n",
       "    </tr>\n",
       "    <tr>\n",
       "      <th>1330195</th>\n",
       "      <td>0</td>\n",
       "      <td>59</td>\n",
       "      <td>22165</td>\n",
       "      <td>0.0</td>\n",
       "    </tr>\n",
       "    <tr>\n",
       "      <th>1330196</th>\n",
       "      <td>0</td>\n",
       "      <td>59</td>\n",
       "      <td>22166</td>\n",
       "      <td>0.0</td>\n",
       "    </tr>\n",
       "    <tr>\n",
       "      <th>1330197</th>\n",
       "      <td>0</td>\n",
       "      <td>59</td>\n",
       "      <td>22167</td>\n",
       "      <td>0.0</td>\n",
       "    </tr>\n",
       "    <tr>\n",
       "      <th>1330198</th>\n",
       "      <td>0</td>\n",
       "      <td>59</td>\n",
       "      <td>22168</td>\n",
       "      <td>0.0</td>\n",
       "    </tr>\n",
       "    <tr>\n",
       "      <th>1330199</th>\n",
       "      <td>0</td>\n",
       "      <td>59</td>\n",
       "      <td>22169</td>\n",
       "      <td>0.0</td>\n",
       "    </tr>\n",
       "  </tbody>\n",
       "</table>\n",
       "<p>1330200 rows × 4 columns</p>\n",
       "</div>"
      ],
      "text/plain": [
       "         date_block_num  shop_id  item_id  item_cnt_month\n",
       "0                     0        0        0             0.0\n",
       "1                     0        0        1             0.0\n",
       "2                     0        0        2             0.0\n",
       "3                     0        0        3             0.0\n",
       "4                     0        0        4             0.0\n",
       "5                     0        0        5             0.0\n",
       "6                     0        0        6             0.0\n",
       "7                     0        0        7             0.0\n",
       "8                     0        0        8             0.0\n",
       "9                     0        0        9             0.0\n",
       "10                    0        0       10             0.0\n",
       "11                    0        0       11             0.0\n",
       "12                    0        0       12             0.0\n",
       "13                    0        0       13             0.0\n",
       "14                    0        0       14             0.0\n",
       "15                    0        0       15             0.0\n",
       "16                    0        0       16             0.0\n",
       "17                    0        0       17             0.0\n",
       "18                    0        0       18             0.0\n",
       "19                    0        0       19             0.0\n",
       "20                    0        0       20             0.0\n",
       "21                    0        0       21             0.0\n",
       "22                    0        0       22             0.0\n",
       "23                    0        0       23             0.0\n",
       "24                    0        0       24             0.0\n",
       "25                    0        0       25             0.0\n",
       "26                    0        0       26             0.0\n",
       "27                    0        0       27             0.0\n",
       "28                    0        0       28             0.0\n",
       "29                    0        0       29             0.0\n",
       "...                 ...      ...      ...             ...\n",
       "1330170               0       59    22140             0.0\n",
       "1330171               0       59    22141             0.0\n",
       "1330172               0       59    22142             0.0\n",
       "1330173               0       59    22143             0.0\n",
       "1330174               0       59    22144             0.0\n",
       "1330175               0       59    22145             0.0\n",
       "1330176               0       59    22146             0.0\n",
       "1330177               0       59    22147             0.0\n",
       "1330178               0       59    22148             0.0\n",
       "1330179               0       59    22149             0.0\n",
       "1330180               0       59    22150             0.0\n",
       "1330181               0       59    22151             2.0\n",
       "1330182               0       59    22152             0.0\n",
       "1330183               0       59    22153             0.0\n",
       "1330184               0       59    22154             1.0\n",
       "1330185               0       59    22155             0.0\n",
       "1330186               0       59    22156             0.0\n",
       "1330187               0       59    22157             0.0\n",
       "1330188               0       59    22158             0.0\n",
       "1330189               0       59    22159             0.0\n",
       "1330190               0       59    22160             0.0\n",
       "1330191               0       59    22161             0.0\n",
       "1330192               0       59    22162             0.0\n",
       "1330193               0       59    22163             0.0\n",
       "1330194               0       59    22164             0.0\n",
       "1330195               0       59    22165             0.0\n",
       "1330196               0       59    22166             0.0\n",
       "1330197               0       59    22167             0.0\n",
       "1330198               0       59    22168             0.0\n",
       "1330199               0       59    22169             0.0\n",
       "\n",
       "[1330200 rows x 4 columns]"
      ]
     },
     "execution_count": 16,
     "metadata": {},
     "output_type": "execute_result"
    }
   ],
   "source": [
    "# month_dfs[0]"
   ]
  },
  {
   "cell_type": "code",
   "execution_count": 17,
   "metadata": {},
   "outputs": [
    {
     "data": {
      "text/plain": [
       "45226800"
      ]
     },
     "execution_count": 17,
     "metadata": {},
     "output_type": "execute_result"
    }
   ],
   "source": [
    "# monthly = pd.concat(month_dfs, ignore_index=True)\n",
    "# len(monthly)"
   ]
  },
  {
   "cell_type": "code",
   "execution_count": 5,
   "metadata": {},
   "outputs": [
    {
     "data": {
      "text/html": [
       "<div>\n",
       "<style scoped>\n",
       "    .dataframe tbody tr th:only-of-type {\n",
       "        vertical-align: middle;\n",
       "    }\n",
       "\n",
       "    .dataframe tbody tr th {\n",
       "        vertical-align: top;\n",
       "    }\n",
       "\n",
       "    .dataframe thead th {\n",
       "        text-align: right;\n",
       "    }\n",
       "</style>\n",
       "<table border=\"1\" class=\"dataframe\">\n",
       "  <thead>\n",
       "    <tr style=\"text-align: right;\">\n",
       "      <th></th>\n",
       "      <th>date_block_num</th>\n",
       "      <th>shop_id</th>\n",
       "      <th>item_id</th>\n",
       "      <th>item_cnt_month</th>\n",
       "    </tr>\n",
       "  </thead>\n",
       "  <tbody>\n",
       "    <tr>\n",
       "      <th>0</th>\n",
       "      <td>0</td>\n",
       "      <td>0</td>\n",
       "      <td>0</td>\n",
       "      <td>0.0</td>\n",
       "    </tr>\n",
       "    <tr>\n",
       "      <th>1</th>\n",
       "      <td>0</td>\n",
       "      <td>0</td>\n",
       "      <td>1</td>\n",
       "      <td>0.0</td>\n",
       "    </tr>\n",
       "    <tr>\n",
       "      <th>2</th>\n",
       "      <td>0</td>\n",
       "      <td>0</td>\n",
       "      <td>2</td>\n",
       "      <td>0.0</td>\n",
       "    </tr>\n",
       "    <tr>\n",
       "      <th>3</th>\n",
       "      <td>0</td>\n",
       "      <td>0</td>\n",
       "      <td>3</td>\n",
       "      <td>0.0</td>\n",
       "    </tr>\n",
       "    <tr>\n",
       "      <th>4</th>\n",
       "      <td>0</td>\n",
       "      <td>0</td>\n",
       "      <td>4</td>\n",
       "      <td>0.0</td>\n",
       "    </tr>\n",
       "  </tbody>\n",
       "</table>\n",
       "</div>"
      ],
      "text/plain": [
       "   date_block_num  shop_id  item_id  item_cnt_month\n",
       "0               0        0        0             0.0\n",
       "1               0        0        1             0.0\n",
       "2               0        0        2             0.0\n",
       "3               0        0        3             0.0\n",
       "4               0        0        4             0.0"
      ]
     },
     "execution_count": 5,
     "metadata": {},
     "output_type": "execute_result"
    }
   ],
   "source": [
    "monthly = pd.read_csv('all_monthly_sales.csv')\n",
    "monthly.head()"
   ]
  },
  {
   "cell_type": "code",
   "execution_count": 6,
   "metadata": {},
   "outputs": [
    {
     "data": {
      "text/plain": [
       "Index                    80\n",
       "date_block_num    361814400\n",
       "shop_id           361814400\n",
       "item_id           361814400\n",
       "item_cnt_month    361814400\n",
       "dtype: int64"
      ]
     },
     "execution_count": 6,
     "metadata": {},
     "output_type": "execute_result"
    }
   ],
   "source": [
    "monthly.memory_usage(deep=True)"
   ]
  },
  {
   "cell_type": "code",
   "execution_count": 7,
   "metadata": {},
   "outputs": [
    {
     "name": "stdout",
     "output_type": "stream",
     "text": [
      "Total memory usage: 1380.0 MB\n"
     ]
    }
   ],
   "source": [
    "print('Total memory usage: {} MB'.format(round(monthly.memory_usage(deep=True).sum() / 1024**2)))"
   ]
  },
  {
   "cell_type": "code",
   "execution_count": 21,
   "metadata": {
    "collapsed": true
   },
   "outputs": [],
   "source": [
    "# monthly.to_csv('all_monthly_sales.csv', index=False)"
   ]
  },
  {
   "cell_type": "markdown",
   "metadata": {},
   "source": [
    "## Adding columns that will be used to construct features"
   ]
  },
  {
   "cell_type": "code",
   "execution_count": 9,
   "metadata": {},
   "outputs": [
    {
     "name": "stdout",
     "output_type": "stream",
     "text": [
      "Run time: 0 minutes.\n"
     ]
    }
   ],
   "source": [
    "start = time.time()\n",
    "monthly['year'] = monthly['date_block_num'].apply(lambda x: str((x // 12) + 2013))\n",
    "print('Run time: {} minutes.'.format(round((time.time() - start) / 60)))"
   ]
  },
  {
   "cell_type": "code",
   "execution_count": 10,
   "metadata": {},
   "outputs": [
    {
     "name": "stdout",
     "output_type": "stream",
     "text": [
      "Run time: 0 minutes.\n"
     ]
    }
   ],
   "source": [
    "start = time.time()\n",
    "monthly['month'] = monthly['date_block_num'].apply(lambda x: str(x % 12))\n",
    "print('Run time: {} minutes.'.format(round((time.time() - start) / 60)))"
   ]
  },
  {
   "cell_type": "code",
   "execution_count": 11,
   "metadata": {},
   "outputs": [
    {
     "data": {
      "text/html": [
       "<div>\n",
       "<style scoped>\n",
       "    .dataframe tbody tr th:only-of-type {\n",
       "        vertical-align: middle;\n",
       "    }\n",
       "\n",
       "    .dataframe tbody tr th {\n",
       "        vertical-align: top;\n",
       "    }\n",
       "\n",
       "    .dataframe thead th {\n",
       "        text-align: right;\n",
       "    }\n",
       "</style>\n",
       "<table border=\"1\" class=\"dataframe\">\n",
       "  <thead>\n",
       "    <tr style=\"text-align: right;\">\n",
       "      <th></th>\n",
       "      <th>item_name</th>\n",
       "      <th>item_category_id</th>\n",
       "    </tr>\n",
       "    <tr>\n",
       "      <th>item_id</th>\n",
       "      <th></th>\n",
       "      <th></th>\n",
       "    </tr>\n",
       "  </thead>\n",
       "  <tbody>\n",
       "    <tr>\n",
       "      <th>0</th>\n",
       "      <td>! ВО ВЛАСТИ НАВАЖДЕНИЯ (ПЛАСТ.)         D</td>\n",
       "      <td>40</td>\n",
       "    </tr>\n",
       "    <tr>\n",
       "      <th>1</th>\n",
       "      <td>!ABBYY FineReader 12 Professional Edition Full...</td>\n",
       "      <td>76</td>\n",
       "    </tr>\n",
       "    <tr>\n",
       "      <th>2</th>\n",
       "      <td>***В ЛУЧАХ СЛАВЫ   (UNV)                    D</td>\n",
       "      <td>40</td>\n",
       "    </tr>\n",
       "    <tr>\n",
       "      <th>3</th>\n",
       "      <td>***ГОЛУБАЯ ВОЛНА  (Univ)                      D</td>\n",
       "      <td>40</td>\n",
       "    </tr>\n",
       "    <tr>\n",
       "      <th>4</th>\n",
       "      <td>***КОРОБКА (СТЕКЛО)                       D</td>\n",
       "      <td>40</td>\n",
       "    </tr>\n",
       "  </tbody>\n",
       "</table>\n",
       "</div>"
      ],
      "text/plain": [
       "                                                 item_name  item_category_id\n",
       "item_id                                                                     \n",
       "0                ! ВО ВЛАСТИ НАВАЖДЕНИЯ (ПЛАСТ.)         D                40\n",
       "1        !ABBYY FineReader 12 Professional Edition Full...                76\n",
       "2            ***В ЛУЧАХ СЛАВЫ   (UNV)                    D                40\n",
       "3          ***ГОЛУБАЯ ВОЛНА  (Univ)                      D                40\n",
       "4              ***КОРОБКА (СТЕКЛО)                       D                40"
      ]
     },
     "execution_count": 11,
     "metadata": {},
     "output_type": "execute_result"
    }
   ],
   "source": [
    "items.set_index('item_id', inplace=True)\n",
    "items.head()"
   ]
  },
  {
   "cell_type": "code",
   "execution_count": 13,
   "metadata": {},
   "outputs": [
    {
     "name": "stdout",
     "output_type": "stream",
     "text": [
      "Run time: 161 minutes.\n"
     ]
    }
   ],
   "source": [
    "start = time.time()\n",
    "monthly['item_cat'] = monthly['item_id'].apply(lambda x: items.loc[x]['item_category_id'])\n",
    "# The following two lines were alternative ways to achieve the same thing but are slower than the above.\n",
    "# monthly['item_cat'] = monthly['item_id'].apply(lambda x: items[items['item_id'] == x]['item_category_id'].values[0])\n",
    "# monthly = pd.merge(monthly, items[['item_id', 'item_category_id']], on='item_id', how='left')\n",
    "print('Run time: {} minutes.'.format(round((time.time() - start) / 60)))"
   ]
  },
  {
   "cell_type": "markdown",
   "metadata": {},
   "source": [
    "## Adding features"
   ]
  },
  {
   "cell_type": "markdown",
   "metadata": {},
   "source": [
    "Add a feature for the mean of item_cnt_month for this store during this month of the year."
   ]
  },
  {
   "cell_type": "code",
   "execution_count": 14,
   "metadata": {},
   "outputs": [
    {
     "name": "stdout",
     "output_type": "stream",
     "text": [
      "Run time: 0 minutes.\n"
     ]
    },
    {
     "data": {
      "text/html": [
       "<div>\n",
       "<style scoped>\n",
       "    .dataframe tbody tr th:only-of-type {\n",
       "        vertical-align: middle;\n",
       "    }\n",
       "\n",
       "    .dataframe tbody tr th {\n",
       "        vertical-align: top;\n",
       "    }\n",
       "\n",
       "    .dataframe thead th {\n",
       "        text-align: right;\n",
       "    }\n",
       "</style>\n",
       "<table border=\"1\" class=\"dataframe\">\n",
       "  <thead>\n",
       "    <tr style=\"text-align: right;\">\n",
       "      <th></th>\n",
       "      <th></th>\n",
       "      <th>item_cnt_month</th>\n",
       "    </tr>\n",
       "    <tr>\n",
       "      <th>month</th>\n",
       "      <th>shop_id</th>\n",
       "      <th></th>\n",
       "    </tr>\n",
       "  </thead>\n",
       "  <tbody>\n",
       "    <tr>\n",
       "      <th rowspan=\"5\" valign=\"top\">0</th>\n",
       "      <th>0</th>\n",
       "      <td>0.083867</td>\n",
       "    </tr>\n",
       "    <tr>\n",
       "      <th>1</th>\n",
       "      <td>0.044309</td>\n",
       "    </tr>\n",
       "    <tr>\n",
       "      <th>2</th>\n",
       "      <td>0.045452</td>\n",
       "    </tr>\n",
       "    <tr>\n",
       "      <th>3</th>\n",
       "      <td>0.040776</td>\n",
       "    </tr>\n",
       "    <tr>\n",
       "      <th>4</th>\n",
       "      <td>0.071147</td>\n",
       "    </tr>\n",
       "  </tbody>\n",
       "</table>\n",
       "</div>"
      ],
      "text/plain": [
       "               item_cnt_month\n",
       "month shop_id                \n",
       "0     0              0.083867\n",
       "      1              0.044309\n",
       "      2              0.045452\n",
       "      3              0.040776\n",
       "      4              0.071147"
      ]
     },
     "execution_count": 14,
     "metadata": {},
     "output_type": "execute_result"
    }
   ],
   "source": [
    "start = time.time()\n",
    "mean_by_month_shop = monthly.groupby(['month', 'shop_id']).agg({'item_cnt_month': 'mean'})\n",
    "print('Run time: {} minutes.'.format(round((time.time() - start) / 60)))\n",
    "mean_by_month_shop.head()"
   ]
  },
  {
   "cell_type": "code",
   "execution_count": 15,
   "metadata": {},
   "outputs": [
    {
     "name": "stdout",
     "output_type": "stream",
     "text": [
      "Run time: 170 minutes.\n"
     ]
    }
   ],
   "source": [
    "start = time.time()\n",
    "monthly['mean_month_shop'] = monthly.apply(lambda row: mean_by_month_shop.loc[row['month'], row['shop_id']].values[0], axis=1)\n",
    "print('Run time: {} minutes.'.format(round((time.time() - start) / 60)))"
   ]
  },
  {
   "cell_type": "markdown",
   "metadata": {},
   "source": [
    "Add a feature for the mean for this category for this month of the year."
   ]
  },
  {
   "cell_type": "code",
   "execution_count": 16,
   "metadata": {},
   "outputs": [
    {
     "name": "stdout",
     "output_type": "stream",
     "text": [
      "Run time: 0 minutes.\n"
     ]
    },
    {
     "data": {
      "text/html": [
       "<div>\n",
       "<style scoped>\n",
       "    .dataframe tbody tr th:only-of-type {\n",
       "        vertical-align: middle;\n",
       "    }\n",
       "\n",
       "    .dataframe tbody tr th {\n",
       "        vertical-align: top;\n",
       "    }\n",
       "\n",
       "    .dataframe thead th {\n",
       "        text-align: right;\n",
       "    }\n",
       "</style>\n",
       "<table border=\"1\" class=\"dataframe\">\n",
       "  <thead>\n",
       "    <tr style=\"text-align: right;\">\n",
       "      <th></th>\n",
       "      <th></th>\n",
       "      <th>item_cnt_month</th>\n",
       "    </tr>\n",
       "    <tr>\n",
       "      <th>month</th>\n",
       "      <th>item_cat</th>\n",
       "      <th></th>\n",
       "    </tr>\n",
       "  </thead>\n",
       "  <tbody>\n",
       "    <tr>\n",
       "      <th rowspan=\"5\" valign=\"top\">0</th>\n",
       "      <th>0</th>\n",
       "      <td>0.001389</td>\n",
       "    </tr>\n",
       "    <tr>\n",
       "      <th>1</th>\n",
       "      <td>0.002778</td>\n",
       "    </tr>\n",
       "    <tr>\n",
       "      <th>2</th>\n",
       "      <td>0.229556</td>\n",
       "    </tr>\n",
       "    <tr>\n",
       "      <th>3</th>\n",
       "      <td>0.493137</td>\n",
       "    </tr>\n",
       "    <tr>\n",
       "      <th>4</th>\n",
       "      <td>0.132222</td>\n",
       "    </tr>\n",
       "  </tbody>\n",
       "</table>\n",
       "</div>"
      ],
      "text/plain": [
       "                item_cnt_month\n",
       "month item_cat                \n",
       "0     0               0.001389\n",
       "      1               0.002778\n",
       "      2               0.229556\n",
       "      3               0.493137\n",
       "      4               0.132222"
      ]
     },
     "execution_count": 16,
     "metadata": {},
     "output_type": "execute_result"
    }
   ],
   "source": [
    "start = time.time()\n",
    "mean_by_month_cat = monthly.groupby(['month', 'item_cat']).agg({'item_cnt_month': 'mean'})\n",
    "print('Run time: {} minutes.'.format(round((time.time() - start) / 60)))\n",
    "mean_by_month_cat.head()"
   ]
  },
  {
   "cell_type": "code",
   "execution_count": 17,
   "metadata": {},
   "outputs": [
    {
     "name": "stdout",
     "output_type": "stream",
     "text": [
      "Run time: 168 minutes.\n"
     ]
    }
   ],
   "source": [
    "start = time.time()\n",
    "monthly['mean_month_cat'] = monthly.apply(lambda row: mean_by_month_cat.loc[row['month'], row['item_cat']].values[0], axis=1)\n",
    "print('Run time: {} minutes.'.format(round((time.time() - start) / 60)))"
   ]
  },
  {
   "cell_type": "markdown",
   "metadata": {},
   "source": [
    "Add a feature for the mean for the year, excluding November and December because they are unusually high and are missing from 2015."
   ]
  },
  {
   "cell_type": "code",
   "execution_count": 18,
   "metadata": {},
   "outputs": [
    {
     "name": "stdout",
     "output_type": "stream",
     "text": [
      "Run time: 0 minutes.\n"
     ]
    },
    {
     "data": {
      "text/html": [
       "<div>\n",
       "<style scoped>\n",
       "    .dataframe tbody tr th:only-of-type {\n",
       "        vertical-align: middle;\n",
       "    }\n",
       "\n",
       "    .dataframe tbody tr th {\n",
       "        vertical-align: top;\n",
       "    }\n",
       "\n",
       "    .dataframe thead th {\n",
       "        text-align: right;\n",
       "    }\n",
       "</style>\n",
       "<table border=\"1\" class=\"dataframe\">\n",
       "  <thead>\n",
       "    <tr style=\"text-align: right;\">\n",
       "      <th></th>\n",
       "      <th>item_cnt_month</th>\n",
       "    </tr>\n",
       "    <tr>\n",
       "      <th>year</th>\n",
       "      <th></th>\n",
       "    </tr>\n",
       "  </thead>\n",
       "  <tbody>\n",
       "    <tr>\n",
       "      <th>2013</th>\n",
       "      <td>0.094271</td>\n",
       "    </tr>\n",
       "    <tr>\n",
       "      <th>2014</th>\n",
       "      <td>0.078740</td>\n",
       "    </tr>\n",
       "    <tr>\n",
       "      <th>2015</th>\n",
       "      <td>0.057479</td>\n",
       "    </tr>\n",
       "  </tbody>\n",
       "</table>\n",
       "</div>"
      ],
      "text/plain": [
       "      item_cnt_month\n",
       "year                \n",
       "2013        0.094271\n",
       "2014        0.078740\n",
       "2015        0.057479"
      ]
     },
     "execution_count": 18,
     "metadata": {},
     "output_type": "execute_result"
    }
   ],
   "source": [
    "start = time.time()\n",
    "mean_by_year_jan_to_oct = monthly[~monthly['month'].isin(['11', '12'])].groupby(['year']).agg({'item_cnt_month': 'mean'})\n",
    "print('Run time: {} minutes.'.format(round((time.time() - start) / 60)))\n",
    "mean_by_year_jan_to_oct.head()"
   ]
  },
  {
   "cell_type": "code",
   "execution_count": 19,
   "metadata": {},
   "outputs": [
    {
     "name": "stdout",
     "output_type": "stream",
     "text": [
      "Run time: 85 minutes.\n"
     ]
    }
   ],
   "source": [
    "start = time.time()\n",
    "monthly['mean_by_year'] = monthly['year'].apply(lambda x: mean_by_year_jan_to_oct.loc[x].values[0])\n",
    "print('Run time: {} minutes.'.format(round((time.time() - start) / 60)))"
   ]
  },
  {
   "cell_type": "code",
   "execution_count": 20,
   "metadata": {},
   "outputs": [
    {
     "data": {
      "text/html": [
       "<div>\n",
       "<style scoped>\n",
       "    .dataframe tbody tr th:only-of-type {\n",
       "        vertical-align: middle;\n",
       "    }\n",
       "\n",
       "    .dataframe tbody tr th {\n",
       "        vertical-align: top;\n",
       "    }\n",
       "\n",
       "    .dataframe thead th {\n",
       "        text-align: right;\n",
       "    }\n",
       "</style>\n",
       "<table border=\"1\" class=\"dataframe\">\n",
       "  <thead>\n",
       "    <tr style=\"text-align: right;\">\n",
       "      <th></th>\n",
       "      <th>date_block_num</th>\n",
       "      <th>shop_id</th>\n",
       "      <th>item_id</th>\n",
       "      <th>item_cnt_month</th>\n",
       "      <th>year</th>\n",
       "      <th>month</th>\n",
       "      <th>item_cat</th>\n",
       "      <th>mean_month_shop</th>\n",
       "      <th>mean_month_cat</th>\n",
       "      <th>mean_by_year</th>\n",
       "    </tr>\n",
       "  </thead>\n",
       "  <tbody>\n",
       "    <tr>\n",
       "      <th>0</th>\n",
       "      <td>0</td>\n",
       "      <td>0</td>\n",
       "      <td>0</td>\n",
       "      <td>0.0</td>\n",
       "      <td>2013</td>\n",
       "      <td>0</td>\n",
       "      <td>40</td>\n",
       "      <td>0.083867</td>\n",
       "      <td>0.077969</td>\n",
       "      <td>0.094271</td>\n",
       "    </tr>\n",
       "    <tr>\n",
       "      <th>1</th>\n",
       "      <td>0</td>\n",
       "      <td>0</td>\n",
       "      <td>1</td>\n",
       "      <td>0.0</td>\n",
       "      <td>2013</td>\n",
       "      <td>0</td>\n",
       "      <td>76</td>\n",
       "      <td>0.083867</td>\n",
       "      <td>0.008292</td>\n",
       "      <td>0.094271</td>\n",
       "    </tr>\n",
       "    <tr>\n",
       "      <th>2</th>\n",
       "      <td>0</td>\n",
       "      <td>0</td>\n",
       "      <td>2</td>\n",
       "      <td>0.0</td>\n",
       "      <td>2013</td>\n",
       "      <td>0</td>\n",
       "      <td>40</td>\n",
       "      <td>0.083867</td>\n",
       "      <td>0.077969</td>\n",
       "      <td>0.094271</td>\n",
       "    </tr>\n",
       "    <tr>\n",
       "      <th>3</th>\n",
       "      <td>0</td>\n",
       "      <td>0</td>\n",
       "      <td>3</td>\n",
       "      <td>0.0</td>\n",
       "      <td>2013</td>\n",
       "      <td>0</td>\n",
       "      <td>40</td>\n",
       "      <td>0.083867</td>\n",
       "      <td>0.077969</td>\n",
       "      <td>0.094271</td>\n",
       "    </tr>\n",
       "    <tr>\n",
       "      <th>4</th>\n",
       "      <td>0</td>\n",
       "      <td>0</td>\n",
       "      <td>4</td>\n",
       "      <td>0.0</td>\n",
       "      <td>2013</td>\n",
       "      <td>0</td>\n",
       "      <td>40</td>\n",
       "      <td>0.083867</td>\n",
       "      <td>0.077969</td>\n",
       "      <td>0.094271</td>\n",
       "    </tr>\n",
       "  </tbody>\n",
       "</table>\n",
       "</div>"
      ],
      "text/plain": [
       "   date_block_num  shop_id  item_id  item_cnt_month  year month  item_cat  \\\n",
       "0               0        0        0             0.0  2013     0        40   \n",
       "1               0        0        1             0.0  2013     0        76   \n",
       "2               0        0        2             0.0  2013     0        40   \n",
       "3               0        0        3             0.0  2013     0        40   \n",
       "4               0        0        4             0.0  2013     0        40   \n",
       "\n",
       "   mean_month_shop  mean_month_cat  mean_by_year  \n",
       "0         0.083867        0.077969      0.094271  \n",
       "1         0.083867        0.008292      0.094271  \n",
       "2         0.083867        0.077969      0.094271  \n",
       "3         0.083867        0.077969      0.094271  \n",
       "4         0.083867        0.077969      0.094271  "
      ]
     },
     "execution_count": 20,
     "metadata": {},
     "output_type": "execute_result"
    }
   ],
   "source": [
    "monthly.head()"
   ]
  },
  {
   "cell_type": "code",
   "execution_count": 21,
   "metadata": {},
   "outputs": [
    {
     "data": {
      "text/plain": [
       "Index                      80\n",
       "date_block_num      361814400\n",
       "shop_id             361814400\n",
       "item_id             361814400\n",
       "item_cnt_month      361814400\n",
       "year               2758834800\n",
       "month              2628475200\n",
       "item_cat            361814400\n",
       "mean_month_shop     361814400\n",
       "mean_month_cat      361814400\n",
       "mean_by_year        361814400\n",
       "dtype: int64"
      ]
     },
     "execution_count": 21,
     "metadata": {},
     "output_type": "execute_result"
    }
   ],
   "source": [
    "monthly.memory_usage(deep=True)"
   ]
  },
  {
   "cell_type": "code",
   "execution_count": 22,
   "metadata": {},
   "outputs": [
    {
     "name": "stdout",
     "output_type": "stream",
     "text": [
      "Total memory usage: 7898.0 MB\n"
     ]
    }
   ],
   "source": [
    "print('Total memory usage: {} MB'.format(round(monthly.memory_usage(deep=True).sum() / 1024**2)))"
   ]
  },
  {
   "cell_type": "code",
   "execution_count": 23,
   "metadata": {},
   "outputs": [],
   "source": [
    "# Change from strings to integers to reduce memory footprint.\n",
    "# They needed to be strings before for error-free indexing with .loc over a MultiIndex\n",
    "monthly['year'] = pd.to_numeric(monthly['year'])\n",
    "monthly['month'] = pd.to_numeric(monthly['month'])"
   ]
  },
  {
   "cell_type": "code",
   "execution_count": 24,
   "metadata": {},
   "outputs": [
    {
     "name": "stdout",
     "output_type": "stream",
     "text": [
      "Total memory usage: 3451.0 MB\n"
     ]
    }
   ],
   "source": [
    "print('Total memory usage: {} MB'.format(round(monthly.memory_usage(deep=True).sum() / 1024**2)))"
   ]
  },
  {
   "cell_type": "markdown",
   "metadata": {},
   "source": [
    "Changing those two columns from strings to ints reduced DataFrame memory by more than half!"
   ]
  },
  {
   "cell_type": "markdown",
   "metadata": {},
   "source": [
    "According to the kaggle contest page, the test set's target variable has been adjusted to be within the range 0 <= item_cnt_month <= 20. Therefore the same should be done to our training data so that it doesn't have crazy outliers (some are as high as 2000+, which totally skews some models)."
   ]
  },
  {
   "cell_type": "code",
   "execution_count": 26,
   "metadata": {},
   "outputs": [
    {
     "name": "stdout",
     "output_type": "stream",
     "text": [
      "Run time: 0 minutes.\n"
     ]
    }
   ],
   "source": [
    "start = time.time()\n",
    "monthly['item_cnt_month'] = monthly['item_cnt_month'].apply(lambda x: x if x >= 0 else 0)\n",
    "monthly['item_cnt_month'] = monthly['item_cnt_month'].apply(lambda x: x if x <= 20 else 20)\n",
    "print('Run time: {} minutes.'.format(round((time.time() - start) / 60)))"
   ]
  },
  {
   "cell_type": "code",
   "execution_count": 36,
   "metadata": {},
   "outputs": [
    {
     "name": "stdout",
     "output_type": "stream",
     "text": [
      "Run time: 0 minutes.\n"
     ]
    }
   ],
   "source": [
    "start = time.time()\n",
    "# Get DF properly arranged\n",
    "monthly.sort_values(['shop_id', 'item_id', 'date_block_num'], inplace=True)\n",
    "print('Run time: {} minutes.'.format(round((time.time() - start) / 60)))"
   ]
  },
  {
   "cell_type": "code",
   "execution_count": 37,
   "metadata": {},
   "outputs": [
    {
     "name": "stdout",
     "output_type": "stream",
     "text": [
      "Run time: 0 minutes.\n"
     ]
    }
   ],
   "source": [
    "start = time.time()\n",
    "# Item count for 1 month ago\n",
    "monthly['item_cnt_1_ago'] = monthly.groupby(['shop_id', 'item_id'])['item_cnt_month'].shift(1)\n",
    "print('Run time: {} minutes.'.format(round((time.time() - start) / 60)))"
   ]
  },
  {
   "cell_type": "code",
   "execution_count": 38,
   "metadata": {},
   "outputs": [],
   "source": [
    "# Item count for 2 months ago\n",
    "monthly['item_cnt_2_ago'] = monthly.groupby(['shop_id', 'item_id'])['item_cnt_month'].shift(2)\n",
    "# Item count for 3 months ago\n",
    "monthly['item_cnt_3_ago'] = monthly.groupby(['shop_id', 'item_id'])['item_cnt_month'].shift(3)\n",
    "# Item count for 4 months ago\n",
    "monthly['item_cnt_4_ago'] = monthly.groupby(['shop_id', 'item_id'])['item_cnt_month'].shift(4)"
   ]
  },
  {
   "cell_type": "code",
   "execution_count": 62,
   "metadata": {},
   "outputs": [
    {
     "data": {
      "text/html": [
       "<div>\n",
       "<style scoped>\n",
       "    .dataframe tbody tr th:only-of-type {\n",
       "        vertical-align: middle;\n",
       "    }\n",
       "\n",
       "    .dataframe tbody tr th {\n",
       "        vertical-align: top;\n",
       "    }\n",
       "\n",
       "    .dataframe thead th {\n",
       "        text-align: right;\n",
       "    }\n",
       "</style>\n",
       "<table border=\"1\" class=\"dataframe\">\n",
       "  <thead>\n",
       "    <tr style=\"text-align: right;\">\n",
       "      <th></th>\n",
       "      <th>date_block_num</th>\n",
       "      <th>shop_id</th>\n",
       "      <th>item_id</th>\n",
       "      <th>item_cnt_month</th>\n",
       "      <th>year</th>\n",
       "      <th>month</th>\n",
       "      <th>item_cat</th>\n",
       "      <th>mean_month_shop</th>\n",
       "      <th>mean_month_cat</th>\n",
       "      <th>mean_by_year</th>\n",
       "      <th>item_cnt_1_ago</th>\n",
       "      <th>item_cnt_2_ago</th>\n",
       "      <th>item_cnt_3_ago</th>\n",
       "      <th>item_cnt_4_ago</th>\n",
       "    </tr>\n",
       "  </thead>\n",
       "  <tbody>\n",
       "    <tr>\n",
       "      <th>30</th>\n",
       "      <td>0</td>\n",
       "      <td>0</td>\n",
       "      <td>30</td>\n",
       "      <td>0.0</td>\n",
       "      <td>2013</td>\n",
       "      <td>0</td>\n",
       "      <td>40</td>\n",
       "      <td>0.083867</td>\n",
       "      <td>0.077969</td>\n",
       "      <td>0.094271</td>\n",
       "      <td>NaN</td>\n",
       "      <td>NaN</td>\n",
       "      <td>NaN</td>\n",
       "      <td>NaN</td>\n",
       "    </tr>\n",
       "    <tr>\n",
       "      <th>1330230</th>\n",
       "      <td>1</td>\n",
       "      <td>0</td>\n",
       "      <td>30</td>\n",
       "      <td>20.0</td>\n",
       "      <td>2013</td>\n",
       "      <td>1</td>\n",
       "      <td>40</td>\n",
       "      <td>0.092121</td>\n",
       "      <td>0.068648</td>\n",
       "      <td>0.094271</td>\n",
       "      <td>0.0</td>\n",
       "      <td>NaN</td>\n",
       "      <td>NaN</td>\n",
       "      <td>NaN</td>\n",
       "    </tr>\n",
       "    <tr>\n",
       "      <th>2660430</th>\n",
       "      <td>2</td>\n",
       "      <td>0</td>\n",
       "      <td>30</td>\n",
       "      <td>0.0</td>\n",
       "      <td>2013</td>\n",
       "      <td>2</td>\n",
       "      <td>40</td>\n",
       "      <td>0.000000</td>\n",
       "      <td>0.077929</td>\n",
       "      <td>0.094271</td>\n",
       "      <td>20.0</td>\n",
       "      <td>0.0</td>\n",
       "      <td>NaN</td>\n",
       "      <td>NaN</td>\n",
       "    </tr>\n",
       "    <tr>\n",
       "      <th>3990630</th>\n",
       "      <td>3</td>\n",
       "      <td>0</td>\n",
       "      <td>30</td>\n",
       "      <td>0.0</td>\n",
       "      <td>2013</td>\n",
       "      <td>3</td>\n",
       "      <td>40</td>\n",
       "      <td>0.000000</td>\n",
       "      <td>0.062372</td>\n",
       "      <td>0.094271</td>\n",
       "      <td>0.0</td>\n",
       "      <td>20.0</td>\n",
       "      <td>0.0</td>\n",
       "      <td>NaN</td>\n",
       "    </tr>\n",
       "    <tr>\n",
       "      <th>5320830</th>\n",
       "      <td>4</td>\n",
       "      <td>0</td>\n",
       "      <td>30</td>\n",
       "      <td>0.0</td>\n",
       "      <td>2013</td>\n",
       "      <td>4</td>\n",
       "      <td>40</td>\n",
       "      <td>0.000000</td>\n",
       "      <td>0.054820</td>\n",
       "      <td>0.094271</td>\n",
       "      <td>0.0</td>\n",
       "      <td>0.0</td>\n",
       "      <td>20.0</td>\n",
       "      <td>0.0</td>\n",
       "    </tr>\n",
       "    <tr>\n",
       "      <th>6651030</th>\n",
       "      <td>5</td>\n",
       "      <td>0</td>\n",
       "      <td>30</td>\n",
       "      <td>0.0</td>\n",
       "      <td>2013</td>\n",
       "      <td>5</td>\n",
       "      <td>40</td>\n",
       "      <td>0.000000</td>\n",
       "      <td>0.056670</td>\n",
       "      <td>0.094271</td>\n",
       "      <td>0.0</td>\n",
       "      <td>0.0</td>\n",
       "      <td>0.0</td>\n",
       "      <td>20.0</td>\n",
       "    </tr>\n",
       "  </tbody>\n",
       "</table>\n",
       "</div>"
      ],
      "text/plain": [
       "         date_block_num  shop_id  item_id  item_cnt_month  year  month  \\\n",
       "30                    0        0       30             0.0  2013      0   \n",
       "1330230               1        0       30            20.0  2013      1   \n",
       "2660430               2        0       30             0.0  2013      2   \n",
       "3990630               3        0       30             0.0  2013      3   \n",
       "5320830               4        0       30             0.0  2013      4   \n",
       "6651030               5        0       30             0.0  2013      5   \n",
       "\n",
       "         item_cat  mean_month_shop  mean_month_cat  mean_by_year  \\\n",
       "30             40         0.083867        0.077969      0.094271   \n",
       "1330230        40         0.092121        0.068648      0.094271   \n",
       "2660430        40         0.000000        0.077929      0.094271   \n",
       "3990630        40         0.000000        0.062372      0.094271   \n",
       "5320830        40         0.000000        0.054820      0.094271   \n",
       "6651030        40         0.000000        0.056670      0.094271   \n",
       "\n",
       "         item_cnt_1_ago  item_cnt_2_ago  item_cnt_3_ago  item_cnt_4_ago  \n",
       "30                  NaN             NaN             NaN             NaN  \n",
       "1330230             0.0             NaN             NaN             NaN  \n",
       "2660430            20.0             0.0             NaN             NaN  \n",
       "3990630             0.0            20.0             0.0             NaN  \n",
       "5320830             0.0             0.0            20.0             0.0  \n",
       "6651030             0.0             0.0             0.0            20.0  "
      ]
     },
     "execution_count": 62,
     "metadata": {},
     "output_type": "execute_result"
    }
   ],
   "source": [
    "monthly.iloc[1020:1026, :]  # In these rows you can see a case of non-zero sales moving through the \"_ago\" columns."
   ]
  },
  {
   "cell_type": "code",
   "execution_count": 58,
   "metadata": {},
   "outputs": [
    {
     "name": "stdout",
     "output_type": "stream",
     "text": [
      "Total memory usage: 5176.0 MB\n"
     ]
    }
   ],
   "source": [
    "print('Total memory usage: {} MB'.format(round(monthly.memory_usage(deep=True).sum() / 1024**2)))"
   ]
  },
  {
   "cell_type": "code",
   "execution_count": 63,
   "metadata": {},
   "outputs": [
    {
     "name": "stdout",
     "output_type": "stream",
     "text": [
      "Run time: 13 minutes.\n"
     ]
    }
   ],
   "source": [
    "# Save the results of all that long computation!\n",
    "start = time.time()\n",
    "monthly.to_csv('monthly_with_shifts.csv')\n",
    "print('Run time: {} minutes.'.format(round((time.time() - start) / 60)))"
   ]
  },
  {
   "cell_type": "markdown",
   "metadata": {},
   "source": [
    "## Fixing mean_by_year\n",
    "I realized I goofed up the mean_by_year column. Each year's average includes January-November, but is only supposed to include January-October. So now I'm going to fix it by recalculating the mean_by_year_jan_to_oct DataFrame and using it to overwrite the values in the 'monthly' DataFrame. I was going to run it over again up above but then my computer crashed, and after restarting I've decided to load from the .csv (to save compute time) and fix it down here."
   ]
  },
  {
   "cell_type": "code",
   "execution_count": 8,
   "metadata": {},
   "outputs": [
    {
     "name": "stdout",
     "output_type": "stream",
     "text": [
      "Run time: 2 minutes.\n"
     ]
    }
   ],
   "source": [
    "start = time.time()\n",
    "monthly = pd.read_csv('monthly_with_shifts.csv')\n",
    "print('Run time: {} minutes.'.format(round((time.time() - start) / 60)))"
   ]
  },
  {
   "cell_type": "code",
   "execution_count": 9,
   "metadata": {},
   "outputs": [
    {
     "name": "stdout",
     "output_type": "stream",
     "text": [
      "<class 'pandas.core.frame.DataFrame'>\n",
      "RangeIndex: 45226800 entries, 0 to 45226799\n",
      "Data columns (total 15 columns):\n",
      "Unnamed: 0         int64\n",
      "date_block_num     int64\n",
      "shop_id            int64\n",
      "item_id            int64\n",
      "item_cnt_month     float64\n",
      "year               int64\n",
      "month              int64\n",
      "item_cat           int64\n",
      "mean_month_shop    float64\n",
      "mean_month_cat     float64\n",
      "mean_by_year       float64\n",
      "item_cnt_1_ago     float64\n",
      "item_cnt_2_ago     float64\n",
      "item_cnt_3_ago     float64\n",
      "item_cnt_4_ago     float64\n",
      "dtypes: float64(8), int64(7)\n",
      "memory usage: 5.1 GB\n"
     ]
    }
   ],
   "source": [
    "monthly.info()"
   ]
  },
  {
   "cell_type": "code",
   "execution_count": 10,
   "metadata": {},
   "outputs": [
    {
     "name": "stdout",
     "output_type": "stream",
     "text": [
      "Run time: 0 minutes.\n"
     ]
    },
    {
     "data": {
      "text/html": [
       "<div>\n",
       "<style scoped>\n",
       "    .dataframe tbody tr th:only-of-type {\n",
       "        vertical-align: middle;\n",
       "    }\n",
       "\n",
       "    .dataframe tbody tr th {\n",
       "        vertical-align: top;\n",
       "    }\n",
       "\n",
       "    .dataframe thead th {\n",
       "        text-align: right;\n",
       "    }\n",
       "</style>\n",
       "<table border=\"1\" class=\"dataframe\">\n",
       "  <thead>\n",
       "    <tr style=\"text-align: right;\">\n",
       "      <th></th>\n",
       "      <th>item_cnt_month</th>\n",
       "    </tr>\n",
       "    <tr>\n",
       "      <th>year</th>\n",
       "      <th></th>\n",
       "    </tr>\n",
       "  </thead>\n",
       "  <tbody>\n",
       "    <tr>\n",
       "      <th>2013</th>\n",
       "      <td>0.085368</td>\n",
       "    </tr>\n",
       "    <tr>\n",
       "      <th>2014</th>\n",
       "      <td>0.069746</td>\n",
       "    </tr>\n",
       "    <tr>\n",
       "      <th>2015</th>\n",
       "      <td>0.050812</td>\n",
       "    </tr>\n",
       "  </tbody>\n",
       "</table>\n",
       "</div>"
      ],
      "text/plain": [
       "      item_cnt_month\n",
       "year                \n",
       "2013        0.085368\n",
       "2014        0.069746\n",
       "2015        0.050812"
      ]
     },
     "execution_count": 10,
     "metadata": {},
     "output_type": "execute_result"
    }
   ],
   "source": [
    "start = time.time()\n",
    "# Note: in the line below, month numbering starts from 0, not 1, so 10 is November and 11 is December.\n",
    "mean_by_year_jan_to_oct = monthly[~monthly['month'].isin([10, 11])].groupby(['year']).agg({'item_cnt_month': 'mean'})\n",
    "print('Run time: {} minutes.'.format(round((time.time() - start) / 60)))\n",
    "mean_by_year_jan_to_oct.head()"
   ]
  },
  {
   "cell_type": "code",
   "execution_count": 11,
   "metadata": {},
   "outputs": [
    {
     "name": "stdout",
     "output_type": "stream",
     "text": [
      "Run time: 90 minutes.\n"
     ]
    }
   ],
   "source": [
    "start = time.time()\n",
    "monthly['mean_by_year'] = monthly['year'].apply(lambda x: mean_by_year_jan_to_oct.loc[x].values[0])\n",
    "print('Run time: {} minutes.'.format(round((time.time() - start) / 60)))"
   ]
  },
  {
   "cell_type": "code",
   "execution_count": 12,
   "metadata": {},
   "outputs": [
    {
     "data": {
      "text/html": [
       "<div>\n",
       "<style scoped>\n",
       "    .dataframe tbody tr th:only-of-type {\n",
       "        vertical-align: middle;\n",
       "    }\n",
       "\n",
       "    .dataframe tbody tr th {\n",
       "        vertical-align: top;\n",
       "    }\n",
       "\n",
       "    .dataframe thead th {\n",
       "        text-align: right;\n",
       "    }\n",
       "</style>\n",
       "<table border=\"1\" class=\"dataframe\">\n",
       "  <thead>\n",
       "    <tr style=\"text-align: right;\">\n",
       "      <th></th>\n",
       "      <th>Unnamed: 0</th>\n",
       "      <th>date_block_num</th>\n",
       "      <th>shop_id</th>\n",
       "      <th>item_id</th>\n",
       "      <th>item_cnt_month</th>\n",
       "      <th>year</th>\n",
       "      <th>month</th>\n",
       "      <th>item_cat</th>\n",
       "      <th>mean_month_shop</th>\n",
       "      <th>mean_month_cat</th>\n",
       "      <th>mean_by_year</th>\n",
       "      <th>item_cnt_1_ago</th>\n",
       "      <th>item_cnt_2_ago</th>\n",
       "      <th>item_cnt_3_ago</th>\n",
       "      <th>item_cnt_4_ago</th>\n",
       "    </tr>\n",
       "  </thead>\n",
       "  <tbody>\n",
       "    <tr>\n",
       "      <th>0</th>\n",
       "      <td>0</td>\n",
       "      <td>0</td>\n",
       "      <td>0</td>\n",
       "      <td>0</td>\n",
       "      <td>0.0</td>\n",
       "      <td>2013</td>\n",
       "      <td>0</td>\n",
       "      <td>40</td>\n",
       "      <td>0.083867</td>\n",
       "      <td>0.077969</td>\n",
       "      <td>0.085368</td>\n",
       "      <td>NaN</td>\n",
       "      <td>NaN</td>\n",
       "      <td>NaN</td>\n",
       "      <td>NaN</td>\n",
       "    </tr>\n",
       "    <tr>\n",
       "      <th>1</th>\n",
       "      <td>1330200</td>\n",
       "      <td>1</td>\n",
       "      <td>0</td>\n",
       "      <td>0</td>\n",
       "      <td>0.0</td>\n",
       "      <td>2013</td>\n",
       "      <td>1</td>\n",
       "      <td>40</td>\n",
       "      <td>0.092121</td>\n",
       "      <td>0.068648</td>\n",
       "      <td>0.085368</td>\n",
       "      <td>0.0</td>\n",
       "      <td>NaN</td>\n",
       "      <td>NaN</td>\n",
       "      <td>NaN</td>\n",
       "    </tr>\n",
       "    <tr>\n",
       "      <th>2</th>\n",
       "      <td>2660400</td>\n",
       "      <td>2</td>\n",
       "      <td>0</td>\n",
       "      <td>0</td>\n",
       "      <td>0.0</td>\n",
       "      <td>2013</td>\n",
       "      <td>2</td>\n",
       "      <td>40</td>\n",
       "      <td>0.000000</td>\n",
       "      <td>0.077929</td>\n",
       "      <td>0.085368</td>\n",
       "      <td>0.0</td>\n",
       "      <td>0.0</td>\n",
       "      <td>NaN</td>\n",
       "      <td>NaN</td>\n",
       "    </tr>\n",
       "    <tr>\n",
       "      <th>3</th>\n",
       "      <td>3990600</td>\n",
       "      <td>3</td>\n",
       "      <td>0</td>\n",
       "      <td>0</td>\n",
       "      <td>0.0</td>\n",
       "      <td>2013</td>\n",
       "      <td>3</td>\n",
       "      <td>40</td>\n",
       "      <td>0.000000</td>\n",
       "      <td>0.062372</td>\n",
       "      <td>0.085368</td>\n",
       "      <td>0.0</td>\n",
       "      <td>0.0</td>\n",
       "      <td>0.0</td>\n",
       "      <td>NaN</td>\n",
       "    </tr>\n",
       "    <tr>\n",
       "      <th>4</th>\n",
       "      <td>5320800</td>\n",
       "      <td>4</td>\n",
       "      <td>0</td>\n",
       "      <td>0</td>\n",
       "      <td>0.0</td>\n",
       "      <td>2013</td>\n",
       "      <td>4</td>\n",
       "      <td>40</td>\n",
       "      <td>0.000000</td>\n",
       "      <td>0.054820</td>\n",
       "      <td>0.085368</td>\n",
       "      <td>0.0</td>\n",
       "      <td>0.0</td>\n",
       "      <td>0.0</td>\n",
       "      <td>0.0</td>\n",
       "    </tr>\n",
       "  </tbody>\n",
       "</table>\n",
       "</div>"
      ],
      "text/plain": [
       "   Unnamed: 0  date_block_num  shop_id  item_id  item_cnt_month  year  month  \\\n",
       "0           0               0        0        0             0.0  2013      0   \n",
       "1     1330200               1        0        0             0.0  2013      1   \n",
       "2     2660400               2        0        0             0.0  2013      2   \n",
       "3     3990600               3        0        0             0.0  2013      3   \n",
       "4     5320800               4        0        0             0.0  2013      4   \n",
       "\n",
       "   item_cat  mean_month_shop  mean_month_cat  mean_by_year  item_cnt_1_ago  \\\n",
       "0        40         0.083867        0.077969      0.085368             NaN   \n",
       "1        40         0.092121        0.068648      0.085368             0.0   \n",
       "2        40         0.000000        0.077929      0.085368             0.0   \n",
       "3        40         0.000000        0.062372      0.085368             0.0   \n",
       "4        40         0.000000        0.054820      0.085368             0.0   \n",
       "\n",
       "   item_cnt_2_ago  item_cnt_3_ago  item_cnt_4_ago  \n",
       "0             NaN             NaN             NaN  \n",
       "1             NaN             NaN             NaN  \n",
       "2             0.0             NaN             NaN  \n",
       "3             0.0             0.0             NaN  \n",
       "4             0.0             0.0             0.0  "
      ]
     },
     "execution_count": 12,
     "metadata": {},
     "output_type": "execute_result"
    }
   ],
   "source": [
    "monthly.head()"
   ]
  },
  {
   "cell_type": "code",
   "execution_count": 22,
   "metadata": {},
   "outputs": [],
   "source": [
    "monthly.drop('Unnamed: 0', axis=1, inplace=True)"
   ]
  },
  {
   "cell_type": "code",
   "execution_count": 24,
   "metadata": {},
   "outputs": [
    {
     "name": "stdout",
     "output_type": "stream",
     "text": [
      "Run time: 13 minutes.\n"
     ]
    }
   ],
   "source": [
    "start = time.time()\n",
    "monthly.to_csv('monthly_with_shifts.csv', index=False)\n",
    "print('Run time: {} minutes.'.format(round((time.time() - start) / 60)))"
   ]
  },
  {
   "cell_type": "markdown",
   "metadata": {},
   "source": [
    "## Selecting the training/validation data out of the full dataset\n",
    "Based on exploratory analysis, I saw that the testing set includes every combination of an item that was sold in that month (5100 distinct item_ids) and a shop that sold an item (42 distinct shop_ids). However, if the preceeding 5-6 months are any indicator, most of these shops didn't sell most of the included items, for a ratio of roughly 85% zero-sales of the particular item at the particular store. The training and validation sets should have about the same properties as the test set, so roughly this ratio should be present in the training/validation set. The full dataset constructed above is about 96.5% zero-sales, so only subsets of it can be included in the training/validation set. I will select this data according to the pattern in the test set: for each date_block_num value, every combination of an item sold in that month and a shop that sold an item in that month will be included. However, because one or more historical (shifted sales) numbers are missing (NaN) for the first 4 months in the dataset, these will be left out. Therefore I start at date_block_num = 4. Plenty of data remains."
   ]
  },
  {
   "cell_type": "code",
   "execution_count": 13,
   "metadata": {},
   "outputs": [
    {
     "name": "stdout",
     "output_type": "stream",
     "text": [
      "date_block_num = 4 processed. Run time: 5 minutes.\n",
      "date_block_num = 5 processed. Run time: 11 minutes.\n",
      "date_block_num = 6 processed. Run time: 17 minutes.\n",
      "date_block_num = 7 processed. Run time: 22 minutes.\n",
      "date_block_num = 8 processed. Run time: 27 minutes.\n",
      "date_block_num = 9 processed. Run time: 32 minutes.\n",
      "date_block_num = 10 processed. Run time: 38 minutes.\n",
      "date_block_num = 11 processed. Run time: 43 minutes.\n",
      "date_block_num = 12 processed. Run time: 48 minutes.\n",
      "date_block_num = 13 processed. Run time: 53 minutes.\n",
      "date_block_num = 14 processed. Run time: 58 minutes.\n",
      "date_block_num = 15 processed. Run time: 62 minutes.\n",
      "date_block_num = 16 processed. Run time: 67 minutes.\n",
      "date_block_num = 17 processed. Run time: 72 minutes.\n",
      "date_block_num = 18 processed. Run time: 77 minutes.\n",
      "date_block_num = 19 processed. Run time: 81 minutes.\n",
      "date_block_num = 20 processed. Run time: 86 minutes.\n",
      "date_block_num = 21 processed. Run time: 91 minutes.\n",
      "date_block_num = 22 processed. Run time: 95 minutes.\n",
      "date_block_num = 23 processed. Run time: 100 minutes.\n",
      "date_block_num = 24 processed. Run time: 104 minutes.\n",
      "date_block_num = 25 processed. Run time: 109 minutes.\n",
      "date_block_num = 26 processed. Run time: 113 minutes.\n",
      "date_block_num = 27 processed. Run time: 116 minutes.\n",
      "date_block_num = 28 processed. Run time: 120 minutes.\n",
      "date_block_num = 29 processed. Run time: 123 minutes.\n",
      "date_block_num = 30 processed. Run time: 126 minutes.\n",
      "date_block_num = 31 processed. Run time: 129 minutes.\n",
      "date_block_num = 32 processed. Run time: 132 minutes.\n",
      "date_block_num = 33 processed. Run time: 136 minutes.\n"
     ]
    },
    {
     "data": {
      "text/plain": [
       "30"
      ]
     },
     "execution_count": 13,
     "metadata": {},
     "output_type": "execute_result"
    }
   ],
   "source": [
    "chosen_dfs = []\n",
    "start = time.time()\n",
    "for i in range(4, 34):\n",
    "    sold_df = monthly_sparse[monthly_sparse['date_block_num'] == i]\n",
    "    sold_item_ids = sold_df['item_id'].unique()\n",
    "    sold_shop_ids = sold_df['shop_id'].unique()\n",
    "    # Make lists for storing the column values to go into our next dataframe\n",
    "    item_cnt_month_col = []\n",
    "    mean_month_shop_col = []\n",
    "    mean_month_cat_col = []\n",
    "    mean_by_year_col = []\n",
    "    item_cnt_1_ago_col = []\n",
    "    item_cnt_2_ago_col = []\n",
    "    item_cnt_3_ago_col = []\n",
    "    item_cnt_4_ago_col = []\n",
    "    block_df = monthly[monthly['date_block_num'] == i]\n",
    "    for item_id in sold_item_ids:\n",
    "        item_df = block_df[block_df['item_id'] == item_id]\n",
    "        for shop_id in sold_shop_ids:\n",
    "            row = item_df[item_df['shop_id'] == shop_id].iloc[0]  # returns a Series with the single row's contents\n",
    "            item_cnt_month_col.append(row['item_cnt_month'])\n",
    "            mean_month_shop_col.append(row['mean_month_shop'])\n",
    "            mean_month_cat_col.append(row['mean_month_cat'])\n",
    "            mean_by_year_col.append(row['mean_by_year'])\n",
    "            item_cnt_1_ago_col.append(row['item_cnt_1_ago'])\n",
    "            item_cnt_2_ago_col.append(row['item_cnt_2_ago'])\n",
    "            item_cnt_3_ago_col.append(row['item_cnt_3_ago'])\n",
    "            item_cnt_4_ago_col.append(row['item_cnt_4_ago'])\n",
    "    chosen_dfs.append(pd.DataFrame({'item_cnt_month': item_cnt_month_col, 'mean_month_shop': mean_month_shop_col,\n",
    "                                    'mean_month_cat': mean_month_cat_col, 'mean_by_year': mean_by_year_col,\n",
    "                                    'item_cnt_1_ago': item_cnt_1_ago_col, 'item_cnt_2_ago': item_cnt_2_ago_col,\n",
    "                                    'item_cnt_3_ago': item_cnt_3_ago_col, 'item_cnt_4_ago': item_cnt_4_ago_col},\n",
    "                                   columns=['item_cnt_month', 'mean_month_shop', 'mean_month_cat', 'mean_by_year',\n",
    "                                           'item_cnt_1_ago', 'item_cnt_2_ago', 'item_cnt_3_ago', 'item_cnt_4_ago']))\n",
    "    print('date_block_num = {} processed. Run time: {} minutes.'.format(i, round((time.time() - start) / 60)))\n",
    "len(chosen_dfs)"
   ]
  },
  {
   "cell_type": "code",
   "execution_count": 14,
   "metadata": {},
   "outputs": [],
   "source": [
    "chosen = pd.concat(chosen_dfs, ignore_index=True)"
   ]
  },
  {
   "cell_type": "code",
   "execution_count": 15,
   "metadata": {},
   "outputs": [
    {
     "data": {
      "text/plain": [
       "9416385"
      ]
     },
     "execution_count": 15,
     "metadata": {},
     "output_type": "execute_result"
    }
   ],
   "source": [
    "len(chosen)"
   ]
  },
  {
   "cell_type": "code",
   "execution_count": 16,
   "metadata": {},
   "outputs": [
    {
     "data": {
      "text/plain": [
       "Index                    80\n",
       "item_cnt_month     75331080\n",
       "mean_month_shop    75331080\n",
       "mean_month_cat     75331080\n",
       "mean_by_year       75331080\n",
       "item_cnt_1_ago     75331080\n",
       "item_cnt_2_ago     75331080\n",
       "item_cnt_3_ago     75331080\n",
       "item_cnt_4_ago     75331080\n",
       "dtype: int64"
      ]
     },
     "execution_count": 16,
     "metadata": {},
     "output_type": "execute_result"
    }
   ],
   "source": [
    "chosen.memory_usage(deep=True)"
   ]
  },
  {
   "cell_type": "code",
   "execution_count": 17,
   "metadata": {},
   "outputs": [
    {
     "name": "stdout",
     "output_type": "stream",
     "text": [
      "Total memory usage: 575.0 MB\n"
     ]
    }
   ],
   "source": [
    "print('Total memory usage: {} MB'.format(round(chosen.memory_usage(deep=True).sum() / 1024**2)))"
   ]
  },
  {
   "cell_type": "code",
   "execution_count": 18,
   "metadata": {},
   "outputs": [],
   "source": [
    "chosen.to_csv('chosen.csv', index=False)"
   ]
  },
  {
   "cell_type": "markdown",
   "metadata": {},
   "source": [
    "## Adding the features to the test data"
   ]
  },
  {
   "cell_type": "code",
   "execution_count": 25,
   "metadata": {},
   "outputs": [
    {
     "data": {
      "text/html": [
       "<div>\n",
       "<style scoped>\n",
       "    .dataframe tbody tr th:only-of-type {\n",
       "        vertical-align: middle;\n",
       "    }\n",
       "\n",
       "    .dataframe tbody tr th {\n",
       "        vertical-align: top;\n",
       "    }\n",
       "\n",
       "    .dataframe thead th {\n",
       "        text-align: right;\n",
       "    }\n",
       "</style>\n",
       "<table border=\"1\" class=\"dataframe\">\n",
       "  <thead>\n",
       "    <tr style=\"text-align: right;\">\n",
       "      <th></th>\n",
       "      <th>ID</th>\n",
       "      <th>shop_id</th>\n",
       "      <th>item_id</th>\n",
       "    </tr>\n",
       "  </thead>\n",
       "  <tbody>\n",
       "    <tr>\n",
       "      <th>0</th>\n",
       "      <td>0</td>\n",
       "      <td>5</td>\n",
       "      <td>5037</td>\n",
       "    </tr>\n",
       "    <tr>\n",
       "      <th>1</th>\n",
       "      <td>1</td>\n",
       "      <td>5</td>\n",
       "      <td>5320</td>\n",
       "    </tr>\n",
       "    <tr>\n",
       "      <th>2</th>\n",
       "      <td>2</td>\n",
       "      <td>5</td>\n",
       "      <td>5233</td>\n",
       "    </tr>\n",
       "    <tr>\n",
       "      <th>3</th>\n",
       "      <td>3</td>\n",
       "      <td>5</td>\n",
       "      <td>5232</td>\n",
       "    </tr>\n",
       "    <tr>\n",
       "      <th>4</th>\n",
       "      <td>4</td>\n",
       "      <td>5</td>\n",
       "      <td>5268</td>\n",
       "    </tr>\n",
       "  </tbody>\n",
       "</table>\n",
       "</div>"
      ],
      "text/plain": [
       "   ID  shop_id  item_id\n",
       "0   0        5     5037\n",
       "1   1        5     5320\n",
       "2   2        5     5233\n",
       "3   3        5     5232\n",
       "4   4        5     5268"
      ]
     },
     "execution_count": 25,
     "metadata": {},
     "output_type": "execute_result"
    }
   ],
   "source": [
    "test = pd.read_csv('test.csv')\n",
    "test.head()"
   ]
  },
  {
   "cell_type": "markdown",
   "metadata": {},
   "source": [
    "Need to recalculate the mean_by_month_shop and mean_by_month_cat DFs because my computer crashed, so they're not in memory anymore."
   ]
  },
  {
   "cell_type": "code",
   "execution_count": 27,
   "metadata": {},
   "outputs": [
    {
     "name": "stdout",
     "output_type": "stream",
     "text": [
      "Run time: 0 minutes.\n"
     ]
    },
    {
     "data": {
      "text/html": [
       "<div>\n",
       "<style scoped>\n",
       "    .dataframe tbody tr th:only-of-type {\n",
       "        vertical-align: middle;\n",
       "    }\n",
       "\n",
       "    .dataframe tbody tr th {\n",
       "        vertical-align: top;\n",
       "    }\n",
       "\n",
       "    .dataframe thead th {\n",
       "        text-align: right;\n",
       "    }\n",
       "</style>\n",
       "<table border=\"1\" class=\"dataframe\">\n",
       "  <thead>\n",
       "    <tr style=\"text-align: right;\">\n",
       "      <th></th>\n",
       "      <th></th>\n",
       "      <th>item_cnt_month</th>\n",
       "    </tr>\n",
       "    <tr>\n",
       "      <th>month</th>\n",
       "      <th>shop_id</th>\n",
       "      <th></th>\n",
       "    </tr>\n",
       "  </thead>\n",
       "  <tbody>\n",
       "    <tr>\n",
       "      <th rowspan=\"5\" valign=\"top\">0</th>\n",
       "      <th>0</th>\n",
       "      <td>0.081356</td>\n",
       "    </tr>\n",
       "    <tr>\n",
       "      <th>1</th>\n",
       "      <td>0.044084</td>\n",
       "    </tr>\n",
       "    <tr>\n",
       "      <th>2</th>\n",
       "      <td>0.044414</td>\n",
       "    </tr>\n",
       "    <tr>\n",
       "      <th>3</th>\n",
       "      <td>0.040400</td>\n",
       "    </tr>\n",
       "    <tr>\n",
       "      <th>4</th>\n",
       "      <td>0.068321</td>\n",
       "    </tr>\n",
       "  </tbody>\n",
       "</table>\n",
       "</div>"
      ],
      "text/plain": [
       "               item_cnt_month\n",
       "month shop_id                \n",
       "0     0              0.081356\n",
       "      1              0.044084\n",
       "      2              0.044414\n",
       "      3              0.040400\n",
       "      4              0.068321"
      ]
     },
     "execution_count": 27,
     "metadata": {},
     "output_type": "execute_result"
    }
   ],
   "source": [
    "start = time.time()\n",
    "mean_by_month_shop = monthly.groupby(['month', 'shop_id']).agg({'item_cnt_month': 'mean'})\n",
    "print('Run time: {} minutes.'.format(round((time.time() - start) / 60)))\n",
    "mean_by_month_shop.head()"
   ]
  },
  {
   "cell_type": "code",
   "execution_count": 28,
   "metadata": {},
   "outputs": [
    {
     "name": "stdout",
     "output_type": "stream",
     "text": [
      "Run time: 0 minutes.\n"
     ]
    },
    {
     "data": {
      "text/html": [
       "<div>\n",
       "<style scoped>\n",
       "    .dataframe tbody tr th:only-of-type {\n",
       "        vertical-align: middle;\n",
       "    }\n",
       "\n",
       "    .dataframe tbody tr th {\n",
       "        vertical-align: top;\n",
       "    }\n",
       "\n",
       "    .dataframe thead th {\n",
       "        text-align: right;\n",
       "    }\n",
       "</style>\n",
       "<table border=\"1\" class=\"dataframe\">\n",
       "  <thead>\n",
       "    <tr style=\"text-align: right;\">\n",
       "      <th></th>\n",
       "      <th></th>\n",
       "      <th>item_cnt_month</th>\n",
       "    </tr>\n",
       "    <tr>\n",
       "      <th>month</th>\n",
       "      <th>item_cat</th>\n",
       "      <th></th>\n",
       "    </tr>\n",
       "  </thead>\n",
       "  <tbody>\n",
       "    <tr>\n",
       "      <th rowspan=\"5\" valign=\"top\">0</th>\n",
       "      <th>0</th>\n",
       "      <td>0.001389</td>\n",
       "    </tr>\n",
       "    <tr>\n",
       "      <th>1</th>\n",
       "      <td>0.002778</td>\n",
       "    </tr>\n",
       "    <tr>\n",
       "      <th>2</th>\n",
       "      <td>0.229407</td>\n",
       "    </tr>\n",
       "    <tr>\n",
       "      <th>3</th>\n",
       "      <td>0.485131</td>\n",
       "    </tr>\n",
       "    <tr>\n",
       "      <th>4</th>\n",
       "      <td>0.133333</td>\n",
       "    </tr>\n",
       "  </tbody>\n",
       "</table>\n",
       "</div>"
      ],
      "text/plain": [
       "                item_cnt_month\n",
       "month item_cat                \n",
       "0     0               0.001389\n",
       "      1               0.002778\n",
       "      2               0.229407\n",
       "      3               0.485131\n",
       "      4               0.133333"
      ]
     },
     "execution_count": 28,
     "metadata": {},
     "output_type": "execute_result"
    }
   ],
   "source": [
    "start = time.time()\n",
    "mean_by_month_cat = monthly.groupby(['month', 'item_cat']).agg({'item_cnt_month': 'mean'})\n",
    "print('Run time: {} minutes.'.format(round((time.time() - start) / 60)))\n",
    "mean_by_month_cat.head()"
   ]
  },
  {
   "cell_type": "code",
   "execution_count": 29,
   "metadata": {},
   "outputs": [
    {
     "name": "stdout",
     "output_type": "stream",
     "text": [
      "Run time: 1 minutes.\n"
     ]
    }
   ],
   "source": [
    "start = time.time()\n",
    "test['mean_month_shop'] = test['shop_id'].apply(lambda x: mean_by_month_shop.loc[10, x].values[0])\n",
    "print('Run time: {} minutes.'.format(round((time.time() - start) / 60)))"
   ]
  },
  {
   "cell_type": "code",
   "execution_count": 31,
   "metadata": {},
   "outputs": [
    {
     "name": "stdout",
     "output_type": "stream",
     "text": [
      "Run time: 1 minutes.\n"
     ]
    }
   ],
   "source": [
    "start = time.time()\n",
    "test['item_cat'] = test['item_id'].apply(lambda x: items.loc[x]['item_category_id'])\n",
    "# The following two lines were alternative ways to achieve the same thing but are slower than the above.\n",
    "# monthly['item_cat'] = monthly['item_id'].apply(lambda x: items[items['item_id'] == x]['item_category_id'].values[0])\n",
    "# monthly = pd.merge(monthly, items[['item_id', 'item_category_id']], on='item_id', how='left')\n",
    "print('Run time: {} minutes.'.format(round((time.time() - start) / 60)))"
   ]
  },
  {
   "cell_type": "code",
   "execution_count": 32,
   "metadata": {},
   "outputs": [
    {
     "name": "stdout",
     "output_type": "stream",
     "text": [
      "Run time: 1 minutes.\n"
     ]
    }
   ],
   "source": [
    "start = time.time()\n",
    "test['mean_month_cat'] = test['item_cat'].apply(lambda x: mean_by_month_cat.loc[10, x].values[0])\n",
    "print('Run time: {} minutes.'.format(round((time.time() - start) / 60)))"
   ]
  },
  {
   "cell_type": "code",
   "execution_count": 34,
   "metadata": {},
   "outputs": [
    {
     "data": {
      "text/html": [
       "<div>\n",
       "<style scoped>\n",
       "    .dataframe tbody tr th:only-of-type {\n",
       "        vertical-align: middle;\n",
       "    }\n",
       "\n",
       "    .dataframe tbody tr th {\n",
       "        vertical-align: top;\n",
       "    }\n",
       "\n",
       "    .dataframe thead th {\n",
       "        text-align: right;\n",
       "    }\n",
       "</style>\n",
       "<table border=\"1\" class=\"dataframe\">\n",
       "  <thead>\n",
       "    <tr style=\"text-align: right;\">\n",
       "      <th></th>\n",
       "      <th>item_cnt_month</th>\n",
       "    </tr>\n",
       "    <tr>\n",
       "      <th>year</th>\n",
       "      <th></th>\n",
       "    </tr>\n",
       "  </thead>\n",
       "  <tbody>\n",
       "    <tr>\n",
       "      <th>2013</th>\n",
       "      <td>0.085368</td>\n",
       "    </tr>\n",
       "    <tr>\n",
       "      <th>2014</th>\n",
       "      <td>0.069746</td>\n",
       "    </tr>\n",
       "    <tr>\n",
       "      <th>2015</th>\n",
       "      <td>0.050812</td>\n",
       "    </tr>\n",
       "  </tbody>\n",
       "</table>\n",
       "</div>"
      ],
      "text/plain": [
       "      item_cnt_month\n",
       "year                \n",
       "2013        0.085368\n",
       "2014        0.069746\n",
       "2015        0.050812"
      ]
     },
     "execution_count": 34,
     "metadata": {},
     "output_type": "execute_result"
    }
   ],
   "source": [
    "mean_by_year_jan_to_oct.head()"
   ]
  },
  {
   "cell_type": "code",
   "execution_count": 36,
   "metadata": {},
   "outputs": [],
   "source": [
    "test['mean_by_year'] = mean_by_year_jan_to_oct.loc[2015].values[0]"
   ]
  },
  {
   "cell_type": "code",
   "execution_count": 39,
   "metadata": {},
   "outputs": [],
   "source": [
    "block_33 = monthly[monthly['date_block_num'] == 33]"
   ]
  },
  {
   "cell_type": "code",
   "execution_count": 40,
   "metadata": {},
   "outputs": [
    {
     "name": "stdout",
     "output_type": "stream",
     "text": [
      "Run time: 14 minutes.\n"
     ]
    }
   ],
   "source": [
    "item_cnt_1_ago_col = []\n",
    "item_cnt_2_ago_col = []\n",
    "item_cnt_3_ago_col = []\n",
    "item_cnt_4_ago_col = []\n",
    "start = time.time()\n",
    "for index, test_row in test.iterrows():\n",
    "    item_df = block_33[block_33['item_id'] == test_row['item_id']]\n",
    "    monthly_row = item_df[item_df['shop_id'] == test_row['shop_id']].iloc[0]\n",
    "    item_cnt_1_ago_col.append(monthly_row['item_cnt_month'])\n",
    "    item_cnt_2_ago_col.append(monthly_row['item_cnt_1_ago'])\n",
    "    item_cnt_3_ago_col.append(monthly_row['item_cnt_2_ago'])\n",
    "    item_cnt_4_ago_col.append(monthly_row['item_cnt_3_ago'])\n",
    "print('Run time: {} minutes.'.format(round((time.time() - start) / 60)))"
   ]
  },
  {
   "cell_type": "code",
   "execution_count": 41,
   "metadata": {},
   "outputs": [],
   "source": [
    "test['item_cnt_1_ago'] = item_cnt_1_ago_col\n",
    "test['item_cnt_2_ago'] = item_cnt_2_ago_col\n",
    "test['item_cnt_3_ago'] = item_cnt_3_ago_col\n",
    "test['item_cnt_4_ago'] = item_cnt_4_ago_col"
   ]
  },
  {
   "cell_type": "code",
   "execution_count": 42,
   "metadata": {},
   "outputs": [
    {
     "data": {
      "text/html": [
       "<div>\n",
       "<style scoped>\n",
       "    .dataframe tbody tr th:only-of-type {\n",
       "        vertical-align: middle;\n",
       "    }\n",
       "\n",
       "    .dataframe tbody tr th {\n",
       "        vertical-align: top;\n",
       "    }\n",
       "\n",
       "    .dataframe thead th {\n",
       "        text-align: right;\n",
       "    }\n",
       "</style>\n",
       "<table border=\"1\" class=\"dataframe\">\n",
       "  <thead>\n",
       "    <tr style=\"text-align: right;\">\n",
       "      <th></th>\n",
       "      <th>ID</th>\n",
       "      <th>shop_id</th>\n",
       "      <th>item_id</th>\n",
       "      <th>mean_month_shop</th>\n",
       "      <th>item_cat</th>\n",
       "      <th>mean_month_cat</th>\n",
       "      <th>mean_by_year</th>\n",
       "      <th>item_cnt_1_ago</th>\n",
       "      <th>item_cnt_2_ago</th>\n",
       "      <th>item_cnt_3_ago</th>\n",
       "      <th>item_cnt_4_ago</th>\n",
       "    </tr>\n",
       "  </thead>\n",
       "  <tbody>\n",
       "    <tr>\n",
       "      <th>0</th>\n",
       "      <td>0</td>\n",
       "      <td>5</td>\n",
       "      <td>5037</td>\n",
       "      <td>0.059517</td>\n",
       "      <td>19</td>\n",
       "      <td>0.192317</td>\n",
       "      <td>0.050812</td>\n",
       "      <td>0.0</td>\n",
       "      <td>1.0</td>\n",
       "      <td>3.0</td>\n",
       "      <td>1.0</td>\n",
       "    </tr>\n",
       "    <tr>\n",
       "      <th>1</th>\n",
       "      <td>1</td>\n",
       "      <td>5</td>\n",
       "      <td>5320</td>\n",
       "      <td>0.059517</td>\n",
       "      <td>55</td>\n",
       "      <td>0.075187</td>\n",
       "      <td>0.050812</td>\n",
       "      <td>0.0</td>\n",
       "      <td>0.0</td>\n",
       "      <td>0.0</td>\n",
       "      <td>0.0</td>\n",
       "    </tr>\n",
       "    <tr>\n",
       "      <th>2</th>\n",
       "      <td>2</td>\n",
       "      <td>5</td>\n",
       "      <td>5233</td>\n",
       "      <td>0.059517</td>\n",
       "      <td>19</td>\n",
       "      <td>0.192317</td>\n",
       "      <td>0.050812</td>\n",
       "      <td>1.0</td>\n",
       "      <td>3.0</td>\n",
       "      <td>1.0</td>\n",
       "      <td>0.0</td>\n",
       "    </tr>\n",
       "    <tr>\n",
       "      <th>3</th>\n",
       "      <td>3</td>\n",
       "      <td>5</td>\n",
       "      <td>5232</td>\n",
       "      <td>0.059517</td>\n",
       "      <td>23</td>\n",
       "      <td>0.181670</td>\n",
       "      <td>0.050812</td>\n",
       "      <td>0.0</td>\n",
       "      <td>0.0</td>\n",
       "      <td>1.0</td>\n",
       "      <td>0.0</td>\n",
       "    </tr>\n",
       "    <tr>\n",
       "      <th>4</th>\n",
       "      <td>4</td>\n",
       "      <td>5</td>\n",
       "      <td>5268</td>\n",
       "      <td>0.059517</td>\n",
       "      <td>20</td>\n",
       "      <td>0.471762</td>\n",
       "      <td>0.050812</td>\n",
       "      <td>0.0</td>\n",
       "      <td>0.0</td>\n",
       "      <td>0.0</td>\n",
       "      <td>0.0</td>\n",
       "    </tr>\n",
       "  </tbody>\n",
       "</table>\n",
       "</div>"
      ],
      "text/plain": [
       "   ID  shop_id  item_id  mean_month_shop  item_cat  mean_month_cat  \\\n",
       "0   0        5     5037         0.059517        19        0.192317   \n",
       "1   1        5     5320         0.059517        55        0.075187   \n",
       "2   2        5     5233         0.059517        19        0.192317   \n",
       "3   3        5     5232         0.059517        23        0.181670   \n",
       "4   4        5     5268         0.059517        20        0.471762   \n",
       "\n",
       "   mean_by_year  item_cnt_1_ago  item_cnt_2_ago  item_cnt_3_ago  \\\n",
       "0      0.050812             0.0             1.0             3.0   \n",
       "1      0.050812             0.0             0.0             0.0   \n",
       "2      0.050812             1.0             3.0             1.0   \n",
       "3      0.050812             0.0             0.0             1.0   \n",
       "4      0.050812             0.0             0.0             0.0   \n",
       "\n",
       "   item_cnt_4_ago  \n",
       "0             1.0  \n",
       "1             0.0  \n",
       "2             0.0  \n",
       "3             0.0  \n",
       "4             0.0  "
      ]
     },
     "execution_count": 42,
     "metadata": {},
     "output_type": "execute_result"
    }
   ],
   "source": [
    "test.head()"
   ]
  },
  {
   "cell_type": "code",
   "execution_count": 43,
   "metadata": {},
   "outputs": [],
   "source": [
    "test.drop(['shop_id', 'item_id', 'item_cat'], axis=1, inplace=True)"
   ]
  },
  {
   "cell_type": "code",
   "execution_count": 44,
   "metadata": {},
   "outputs": [
    {
     "data": {
      "text/html": [
       "<div>\n",
       "<style scoped>\n",
       "    .dataframe tbody tr th:only-of-type {\n",
       "        vertical-align: middle;\n",
       "    }\n",
       "\n",
       "    .dataframe tbody tr th {\n",
       "        vertical-align: top;\n",
       "    }\n",
       "\n",
       "    .dataframe thead th {\n",
       "        text-align: right;\n",
       "    }\n",
       "</style>\n",
       "<table border=\"1\" class=\"dataframe\">\n",
       "  <thead>\n",
       "    <tr style=\"text-align: right;\">\n",
       "      <th></th>\n",
       "      <th>ID</th>\n",
       "      <th>mean_month_shop</th>\n",
       "      <th>mean_month_cat</th>\n",
       "      <th>mean_by_year</th>\n",
       "      <th>item_cnt_1_ago</th>\n",
       "      <th>item_cnt_2_ago</th>\n",
       "      <th>item_cnt_3_ago</th>\n",
       "      <th>item_cnt_4_ago</th>\n",
       "    </tr>\n",
       "  </thead>\n",
       "  <tbody>\n",
       "    <tr>\n",
       "      <th>0</th>\n",
       "      <td>0</td>\n",
       "      <td>0.059517</td>\n",
       "      <td>0.192317</td>\n",
       "      <td>0.050812</td>\n",
       "      <td>0.0</td>\n",
       "      <td>1.0</td>\n",
       "      <td>3.0</td>\n",
       "      <td>1.0</td>\n",
       "    </tr>\n",
       "    <tr>\n",
       "      <th>1</th>\n",
       "      <td>1</td>\n",
       "      <td>0.059517</td>\n",
       "      <td>0.075187</td>\n",
       "      <td>0.050812</td>\n",
       "      <td>0.0</td>\n",
       "      <td>0.0</td>\n",
       "      <td>0.0</td>\n",
       "      <td>0.0</td>\n",
       "    </tr>\n",
       "    <tr>\n",
       "      <th>2</th>\n",
       "      <td>2</td>\n",
       "      <td>0.059517</td>\n",
       "      <td>0.192317</td>\n",
       "      <td>0.050812</td>\n",
       "      <td>1.0</td>\n",
       "      <td>3.0</td>\n",
       "      <td>1.0</td>\n",
       "      <td>0.0</td>\n",
       "    </tr>\n",
       "    <tr>\n",
       "      <th>3</th>\n",
       "      <td>3</td>\n",
       "      <td>0.059517</td>\n",
       "      <td>0.181670</td>\n",
       "      <td>0.050812</td>\n",
       "      <td>0.0</td>\n",
       "      <td>0.0</td>\n",
       "      <td>1.0</td>\n",
       "      <td>0.0</td>\n",
       "    </tr>\n",
       "    <tr>\n",
       "      <th>4</th>\n",
       "      <td>4</td>\n",
       "      <td>0.059517</td>\n",
       "      <td>0.471762</td>\n",
       "      <td>0.050812</td>\n",
       "      <td>0.0</td>\n",
       "      <td>0.0</td>\n",
       "      <td>0.0</td>\n",
       "      <td>0.0</td>\n",
       "    </tr>\n",
       "  </tbody>\n",
       "</table>\n",
       "</div>"
      ],
      "text/plain": [
       "   ID  mean_month_shop  mean_month_cat  mean_by_year  item_cnt_1_ago  \\\n",
       "0   0         0.059517        0.192317      0.050812             0.0   \n",
       "1   1         0.059517        0.075187      0.050812             0.0   \n",
       "2   2         0.059517        0.192317      0.050812             1.0   \n",
       "3   3         0.059517        0.181670      0.050812             0.0   \n",
       "4   4         0.059517        0.471762      0.050812             0.0   \n",
       "\n",
       "   item_cnt_2_ago  item_cnt_3_ago  item_cnt_4_ago  \n",
       "0             1.0             3.0             1.0  \n",
       "1             0.0             0.0             0.0  \n",
       "2             3.0             1.0             0.0  \n",
       "3             0.0             1.0             0.0  \n",
       "4             0.0             0.0             0.0  "
      ]
     },
     "execution_count": 44,
     "metadata": {},
     "output_type": "execute_result"
    }
   ],
   "source": [
    "test.head()"
   ]
  },
  {
   "cell_type": "code",
   "execution_count": 45,
   "metadata": {},
   "outputs": [
    {
     "data": {
      "text/html": [
       "<div>\n",
       "<style scoped>\n",
       "    .dataframe tbody tr th:only-of-type {\n",
       "        vertical-align: middle;\n",
       "    }\n",
       "\n",
       "    .dataframe tbody tr th {\n",
       "        vertical-align: top;\n",
       "    }\n",
       "\n",
       "    .dataframe thead th {\n",
       "        text-align: right;\n",
       "    }\n",
       "</style>\n",
       "<table border=\"1\" class=\"dataframe\">\n",
       "  <thead>\n",
       "    <tr style=\"text-align: right;\">\n",
       "      <th></th>\n",
       "      <th>item_cnt_month</th>\n",
       "      <th>mean_month_shop</th>\n",
       "      <th>mean_month_cat</th>\n",
       "      <th>mean_by_year</th>\n",
       "      <th>item_cnt_1_ago</th>\n",
       "      <th>item_cnt_2_ago</th>\n",
       "      <th>item_cnt_3_ago</th>\n",
       "      <th>item_cnt_4_ago</th>\n",
       "    </tr>\n",
       "  </thead>\n",
       "  <tbody>\n",
       "    <tr>\n",
       "      <th>0</th>\n",
       "      <td>1.0</td>\n",
       "      <td>0.034671</td>\n",
       "      <td>0.151543</td>\n",
       "      <td>0.085368</td>\n",
       "      <td>1.0</td>\n",
       "      <td>1.0</td>\n",
       "      <td>1.0</td>\n",
       "      <td>1.0</td>\n",
       "    </tr>\n",
       "    <tr>\n",
       "      <th>1</th>\n",
       "      <td>0.0</td>\n",
       "      <td>0.033333</td>\n",
       "      <td>0.151543</td>\n",
       "      <td>0.085368</td>\n",
       "      <td>0.0</td>\n",
       "      <td>0.0</td>\n",
       "      <td>0.0</td>\n",
       "      <td>0.0</td>\n",
       "    </tr>\n",
       "    <tr>\n",
       "      <th>2</th>\n",
       "      <td>0.0</td>\n",
       "      <td>0.051541</td>\n",
       "      <td>0.151543</td>\n",
       "      <td>0.085368</td>\n",
       "      <td>2.0</td>\n",
       "      <td>2.0</td>\n",
       "      <td>0.0</td>\n",
       "      <td>0.0</td>\n",
       "    </tr>\n",
       "    <tr>\n",
       "      <th>3</th>\n",
       "      <td>0.0</td>\n",
       "      <td>0.050038</td>\n",
       "      <td>0.151543</td>\n",
       "      <td>0.085368</td>\n",
       "      <td>0.0</td>\n",
       "      <td>0.0</td>\n",
       "      <td>0.0</td>\n",
       "      <td>0.0</td>\n",
       "    </tr>\n",
       "    <tr>\n",
       "      <th>4</th>\n",
       "      <td>0.0</td>\n",
       "      <td>0.111111</td>\n",
       "      <td>0.151543</td>\n",
       "      <td>0.085368</td>\n",
       "      <td>0.0</td>\n",
       "      <td>3.0</td>\n",
       "      <td>1.0</td>\n",
       "      <td>3.0</td>\n",
       "    </tr>\n",
       "  </tbody>\n",
       "</table>\n",
       "</div>"
      ],
      "text/plain": [
       "   item_cnt_month  mean_month_shop  mean_month_cat  mean_by_year  \\\n",
       "0             1.0         0.034671        0.151543      0.085368   \n",
       "1             0.0         0.033333        0.151543      0.085368   \n",
       "2             0.0         0.051541        0.151543      0.085368   \n",
       "3             0.0         0.050038        0.151543      0.085368   \n",
       "4             0.0         0.111111        0.151543      0.085368   \n",
       "\n",
       "   item_cnt_1_ago  item_cnt_2_ago  item_cnt_3_ago  item_cnt_4_ago  \n",
       "0             1.0             1.0             1.0             1.0  \n",
       "1             0.0             0.0             0.0             0.0  \n",
       "2             2.0             2.0             0.0             0.0  \n",
       "3             0.0             0.0             0.0             0.0  \n",
       "4             0.0             3.0             1.0             3.0  "
      ]
     },
     "execution_count": 45,
     "metadata": {},
     "output_type": "execute_result"
    }
   ],
   "source": [
    "chosen.head()"
   ]
  },
  {
   "cell_type": "code",
   "execution_count": 46,
   "metadata": {},
   "outputs": [],
   "source": [
    "test.to_csv('test_features.csv', index=False)"
   ]
  }
 ],
 "metadata": {
  "kernelspec": {
   "display_name": "Python 3",
   "language": "python",
   "name": "python3"
  },
  "language_info": {
   "codemirror_mode": {
    "name": "ipython",
    "version": 3
   },
   "file_extension": ".py",
   "mimetype": "text/x-python",
   "name": "python",
   "nbconvert_exporter": "python",
   "pygments_lexer": "ipython3",
   "version": "3.6.2"
  }
 },
 "nbformat": 4,
 "nbformat_minor": 2
}
